{
 "cells": [
  {
   "cell_type": "code",
   "execution_count": 2,
   "metadata": {},
   "outputs": [
    {
     "name": "stdout",
     "output_type": "stream",
     "text": [
      "Collecting gensim\n",
      "  Using cached gensim-3.8.3-cp37-cp37m-win_amd64.whl (24.2 MB)\n",
      "Requirement already satisfied: six>=1.5.0 in c:\\users\\lost\\anaconda3\\lib\\site-packages (from gensim) (1.12.0)\n",
      "Requirement already satisfied: numpy>=1.11.3 in c:\\users\\lost\\anaconda3\\lib\\site-packages (from gensim) (1.16.4)\n",
      "Requirement already satisfied: scipy>=0.18.1 in c:\\users\\lost\\anaconda3\\lib\\site-packages (from gensim) (1.2.1)\n",
      "Collecting Cython==0.29.14\n",
      "  Using cached Cython-0.29.14-cp37-cp37m-win_amd64.whl (1.7 MB)\n",
      "Collecting smart-open>=1.8.1\n",
      "  Downloading smart_open-4.1.0.tar.gz (116 kB)\n",
      "Building wheels for collected packages: smart-open\n",
      "  Building wheel for smart-open (setup.py): started\n",
      "  Building wheel for smart-open (setup.py): finished with status 'done'\n",
      "  Created wheel for smart-open: filename=smart_open-4.1.0-py3-none-any.whl size=106209 sha256=4f2132f7149189ffee8bf7dca33586771513b9197659efc11f94dec1e7dc9a8b\n",
      "  Stored in directory: c:\\users\\lost\\appdata\\local\\pip\\cache\\wheels\\12\\af\\e0\\2adc6007eb052d6eb4ac8f01c5f699e4bc479f5ba764aadeb6\n",
      "Successfully built smart-open\n",
      "Installing collected packages: smart-open, Cython, gensim\n",
      "  Attempting uninstall: Cython\n",
      "    Found existing installation: Cython 0.29.12\n",
      "    Uninstalling Cython-0.29.12:\n",
      "      Successfully uninstalled Cython-0.29.12\n",
      "Successfully installed Cython-0.29.14 gensim-3.8.3 smart-open-4.1.0\n"
     ]
    }
   ],
   "source": [
    "!pip install gensim"
   ]
  },
  {
   "cell_type": "code",
   "execution_count": 1,
   "metadata": {
    "scrolled": true
   },
   "outputs": [],
   "source": [
    "from gensim.models import KeyedVectors"
   ]
  },
  {
   "cell_type": "code",
   "execution_count": 2,
   "metadata": {},
   "outputs": [],
   "source": [
    "model = KeyedVectors.load_word2vec_format(\"freebase-vectors-skipgram1000-en.bin.gz\", binary=True, limit=100000)"
   ]
  },
  {
   "cell_type": "code",
   "execution_count": 73,
   "metadata": {},
   "outputs": [],
   "source": [
    "model2 = KeyedVectors.load_word2vec_format(\"GoogleNews-vectors-negative300.bin.gz\", binary=True, limit=100000)"
   ]
  },
  {
   "cell_type": "code",
   "execution_count": 3,
   "metadata": {},
   "outputs": [
    {
     "ename": "KeyError",
     "evalue": "\"word 'data' not in vocabulary\"",
     "output_type": "error",
     "traceback": [
      "\u001b[1;31m---------------------------------------------------------------------------\u001b[0m",
      "\u001b[1;31mKeyError\u001b[0m                                  Traceback (most recent call last)",
      "\u001b[1;32m<ipython-input-3-589b14998062>\u001b[0m in \u001b[0;36m<module>\u001b[1;34m\u001b[0m\n\u001b[1;32m----> 1\u001b[1;33m \u001b[0mmodel\u001b[0m\u001b[1;33m.\u001b[0m\u001b[0msimilar_by_vector\u001b[0m\u001b[1;33m(\u001b[0m\u001b[0mmodel\u001b[0m\u001b[1;33m[\u001b[0m\u001b[1;34m\"data\"\u001b[0m\u001b[1;33m]\u001b[0m\u001b[1;33m)\u001b[0m\u001b[1;33m\u001b[0m\u001b[1;33m\u001b[0m\u001b[0m\n\u001b[0m",
      "\u001b[1;32m~\\Anaconda3\\lib\\site-packages\\gensim\\models\\keyedvectors.py\u001b[0m in \u001b[0;36m__getitem__\u001b[1;34m(self, entities)\u001b[0m\n\u001b[0;32m    351\u001b[0m         \u001b[1;32mif\u001b[0m \u001b[0misinstance\u001b[0m\u001b[1;33m(\u001b[0m\u001b[0mentities\u001b[0m\u001b[1;33m,\u001b[0m \u001b[0mstring_types\u001b[0m\u001b[1;33m)\u001b[0m\u001b[1;33m:\u001b[0m\u001b[1;33m\u001b[0m\u001b[1;33m\u001b[0m\u001b[0m\n\u001b[0;32m    352\u001b[0m             \u001b[1;31m# allow calls like trained_model['office'], as a shorthand for trained_model[['office']]\u001b[0m\u001b[1;33m\u001b[0m\u001b[1;33m\u001b[0m\u001b[1;33m\u001b[0m\u001b[0m\n\u001b[1;32m--> 353\u001b[1;33m             \u001b[1;32mreturn\u001b[0m \u001b[0mself\u001b[0m\u001b[1;33m.\u001b[0m\u001b[0mget_vector\u001b[0m\u001b[1;33m(\u001b[0m\u001b[0mentities\u001b[0m\u001b[1;33m)\u001b[0m\u001b[1;33m\u001b[0m\u001b[1;33m\u001b[0m\u001b[0m\n\u001b[0m\u001b[0;32m    354\u001b[0m \u001b[1;33m\u001b[0m\u001b[0m\n\u001b[0;32m    355\u001b[0m         \u001b[1;32mreturn\u001b[0m \u001b[0mvstack\u001b[0m\u001b[1;33m(\u001b[0m\u001b[1;33m[\u001b[0m\u001b[0mself\u001b[0m\u001b[1;33m.\u001b[0m\u001b[0mget_vector\u001b[0m\u001b[1;33m(\u001b[0m\u001b[0mentity\u001b[0m\u001b[1;33m)\u001b[0m \u001b[1;32mfor\u001b[0m \u001b[0mentity\u001b[0m \u001b[1;32min\u001b[0m \u001b[0mentities\u001b[0m\u001b[1;33m]\u001b[0m\u001b[1;33m)\u001b[0m\u001b[1;33m\u001b[0m\u001b[1;33m\u001b[0m\u001b[0m\n",
      "\u001b[1;32m~\\Anaconda3\\lib\\site-packages\\gensim\\models\\keyedvectors.py\u001b[0m in \u001b[0;36mget_vector\u001b[1;34m(self, word)\u001b[0m\n\u001b[0;32m    469\u001b[0m \u001b[1;33m\u001b[0m\u001b[0m\n\u001b[0;32m    470\u001b[0m     \u001b[1;32mdef\u001b[0m \u001b[0mget_vector\u001b[0m\u001b[1;33m(\u001b[0m\u001b[0mself\u001b[0m\u001b[1;33m,\u001b[0m \u001b[0mword\u001b[0m\u001b[1;33m)\u001b[0m\u001b[1;33m:\u001b[0m\u001b[1;33m\u001b[0m\u001b[1;33m\u001b[0m\u001b[0m\n\u001b[1;32m--> 471\u001b[1;33m         \u001b[1;32mreturn\u001b[0m \u001b[0mself\u001b[0m\u001b[1;33m.\u001b[0m\u001b[0mword_vec\u001b[0m\u001b[1;33m(\u001b[0m\u001b[0mword\u001b[0m\u001b[1;33m)\u001b[0m\u001b[1;33m\u001b[0m\u001b[1;33m\u001b[0m\u001b[0m\n\u001b[0m\u001b[0;32m    472\u001b[0m \u001b[1;33m\u001b[0m\u001b[0m\n\u001b[0;32m    473\u001b[0m     \u001b[1;32mdef\u001b[0m \u001b[0mwords_closer_than\u001b[0m\u001b[1;33m(\u001b[0m\u001b[0mself\u001b[0m\u001b[1;33m,\u001b[0m \u001b[0mw1\u001b[0m\u001b[1;33m,\u001b[0m \u001b[0mw2\u001b[0m\u001b[1;33m)\u001b[0m\u001b[1;33m:\u001b[0m\u001b[1;33m\u001b[0m\u001b[1;33m\u001b[0m\u001b[0m\n",
      "\u001b[1;32m~\\Anaconda3\\lib\\site-packages\\gensim\\models\\keyedvectors.py\u001b[0m in \u001b[0;36mword_vec\u001b[1;34m(self, word, use_norm)\u001b[0m\n\u001b[0;32m    466\u001b[0m             \u001b[1;32mreturn\u001b[0m \u001b[0mresult\u001b[0m\u001b[1;33m\u001b[0m\u001b[1;33m\u001b[0m\u001b[0m\n\u001b[0;32m    467\u001b[0m         \u001b[1;32melse\u001b[0m\u001b[1;33m:\u001b[0m\u001b[1;33m\u001b[0m\u001b[1;33m\u001b[0m\u001b[0m\n\u001b[1;32m--> 468\u001b[1;33m             \u001b[1;32mraise\u001b[0m \u001b[0mKeyError\u001b[0m\u001b[1;33m(\u001b[0m\u001b[1;34m\"word '%s' not in vocabulary\"\u001b[0m \u001b[1;33m%\u001b[0m \u001b[0mword\u001b[0m\u001b[1;33m)\u001b[0m\u001b[1;33m\u001b[0m\u001b[1;33m\u001b[0m\u001b[0m\n\u001b[0m\u001b[0;32m    469\u001b[0m \u001b[1;33m\u001b[0m\u001b[0m\n\u001b[0;32m    470\u001b[0m     \u001b[1;32mdef\u001b[0m \u001b[0mget_vector\u001b[0m\u001b[1;33m(\u001b[0m\u001b[0mself\u001b[0m\u001b[1;33m,\u001b[0m \u001b[0mword\u001b[0m\u001b[1;33m)\u001b[0m\u001b[1;33m:\u001b[0m\u001b[1;33m\u001b[0m\u001b[1;33m\u001b[0m\u001b[0m\n",
      "\u001b[1;31mKeyError\u001b[0m: \"word 'data' not in vocabulary\""
     ]
    }
   ],
   "source": [
    "model.similar_by_vector(model[\"data\"])"
   ]
  },
  {
   "cell_type": "code",
   "execution_count": 13,
   "metadata": {},
   "outputs": [
    {
     "data": {
      "text/plain": [
       "[('football', 0.44959577918052673),\n",
       " ('tennis', 0.4452279806137085),\n",
       " ('volleyball', 0.4294494390487671),\n",
       " ('soccer', 0.42278754711151123),\n",
       " ('lacrosse', 0.4029349684715271),\n",
       " ('baseball', 0.4028257429599762),\n",
       " ('feet', 0.39921486377716064),\n",
       " ('athletic', 0.39867401123046875),\n",
       " ('pounder', 0.3889932632446289),\n",
       " ('athlete', 0.3880760073661804)]"
      ]
     },
     "execution_count": 13,
     "metadata": {},
     "output_type": "execute_result"
    }
   ],
   "source": [
    "model.most_similar(positive=[\"basketball\", \"foot\"], negative=[\"basket\"])"
   ]
  },
  {
   "cell_type": "code",
   "execution_count": 4,
   "metadata": {},
   "outputs": [],
   "source": [
    "from MulticoreTSNE import MulticoreTSNE as TSNE"
   ]
  },
  {
   "cell_type": "code",
   "execution_count": 84,
   "metadata": {},
   "outputs": [],
   "source": [
    "\n",
    "tsne = TSNE(n_jobs=10, perplexity=10)\n",
    "transformed_vectors = tsne.fit_transform(model.vectors[:250])\n"
   ]
  },
  {
   "cell_type": "code",
   "execution_count": 85,
   "metadata": {},
   "outputs": [],
   "source": [
    "transformed_vectors2=tsne.fit_transform(model2.vectors[:250])"
   ]
  },
  {
   "cell_type": "code",
   "execution_count": 6,
   "metadata": {
    "scrolled": true
   },
   "outputs": [
    {
     "data": {
      "text/html": [
       "        <script type=\"text/javascript\">\n",
       "        window.PlotlyConfig = {MathJaxConfig: 'local'};\n",
       "        if (window.MathJax) {MathJax.Hub.Config({SVG: {font: \"STIX-Web\"}});}\n",
       "        if (typeof require !== 'undefined') {\n",
       "        require.undef(\"plotly\");\n",
       "        requirejs.config({\n",
       "            paths: {\n",
       "                'plotly': ['https://cdn.plot.ly/plotly-latest.min']\n",
       "            }\n",
       "        });\n",
       "        require(['plotly'], function(Plotly) {\n",
       "            window._Plotly = Plotly;\n",
       "        });\n",
       "        }\n",
       "        </script>\n",
       "        "
      ]
     },
     "metadata": {},
     "output_type": "display_data"
    }
   ],
   "source": [
    "import plotly.offline as py\n",
    "py.init_notebook_mode(connected=True)\n",
    "import plotly.graph_objs as go"
   ]
  },
  {
   "cell_type": "code",
   "execution_count": 77,
   "metadata": {},
   "outputs": [
    {
     "data": {
      "text/plain": [
       "array([[13.22109737, 16.95751822]])"
      ]
     },
     "execution_count": 77,
     "metadata": {},
     "output_type": "execute_result"
    }
   ],
   "source": [
    "transformed_vectors[:1]"
   ]
  },
  {
   "cell_type": "code",
   "execution_count": 78,
   "metadata": {},
   "outputs": [
    {
     "data": {
      "text/plain": [
       "array([[-0.47342865,  1.58028931]])"
      ]
     },
     "execution_count": 78,
     "metadata": {},
     "output_type": "execute_result"
    }
   ],
   "source": [
    "transformed_vectors2[:1]"
   ]
  },
  {
   "cell_type": "code",
   "execution_count": 86,
   "metadata": {},
   "outputs": [
    {
     "data": {
      "application/vnd.plotly.v1+json": {
       "config": {
        "linkText": "Export to plot.ly",
        "plotlyServerURL": "https://plot.ly",
        "showLink": false
       },
       "data": [
        {
         "marker": {
          "colorscale": [
           [
            0,
            "rgb(0,0,131)"
           ],
           [
            0.2,
            "rgb(0,60,170)"
           ],
           [
            0.4,
            "rgb(5,255,255)"
           ],
           [
            0.6,
            "rgb(255,255,0)"
           ],
           [
            0.8,
            "rgb(250,0,0)"
           ],
           [
            1,
            "rgb(128,0,0)"
           ]
          ],
          "line": {
           "color": "rgb(255, 255, 255)",
           "width": 2
          },
          "opacity": 0.8,
          "showscale": false,
          "size": 8
         },
         "mode": "markers",
         "showlegend": true,
         "text": [
          "/en/united_states",
          "/en/associated_press",
          "/en/barack_obama",
          "/en/china",
          "/en/united_kingdom",
          "/en/new_york",
          "/en/india",
          "/en/europe",
          "/en/washington_united_states",
          "/en/canada",
          "/en/iraq",
          "/en/israel",
          "/en/california",
          "/en/republican_party",
          "/en/austraila",
          "/en/japan",
          "/en/france",
          "/en/russia",
          "/en/iran",
          "/en/germany",
          "/en/afghanistan",
          "/en/london",
          "/en/pakistan",
          "/en/florida",
          "/en/nyse",
          "/en/congress_u_s",
          "/en/texas",
          "/en/england",
          "/en/democrat_party",
          "/en/italy",
          "/en/nasdaq",
          "/en/european_union",
          "/en/spain",
          "/en/white_house",
          "/en/los_angeles",
          "/en/united_staff",
          "/en/reuters",
          "/en/south_africa",
          "/en/mexico",
          "/en/asia",
          "/en/national_football_league",
          "/en/apple_inc",
          "/en/australian_senate",
          "/en/facebook",
          "/en/chicago",
          "/en/greece",
          "/en/google",
          "/en/egypt",
          "/en/george_h_w_bush",
          "/en/syria",
          "/en/democracy",
          "/en/north_carolina",
          "/en/microsoft",
          "/en/mitt_romney",
          "/en/ohio",
          "/en/new_jersey",
          "/en/brazil",
          "/en/federal_reserve_system",
          "/en/turkey",
          "/en/twitter",
          "/en/god",
          "/en/olympic_games",
          "/en/john_mccain",
          "/en/state_of_palestine",
          "/en/south_korea",
          "/en/illinois",
          "/en/muslim",
          "/en/michigan",
          "/en/arizona",
          "/en/hillary_rodham_clinton",
          "/en/north_america",
          "/en/christmas",
          "/en/libya",
          "/en/africa",
          "/en/united_states_securities_and_exchange_commission",
          "/en/george_w_bush",
          "/en/beijing",
          "/en/islam",
          "/en/new_zealand",
          "/en/supreme_court",
          "/en/taliban_movement",
          "/en/north_korea",
          "/en/middle_east",
          "/en/united_states_house_of_representatives",
          "/en/massachusetts",
          "/en/al-qaeda",
          "/en/national_basketball_association",
          "/en/new_york_yankees",
          "/en/boston_red_sox",
          "/en/republicans",
          "/en/wall_street",
          "/en/general_motors",
          "/en/san_francisco",
          "/en/republic_of_ireland",
          "/en/minnesota",
          "/en/iowa",
          "/en/wisconsin",
          "/en/switzerland",
          "/en/paris",
          "/en/north_atlantic_treaty_organization",
          "/en/netherlands",
          "/en/new_york_state",
          "/en/pennsylvania",
          "/en/hong_kong",
          "/en/manchester_united_fc",
          "/en/colorado",
          "/en/detroit_tigers",
          "/en/nigeria",
          "/en/food_and_drug_administration",
          "/en/indiana",
          "/en/st_louis_cardinals",
          "/en/south_carolina",
          "/en/iphone",
          "/en/national_hockey_league",
          "/en/federal_bureau_of_investigation",
          "/en/saudi_arabia",
          "/en/toronto",
          "/en/swedem",
          "/en/fifa_world_cup",
          "/en/scotland",
          "/en/dow_jones_industrial_average",
          "/en/connecticut",
          "/en/chelsea_fc",
          "/en/philippines",
          "/en/singapore",
          "/en/new_delhi",
          "/en/tennesee",
          "/en/thailand",
          "/en/philadelphia_phillies",
          "/en/miami_heat",
          "/en/arab",
          "/en/boston_massachusetts",
          "/en/cuba",
          "/en/philadelphia_eagles",
          "/en/georgia",
          "/en/hollywood",
          "/en/western_world",
          "/en/bp",
          "/en/mumbai",
          "/en/kansas",
          "/en/lebanon",
          "/en/indonesia",
          "/en/argentina",
          "/en/hamas",
          "/en/tokyo",
          "/en/fa_premier_league",
          "/en/texas_rangers",
          "/en/poland",
          "/en/jew",
          "/en/pittsburgh_steelers",
          "/en/atlanta",
          "/en/tiger_woods",
          "/en/philadelphia",
          "/en/chinese_taipei",
          "/en/baghdad",
          "/en/detroit_michigan",
          "/en/houston",
          "/en/national_collegiate_athletic_association",
          "/en/green_bay_packers",
          "/en/moscow",
          "/en/the_new_york_times",
          "/en/vietnam",
          "/en/alabama",
          "/en/international_monetary_fund",
          "/en/haiti",
          "/en/ford_motor_company",
          "/en/muammar_al-gaddafi",
          "/en/boston_celtics",
          "/en/somalia",
          "/en/malaysia",
          "/en/ontario",
          "/m/036nz",
          "/en/new_hampshire",
          "/en/los_angeles_lakers",
          "/en/san_francisco_giants",
          "/en/super_bowl",
          "/en/toyota_motor_corporation",
          "/en/liverpool_fc",
          "/en/nevada",
          "/en/atlanta_braves",
          "/en/kenya",
          "/en/oklahoma",
          "/en/shia_islam",
          "/en/new_york_mets",
          "/en/new_orleans",
          "/en/chicago_cubs",
          "/en/alaska",
          "/en/cleveland_cavaliers",
          "/m/019rl6",
          "/en/nasa",
          "/en/louisiana",
          "/en/wal-mart",
          "/en/british_columbia",
          "/en/new_york_giants",
          "/en/bloomberg_television",
          "/en/seattle",
          "/en/ukraine",
          "/en/s_p_500",
          "/en/medicare",
          "/en/pr_newswire",
          "/en/sarah_palin",
          "/en/arsenal_fc",
          "/en/dubai",
          "/en/nbc",
          "/en/missouri",
          "/en/business_wire",
          "/en/united_nations_security_council",
          "/en/parliament_of_the_united_kingdom",
          "/en/los_angeles_dodgers",
          "/en/agence_france-presse",
          "/en/youtube",
          "/en/venezuela",
          "/en/tehran",
          "/en/michael_jackson",
          "/en/sydney",
          "/en/united_states_environmental_protection_agency",
          "/en/utah",
          "/en/army",
          "/en/cincinnati_reds",
          "/en/united_arab_emirates",
          "/en/gphone",
          "/en/new_york_jets",
          "/en/ipad",
          "/en/boston_bruins",
          "/en/washington",
          "/en/dallas",
          "/en/maryland",
          "/en/at_t",
          "/en/las_vegas_metropolitan_area",
          "/en/seattle_mariners",
          "/en/denver",
          "/en/milwaukee_brewers",
          "/en/new_england_patriots",
          "/en/lebron_james",
          "/en/osama_bin_laden",
          "/en/african_american",
          "/en/yemen",
          "/en/minnesota_twins",
          "/en/chicago_white_sox",
          "/en/zimbabwe",
          "/en/gaza",
          "/en/portugal",
          "/en/city_council",
          "/en/mississippi",
          "/en/latin_america",
          "/en/san_diego",
          "/en/norway",
          "/en/run_batted_in",
          "/en/serbia",
          "/en/earth"
         ],
         "type": "scatter",
         "x": [
          -3.9142645952344113,
          -10.64913782412463,
          -5.868464817222426,
          -9.254912049656985,
          -0.9883714527312573,
          16.100286211745598,
          -17.81370734913976,
          -10.993213717378625,
          -5.238913749735439,
          -2.578981866655581,
          -31.655839397474743,
          -23.17456215835606,
          19.591722404508364,
          -8.599759358673666,
          -2.717160532709101,
          -10.010474394148336,
          -3.5264551871703134,
          -15.357311095071823,
          -27.21152167237288,
          -3.8746689423871676,
          -30.296829306826165,
          -1.3065950970740645,
          -29.706042044094687,
          5.030977927330778,
          6.749932145679885,
          -9.929783266492041,
          11.593128019646079,
          0.6739006105756251,
          -9.269606271291858,
          -5.388987419466582,
          6.767118071544995,
          -9.60269754184088,
          -6.105671072664191,
          -5.984207207766784,
          20.103924888689548,
          -26.638547706931494,
          -9.647774528534118,
          -12.12955021085257,
          -11.816468891792947,
          -11.6938524864366,
          20.938424904817694,
          16.552224520191402,
          -10.494721402553397,
          19.8851606815346,
          10.566510116313511,
          -7.575943379604474,
          16.748031646785265,
          -22.573455501533903,
          -7.153293804167795,
          -24.897151710730615,
          -8.562243098735069,
          6.470574229568702,
          16.03563254113813,
          -6.381518821660077,
          7.678786834147746,
          14.300818841366167,
          -10.451785075963516,
          4.110094677607388,
          -24.589650211929776,
          20.1077355549415,
          -21.766544325089185,
          -9.502109029635092,
          -6.129074862943296,
          -23.383082726353592,
          -12.507924001393807,
          9.613404494281324,
          -22.519564091158113,
          6.4709172810554785,
          18.159451931302602,
          -5.875469699274232,
          -12.865198719621919,
          12.899417972930099,
          -27.94512062940354,
          -15.847662589466188,
          4.770417195470598,
          -7.174701483209254,
          -9.34488992555714,
          -22.718319403363605,
          -3.123635320099911,
          -10.725703789999303,
          -29.92286053539921,
          -12.797963188052098,
          -20.423804391211945,
          -10.9370573214931,
          11.989029179883063,
          -27.969725845995836,
          25.62104202012173,
          26.486620183172334,
          26.702417680260123,
          -9.656689457434565,
          4.722586350422889,
          9.607710250782542,
          18.517754038819245,
          -6.199428308687174,
          8.067957186817823,
          9.734414767072899,
          7.844046782538864,
          -4.464700859698617,
          -3.117090509591807,
          -29.94943327520544,
          -3.0453027698470323,
          15.880174386569221,
          13.228205719015154,
          -7.380103877599804,
          2.6808244813615905,
          16.0067450278621,
          28.629870574352374,
          -16.7929077110953,
          -9.214706995919308,
          8.36634730391697,
          25.985748991532898,
          6.478175683274998,
          17.045235529803318,
          24.072915403066165,
          -28.27915916679399,
          -23.483730213307563,
          -1.4027358373595402,
          -3.362434020715986,
          -10.57122419918809,
          0.4461799792194937,
          5.803755851168294,
          12.982347180538445,
          1.6489321965479131,
          -4.220544875079823,
          -6.472776532866215,
          -18.111388576540573,
          7.012179169268482,
          -5.635677177373388,
          24.348522630757756,
          27.881904023697007,
          -22.104495372918937,
          12.43018344617625,
          -13.87869559975162,
          18.244212345441717,
          6.406551463004655,
          20.264323059357086,
          -25.933494369821794,
          3.6197328104266373,
          -18.22230551519608,
          9.455774192444174,
          -24.949822516259754,
          -5.079878684907175,
          -10.34029242425779,
          -24.345576389939232,
          -9.976676075862729,
          2.462271987135186,
          28.048750872710514,
          -14.632207366694113,
          -22.27051680474249,
          18.924694968164292,
          9.951462261225663,
          28.14814989912821,
          13.144093275349745,
          -8.449841621610387,
          -31.550180748780594,
          6.005041310078722,
          12.001489958059857,
          22.966717637631188,
          18.29858118263797,
          -15.604396525515059,
          17.196038254091583,
          -5.564594740256855,
          5.781091199942803,
          -8.581529735150772,
          -15.339758127355958,
          9.672005580402915,
          -28.023985730984627,
          26.87600435686252,
          -18.34071903012396,
          -5.665455358045615,
          -1.464557296875935,
          -15.418812615807287,
          10.666419221149791,
          26.323900976934862,
          23.42876891891674,
          19.81830275017508,
          9.671666541775455,
          1.6758006370977125,
          18.35454129568687,
          25.023872235330657,
          -17.876437378879906,
          9.790901741693672,
          -31.2451264890967,
          24.48564466338519,
          5.281365454791724,
          24.684528579952957,
          -4.413503881916369,
          27.238855139911987,
          16.51623399102794,
          -19.317933380604288,
          5.0518509581661455,
          14.225600911850448,
          -1.4745907155968592,
          19.00349956616259,
          -8.5001490729887,
          15.981153942451096,
          -14.86051720916536,
          6.103868404096099,
          -11.160894600998676,
          7.39820720787556,
          -4.920018560638851,
          2.4237810682439003,
          -22.285801747749247,
          18.14232390917407,
          9.2999201904689,
          7.311763379433246,
          -26.664578132584893,
          -15.33533554038182,
          23.51651504357433,
          -9.999846312518443,
          19.154352639798294,
          -13.495664174681462,
          -27.413307178625853,
          21.593471953247356,
          -2.133058237783129,
          -9.286037319439108,
          17.264714362056576,
          -32.43783413878859,
          25.67392379167342,
          -22.57496056241963,
          17.641688516800574,
          19.799332152150264,
          17.397099143725043,
          24.129428031561876,
          16.04059802522924,
          11.783719329824791,
          13.217538273346786,
          15.443665883640355,
          18.69272346955234,
          28.638291867624954,
          15.51901411196175,
          25.178842544587894,
          19.7223673077353,
          27.627328278847422,
          -28.231019365832037,
          -3.742781560509889,
          -26.371160645003275,
          27.94822770756154,
          27.72914658358401,
          -12.640790391013773,
          -24.17239442933516,
          -6.533650856984356,
          -12.312320627980805,
          5.643849615260438,
          -13.21881742572799,
          19.214274488244182,
          -3.220532352973904,
          28.830550190317854,
          -13.537020603148276,
          -19.332423326509993
         ],
         "y": [
          -7.086731128871194,
          -6.80213368838671,
          -18.838977090588212,
          2.8062277243423104,
          9.025798449572626,
          -13.96071845494784,
          20.51207106097966,
          9.846078448119442,
          -16.463065763025888,
          -7.108139988397184,
          11.132696731361088,
          8.751924875662096,
          -18.862876920162357,
          -21.806965299544952,
          4.873652097622994,
          -0.5136103833318384,
          10.876405991190833,
          5.04813107574448,
          6.940968916927742,
          12.003334988003918,
          13.671880564712383,
          8.808401943950631,
          15.224078470002636,
          -25.277917834605837,
          -8.303345808317442,
          -17.548440683871156,
          -24.539785575637488,
          10.432556747472244,
          -20.37309042192749,
          11.541050983123872,
          -8.369053807112714,
          9.137888209706084,
          11.166639638174452,
          -17.630819383108285,
          -17.541294575872463,
          3.9515979249732105,
          -5.793995882430732,
          17.848853882232508,
          13.495605620610478,
          9.96720093358689,
          13.942110422132863,
          -0.463914843362518,
          -18.76858348359931,
          -3.5824122735265123,
          -19.562667322348943,
          9.853235964760698,
          -2.644778647958116,
          11.111684449723075,
          -17.78796692013162,
          11.157331109502566,
          -21.013840665321403,
          -23.603809468876495,
          -2.4347758226428997,
          -21.841004859337435,
          -19.851354693895637,
          -17.716831998550873,
          14.533449986289185,
          -4.688603707486006,
          12.15950218159971,
          -3.5749780250342464,
          3.93050809463477,
          4.473075740227998,
          -21.305667412935147,
          8.373037429778975,
          0.6548957676613414,
          -19.71149223764073,
          5.433344751153787,
          -18.632325762594938,
          -23.461665174305452,
          -20.164918619290173,
          10.719138710601696,
          1.2803931294294348,
          10.579504450434213,
          12.556082737367374,
          -7.367421279363362,
          -17.9274710840052,
          3.2124718991725465,
          5.471566545996468,
          5.074767667632554,
          -16.535747653915664,
          14.280765518257507,
          0.6621635445651308,
          10.762133660751266,
          -18.62525090696196,
          -16.241343008571285,
          15.672750759961545,
          13.720045785570905,
          22.017918669841563,
          21.97164079329967,
          -20.392406941434288,
          -5.2218453187834895,
          -1.7358461449772462,
          -18.323890825253088,
          9.625735243314844,
          -16.491663112875166,
          -16.1202161717502,
          -16.77628100670503,
          13.393015178122909,
          10.28483616202671,
          12.85836987139912,
          13.301119941828556,
          -14.187529106858893,
          -19.51138710200195,
          1.8478271443569219,
          21.724769150319652,
          -23.229830198100906,
          23.935487266325005,
          12.707421480645577,
          -13.397371271328245,
          -19.862048941721856,
          25.86942508022209,
          -24.295021882203066,
          0.012358486646236523,
          16.92018793942982,
          17.377080470753516,
          14.748291768813859,
          -6.963386932134162,
          14.592842577101186,
          17.73064515310166,
          10.063705124549879,
          -5.236066614348107,
          -15.650459110507798,
          22.22771211287254,
          0.35976725631678236,
          1.5196896961424178,
          21.12507907400227,
          -26.53088442292483,
          -0.21044434775283632,
          24.40971155425268,
          14.131683909980262,
          10.375123393984044,
          -17.11457754185516,
          14.704655164738568,
          15.424191590436442,
          -25.420548194862867,
          -16.362365969229014,
          6.611584509936215,
          -28.90984060476418,
          21.26915099857722,
          -22.453487774952755,
          10.749538382967295,
          0.7596558154398654,
          14.671361072602926,
          8.510970900270628,
          -0.626244077994996,
          21.074602595254433,
          21.81516402085474,
          6.641448035256472,
          7.316702267403613,
          13.036569206827323,
          -25.902120339344442,
          11.758967861560324,
          -18.450502096282325,
          1.8059441008392805,
          10.635344946202787,
          -18.403243928117092,
          -25.485358889045305,
          13.604215485462326,
          13.864208172430759,
          4.778384478883625,
          -12.181498380856098,
          -0.9228729373279551,
          -26.63406854435207,
          9.152325464590037,
          15.573734029575022,
          -1.377745601798754,
          10.574594892348777,
          14.7077494115038,
          14.237707947129126,
          0.9736873851554692,
          -7.4334994546954345,
          -14.776179302538116,
          -15.952546004241064,
          14.40696631119653,
          25.759614528431324,
          13.245459090018667,
          -0.6745327721083427,
          21.423155768902696,
          -21.989294539915498,
          24.661049591915845,
          14.078753272772817,
          -22.991200370669908,
          10.016627096363704,
          23.777149493797353,
          -29.040290678298323,
          26.41335344272151,
          -23.64764295950025,
          13.787598632724897,
          -3.212421913059349,
          -6.924119915973867,
          -28.321418663258648,
          0.16336740563180496,
          -8.12295308513408,
          14.564829683262904,
          -5.521583423301643,
          -26.851089664782663,
          5.810882910567372,
          -5.295388433769443,
          -21.078032405216195,
          -10.102392937161527,
          -23.10114164191774,
          22.29748518777515,
          15.82732829941544,
          -11.424296602172314,
          -22.053272607512717,
          -9.84574973377685,
          4.005540561267859,
          -14.84634597191102,
          25.257365010362644,
          -5.864965640919585,
          -3.9961805421305243,
          14.450065247446442,
          6.929338357336402,
          -17.031819243419108,
          4.574656959394365,
          -13.73861311371194,
          -23.0995915600778,
          12.608914413431165,
          27.093291252787626,
          15.549425947464773,
          -0.7529028381067534,
          14.86007874421681,
          0.21624262462183458,
          17.006354242351886,
          -26.947448946755454,
          -25.42098025667695,
          -20.076730385093313,
          0.028473862957832847,
          -21.526899781048776,
          22.356110716511697,
          -23.310737414063652,
          26.150716382014703,
          14.276992031044557,
          13.103066928822336,
          16.023118679165673,
          -19.19587312907422,
          15.05939106875195,
          23.237985672754004,
          23.584315409043374,
          17.90466848377963,
          8.904899269665968,
          10.545111804538754,
          -18.349610249176514,
          -27.39443900952842,
          12.02118498516354,
          -18.63216267568488,
          14.683464356362366,
          25.43480873260468,
          5.966408004408015,
          -6.871328524321107
         ]
        },
        {
         "marker": {
          "colorscale": [
           [
            0,
            "rgb(0,0,131)"
           ],
           [
            0.2,
            "rgb(0,60,170)"
           ],
           [
            0.4,
            "rgb(5,255,255)"
           ],
           [
            0.6,
            "rgb(255,255,0)"
           ],
           [
            0.8,
            "rgb(250,0,0)"
           ],
           [
            1,
            "rgb(128,0,0)"
           ]
          ],
          "line": {
           "color": "rgb(255, 255, 0)",
           "width": 2
          },
          "opacity": 0.8,
          "showscale": false,
          "size": 8
         },
         "mode": "markers",
         "showlegend": true,
         "text": [
          "</s>",
          "in",
          "for",
          "that",
          "is",
          "on",
          "##",
          "The",
          "with",
          "said",
          "was",
          "the",
          "at",
          "not",
          "as",
          "it",
          "be",
          "from",
          "by",
          "are",
          "I",
          "have",
          "he",
          "will",
          "has",
          "####",
          "his",
          "an",
          "this",
          "or",
          "their",
          "who",
          "they",
          "but",
          "$",
          "had",
          "year",
          "were",
          "we",
          "more",
          "###",
          "up",
          "been",
          "you",
          "its",
          "one",
          "about",
          "would",
          "which",
          "out",
          "can",
          "It",
          "all",
          "also",
          "two",
          "after",
          "first",
          "He",
          "do",
          "time",
          "than",
          "when",
          "We",
          "over",
          "last",
          "new",
          "other",
          "her",
          "people",
          "into",
          "In",
          "our",
          "there",
          "A",
          "she",
          "could",
          "just",
          "years",
          "some",
          "U.S.",
          "three",
          "million",
          "them",
          "what",
          "But",
          "so",
          "no",
          "like",
          "if",
          "only",
          "percent",
          "get",
          "did",
          "him",
          "game",
          "back",
          "because",
          "now",
          "#.#",
          "before",
          "company",
          "any",
          "team",
          "against",
          "off",
          "This",
          "most",
          "made",
          "through",
          "make",
          "second",
          "state",
          "well",
          "day",
          "season",
          "says",
          "week",
          "where",
          "while",
          "down",
          "being",
          "government",
          "your",
          "#-#",
          "home",
          "going",
          "my",
          "good",
          "They",
          "'re",
          "should",
          "many",
          "way",
          "those",
          "four",
          "during",
          "such",
          "may",
          "very",
          "how",
          "since",
          "work",
          "take",
          "including",
          "high",
          "then",
          "%",
          "next",
          "#,###",
          "By",
          "much",
          "still",
          "go",
          "think",
          "old",
          "even",
          "#.##",
          "world",
          "see",
          "say",
          "business",
          "five",
          "told",
          "under",
          "us",
          "1",
          "these",
          "If",
          "right",
          "And",
          "me",
          "between",
          "play",
          "help",
          "##,###",
          "market",
          "That",
          "know",
          "end",
          "AP",
          "long",
          "information",
          "points",
          "does",
          "both",
          "There",
          "part",
          "around",
          "police",
          "want",
          "'ve",
          "based",
          "For",
          "got",
          "third",
          "school",
          "left",
          "another",
          "country",
          "need",
          "2",
          "best",
          "win",
          "quarter",
          "use",
          "today",
          "##.#",
          "same",
          "public",
          "run",
          "Friday",
          "set",
          "month",
          "top",
          "billion",
          "Tuesday",
          "come",
          "Monday",
          "She",
          "city",
          "place",
          "night",
          "six",
          "each",
          "Thursday",
          "###,###",
          "Wednesday",
          "here",
          "You",
          "group",
          "really",
          "found",
          "As",
          "used",
          "3",
          "lot",
          "'m",
          "money",
          "put",
          "games",
          "support",
          "program",
          "half",
          "report",
          "family",
          "months",
          "number",
          "officials",
          "am",
          "former"
         ],
         "type": "scatter",
         "x": [
          -4.325067550210592,
          -7.261199451398843,
          -4.559149025910349,
          0.3812497643727311,
          5.919556794066959,
          -4.686423069900119,
          -8.714121537756983,
          2.101671368158104,
          -7.648758416085916,
          -2.4449303720100857,
          6.177546925749862,
          -3.820412513600465,
          -6.4611203858918715,
          10.322971377302439,
          -0.6415711045611814,
          1.3261864968284542,
          12.568632942981477,
          -6.8032502735148945,
          -9.080538891458374,
          16.815816825905028,
          17.084467597835136,
          8.230720009022798,
          13.418439446161942,
          19.701346914006795,
          8.189002446360096,
          -9.255224649046152,
          13.688929281450651,
          -1.3817597444034673,
          -1.4332130407923314,
          8.664116557824668,
          17.528037504684814,
          -3.832862828393362,
          16.84538988712575,
          3.81948722646495,
          -12.614774360506678,
          7.979455184985597,
          -15.603678517557587,
          16.789148106088696,
          17.805403656228354,
          3.1031815267703258,
          -9.753396207578223,
          -14.639123977505575,
          8.377183367190492,
          20.656301683734096,
          -2.19724327530105,
          1.6284683182887063,
          4.062994749824063,
          18.49171864076816,
          -2.23497236024984,
          -13.414331121738778,
          19.74112469154146,
          4.251607427629916,
          5.83374360847972,
          -0.7430110546634512,
          -6.6395896927982365,
          -8.210829253673047,
          -5.036654265853746,
          12.508988800385424,
          10.239054490319097,
          -12.33585739467095,
          3.0981336575776597,
          1.190378325633452,
          21.097852629737353,
          -8.120148318023599,
          -6.012928178698411,
          -2.9888253217996117,
          5.853818174277005,
          13.424289057059118,
          17.564706969628407,
          -12.138937864953203,
          -8.618241275253158,
          17.983342009184724,
          3.54850655070402,
          1.5623618498689502,
          13.328090727880447,
          18.619593769284222,
          4.43504367309383,
          -17.196401713755936,
          7.486582231047464,
          -5.188268761627858,
          -7.017986471304777,
          -12.905389295931883,
          16.360362864083175,
          4.140733481037283,
          5.782440747290852,
          4.474004756186879,
          3.060287763699511,
          5.764367577228388,
          2.6323307075089613,
          1.6658547234691956,
          -15.042787786818973,
          3.1197578809219593,
          11.165620059257137,
          14.004593308793725,
          1.3978992860490933,
          -12.759242739476392,
          4.244239409740546,
          2.491767766023466,
          -12.576352059990434,
          -8.27309453548724,
          -6.653790396745973,
          8.758031026806442,
          -4.177003362182694,
          -10.197632869430404,
          -13.74319267271303,
          3.8688335624598564,
          2.575185556666728,
          9.618896065742822,
          -11.602189335302798,
          9.622415560687896,
          -4.797885502571092,
          -13.019368075011386,
          -0.8934827091744478,
          -16.284361524423044,
          -14.533514952882982,
          -2.440425841459465,
          -16.163129706482326,
          -7.684094724441552,
          -6.869997814358451,
          -14.359010348067377,
          12.60835127513501,
          -13.283187165953704,
          20.43832515480542,
          -3.7677192681207075,
          -5.764598128348473,
          8.560848175303695,
          16.53765936860649,
          5.179017903973923,
          21.124349292432374,
          16.9837836520635,
          19.629107002626622,
          7.121631009058799,
          1.195926439129552,
          7.2771747194504135,
          -7.328782370916381,
          -8.511580378668215,
          0.41145873374876835,
          18.964594048278997,
          5.665162901569312,
          4.144735059427291,
          -9.213114158420504,
          -0.5925199452326971,
          15.093351165411484,
          -4.415590957787134,
          -5.546129923215985,
          1.120511282584463,
          -15.071891910310969,
          -5.119271907265206,
          -10.430040434675432,
          -9.729421815987935,
          2.8684850497197965,
          2.4980247261192448,
          14.046749064971587,
          8.208507456940564,
          -5.279383681905027,
          3.010124757304934,
          -12.169659759144562,
          -15.710038436287912,
          8.628725292885296,
          7.607730990283465,
          -6.6591508927176415,
          -7.7020140404589315,
          -2.4696301857493106,
          -3.423823340469812,
          15.66504089880235,
          -7.520003269968588,
          7.550676815204325,
          6.335133581275387,
          2.5358899335957545,
          5.786221320045319,
          14.763227596082524,
          -8.486335283395364,
          1.127264544991005,
          -2.7185490825811223,
          -10.733130806171543,
          -6.9154678432062875,
          4.3504105356959615,
          8.554679729696518,
          -6.620654745875496,
          -20.252114172620576,
          -1.9088256126012193,
          -2.582390007161028,
          -10.898058832424145,
          11.79279746652513,
          5.170185706566231,
          3.9861921616423164,
          -1.8240053297630492,
          -9.253895345318481,
          -7.16315297097811,
          11.030771548008607,
          8.544832928719272,
          -6.299061805699435,
          -4.654208577558618,
          3.1237896759496904,
          -4.8039157832689865,
          -3.6399452551747413,
          1.2812090022914586,
          -0.9531736515765864,
          -15.597643771331368,
          11.606345515759473,
          -7.604322398910227,
          4.709129456522778,
          -0.3274262545757082,
          -7.994807830260019,
          -7.483337546483491,
          -17.09237144377907,
          -12.648072082297023,
          -0.5034143397447683,
          -12.282281411301698,
          -0.10776215372906277,
          -18.291216499983523,
          -3.656000868781988,
          -16.068794474529675,
          0.8364075784337234,
          -13.240468143989702,
          -18.729358103146556,
          13.842573999511961,
          -18.431414180300887,
          12.647686124678062,
          -12.187140921104096,
          -10.099636336564908,
          -17.890222065884377,
          -7.6039750749425625,
          2.670885406079089,
          -18.957412277697593,
          -11.07911760347548,
          -18.95695689232302,
          5.465115617381756,
          20.892343483518015,
          -3.2894114730900883,
          6.976783455057374,
          -6.3535095811723306,
          6.641695174217327,
          -7.48378614006571,
          -7.734740299278876,
          8.902107361295611,
          16.822220094899958,
          0.5829410954766033,
          13.644133697458663,
          1.560189661617304,
          -2.3113901693134773,
          -1.635946130890528,
          -7.590562955953167,
          -8.666734374882884,
          -5.433486385995912,
          -17.15971686162433,
          6.577672135245826,
          -3.7250765470142735,
          16.370104575675676,
          -3.8005585801207085
         ],
         "y": [
          -0.32390710154925256,
          -3.0214088855787096,
          -3.4850702253759827,
          -1.8360486610618822,
          -10.091085784332597,
          -2.2174610662609213,
          20.35768326336204,
          -18.37818397932556,
          -1.414836662562935,
          -14.339722199707412,
          -10.080777408285742,
          -0.5306298629125388,
          -2.7683165721279863,
          -3.1470454790394533,
          -7.391754965215118,
          -2.082037786477614,
          1.4659955953901072,
          -4.034612809650947,
          0.5346538332937683,
          1.5794239377868686,
          -3.950402001659435,
          -9.039154239718764,
          -9.149619926994314,
          -15.119580418104553,
          -10.124455210602031,
          10.531607628218023,
          -9.728048481796945,
          4.638067611509886,
          3.0548614186975787,
          1.334202080040079,
          -7.778066423184137,
          2.438342483221617,
          -7.412417879839649,
          -3.1711817540965996,
          23.633852115017397,
          -9.531965171813221,
          11.03401621219058,
          1.8081446198173177,
          -5.407570112590768,
          9.117504274303931,
          21.548683443749784,
          -11.956165191500556,
          -10.604922197097261,
          -3.839895138931386,
          6.726287178195739,
          4.211341046475981,
          -0.6182265615008218,
          -15.432821031126867,
          -1.2141367883219947,
          -10.933119934544449,
          -15.830469387494487,
          -19.125472778969627,
          5.254649433646066,
          -1.594777760745603,
          17.305898096773184,
          7.193707372244482,
          10.714581575871557,
          -13.592778762824121,
          -3.6856785329553903,
          7.176270598218711,
          9.158470384146352,
          -4.950612017573261,
          -7.181150635944648,
          -5.614705780007982,
          8.03897321382097,
          0.014519004365261889,
          4.5343320781022145,
          -11.603162648294987,
          -9.935678305071713,
          -8.779206816612946,
          -3.7690466787023893,
          -5.6970523193242135,
          -13.447134276796302,
          -18.412358539051525,
          -11.841841251491614,
          -15.660883769018966,
          -1.0266822845255987,
          12.53377592646319,
          6.545152469200109,
          -0.326063007818919,
          17.642480463791472,
          24.12617666541216,
          -7.532103940231639,
          -6.1173849266003435,
          -16.998415576004376,
          -3.074861629086508,
          -12.52668845092585,
          -0.1514270810709025,
          -4.3530871909966855,
          3.3254499028529843,
          20.66428307809016,
          -9.239305527292405,
          -2.387648664789752,
          -8.565522023324647,
          13.756240711756574,
          -10.686785393035422,
          -3.735055091508981,
          0.07524362383375069,
          20.188446679714286,
          7.187317242931383,
          -10.152855385244703,
          1.2339421568220559,
          0.7887479014152774,
          -4.305738019525117,
          -11.097678983950082,
          -19.186734897514963,
          4.299111275122028,
          13.340013998665606,
          -7.884621640589243,
          13.336983010126005,
          11.38996392175978,
          -1.7783635129821667,
          -7.524009133041571,
          9.278541928302136,
          11.297621402868785,
          -14.191712246843279,
          10.134466860095761,
          -3.171021830052328,
          -0.42282064492273386,
          -11.720619499363073,
          1.7669057751652308,
          -0.6896836021319475,
          -3.2546301107940234,
          12.676769003503102,
          0.9079060891915959,
          -1.2945960907841632,
          -4.1562107396375385,
          1.1872136242221774,
          -7.290326607412535,
          0.3396426209038016,
          -16.091380514124367,
          6.905319117032578,
          -2.982943203325515,
          4.971005359645627,
          17.580167067900323,
          5.157366180415978,
          -7.79002074034259,
          -16.441797269145116,
          -3.070578428678297,
          -6.374374007501044,
          9.657385572695436,
          -3.735016030002619,
          6.944933690919819,
          -5.908746783361017,
          -1.437567877027243,
          -5.042950881265717,
          20.644320171814332,
          8.0814816194056,
          22.642348263095403,
          0.7116896390841196,
          -2.1685860217351363,
          -0.22193005832482923,
          7.145254082506281,
          -3.678902672889205,
          4.712343618021457,
          -3.2841302485142227,
          19.606293815803124,
          -2.869392257364564,
          -5.177006687533281,
          -4.611674627589975,
          -10.242571533292388,
          17.78291797131138,
          -15.105453862815615,
          -2.238292758123845,
          -6.953525080628831,
          21.248256835447926,
          4.8372461836560925,
          -16.214395007550095,
          1.1290636476144826,
          -16.971189749534258,
          -6.929790856626953,
          -1.8893824115303752,
          13.200015417819637,
          -4.358585517361492,
          22.982113105856175,
          -11.136944557553857,
          -19.17191976177203,
          -4.187535549397186,
          3.2512877419036155,
          5.417169591184146,
          -2.844987937886893,
          -9.897925344858931,
          4.090693328209078,
          -2.599269710948464,
          5.6970297631389695,
          -14.488212003499994,
          0.9822749389978058,
          -6.5598532830803675,
          1.2128940949269083,
          -4.708553943576892,
          -8.196634118236975,
          -5.193696648938583,
          -4.2355898207311204,
          -9.257587448908614,
          11.52582459556845,
          -7.505928270988903,
          1.7323010009410897,
          4.098214230536725,
          -2.833147545769124,
          -5.339227867792008,
          21.06326074567906,
          2.0947579081420864,
          11.704987275571744,
          13.260235686664263,
          -16.115593252186947,
          4.6923445156321755,
          20.168861354355368,
          1.8458136110709333,
          0.9620406408701538,
          7.817936374539587,
          6.5652956678065175,
          -1.1914282309608923,
          10.571834489104221,
          5.369417683608901,
          24.49201057660879,
          5.800937701731184,
          7.270004882603971,
          5.994980380946207,
          -13.36244528676093,
          -3.161824160864584,
          -1.6519942572764388,
          7.650424956396814,
          18.09485207610444,
          5.7967919582203065,
          6.263427144025679,
          23.21203707480218,
          5.870035438268002,
          -1.4078437887334256,
          -4.161670391897793,
          1.4331393922254765,
          -2.687216616758865,
          -7.100709052277874,
          -17.732853951218324,
          -16.117204522921302,
          20.94575272440114,
          6.733050635752814,
          -1.8417482101252078,
          -0.8259472506565552,
          8.140033359724878,
          14.045080935942432,
          -5.013176981775961,
          -0.40296057441760297,
          13.047885440434541,
          2.7419916013954655,
          1.8583395470077089,
          12.450732503771118,
          7.9532123182849706,
          5.601292068192741,
          -1.7853938893588102,
          3.338047078082353
         ]
        }
       ],
       "layout": {
        "hovermode": "closest",
        "showlegend": true,
        "template": {
         "data": {
          "bar": [
           {
            "error_x": {
             "color": "#2a3f5f"
            },
            "error_y": {
             "color": "#2a3f5f"
            },
            "marker": {
             "line": {
              "color": "#E5ECF6",
              "width": 0.5
             }
            },
            "type": "bar"
           }
          ],
          "barpolar": [
           {
            "marker": {
             "line": {
              "color": "#E5ECF6",
              "width": 0.5
             }
            },
            "type": "barpolar"
           }
          ],
          "carpet": [
           {
            "aaxis": {
             "endlinecolor": "#2a3f5f",
             "gridcolor": "white",
             "linecolor": "white",
             "minorgridcolor": "white",
             "startlinecolor": "#2a3f5f"
            },
            "baxis": {
             "endlinecolor": "#2a3f5f",
             "gridcolor": "white",
             "linecolor": "white",
             "minorgridcolor": "white",
             "startlinecolor": "#2a3f5f"
            },
            "type": "carpet"
           }
          ],
          "choropleth": [
           {
            "colorbar": {
             "outlinewidth": 0,
             "ticks": ""
            },
            "type": "choropleth"
           }
          ],
          "contour": [
           {
            "colorbar": {
             "outlinewidth": 0,
             "ticks": ""
            },
            "colorscale": [
             [
              0,
              "#0d0887"
             ],
             [
              0.1111111111111111,
              "#46039f"
             ],
             [
              0.2222222222222222,
              "#7201a8"
             ],
             [
              0.3333333333333333,
              "#9c179e"
             ],
             [
              0.4444444444444444,
              "#bd3786"
             ],
             [
              0.5555555555555556,
              "#d8576b"
             ],
             [
              0.6666666666666666,
              "#ed7953"
             ],
             [
              0.7777777777777778,
              "#fb9f3a"
             ],
             [
              0.8888888888888888,
              "#fdca26"
             ],
             [
              1,
              "#f0f921"
             ]
            ],
            "type": "contour"
           }
          ],
          "contourcarpet": [
           {
            "colorbar": {
             "outlinewidth": 0,
             "ticks": ""
            },
            "type": "contourcarpet"
           }
          ],
          "heatmap": [
           {
            "colorbar": {
             "outlinewidth": 0,
             "ticks": ""
            },
            "colorscale": [
             [
              0,
              "#0d0887"
             ],
             [
              0.1111111111111111,
              "#46039f"
             ],
             [
              0.2222222222222222,
              "#7201a8"
             ],
             [
              0.3333333333333333,
              "#9c179e"
             ],
             [
              0.4444444444444444,
              "#bd3786"
             ],
             [
              0.5555555555555556,
              "#d8576b"
             ],
             [
              0.6666666666666666,
              "#ed7953"
             ],
             [
              0.7777777777777778,
              "#fb9f3a"
             ],
             [
              0.8888888888888888,
              "#fdca26"
             ],
             [
              1,
              "#f0f921"
             ]
            ],
            "type": "heatmap"
           }
          ],
          "heatmapgl": [
           {
            "colorbar": {
             "outlinewidth": 0,
             "ticks": ""
            },
            "colorscale": [
             [
              0,
              "#0d0887"
             ],
             [
              0.1111111111111111,
              "#46039f"
             ],
             [
              0.2222222222222222,
              "#7201a8"
             ],
             [
              0.3333333333333333,
              "#9c179e"
             ],
             [
              0.4444444444444444,
              "#bd3786"
             ],
             [
              0.5555555555555556,
              "#d8576b"
             ],
             [
              0.6666666666666666,
              "#ed7953"
             ],
             [
              0.7777777777777778,
              "#fb9f3a"
             ],
             [
              0.8888888888888888,
              "#fdca26"
             ],
             [
              1,
              "#f0f921"
             ]
            ],
            "type": "heatmapgl"
           }
          ],
          "histogram": [
           {
            "marker": {
             "colorbar": {
              "outlinewidth": 0,
              "ticks": ""
             }
            },
            "type": "histogram"
           }
          ],
          "histogram2d": [
           {
            "colorbar": {
             "outlinewidth": 0,
             "ticks": ""
            },
            "colorscale": [
             [
              0,
              "#0d0887"
             ],
             [
              0.1111111111111111,
              "#46039f"
             ],
             [
              0.2222222222222222,
              "#7201a8"
             ],
             [
              0.3333333333333333,
              "#9c179e"
             ],
             [
              0.4444444444444444,
              "#bd3786"
             ],
             [
              0.5555555555555556,
              "#d8576b"
             ],
             [
              0.6666666666666666,
              "#ed7953"
             ],
             [
              0.7777777777777778,
              "#fb9f3a"
             ],
             [
              0.8888888888888888,
              "#fdca26"
             ],
             [
              1,
              "#f0f921"
             ]
            ],
            "type": "histogram2d"
           }
          ],
          "histogram2dcontour": [
           {
            "colorbar": {
             "outlinewidth": 0,
             "ticks": ""
            },
            "colorscale": [
             [
              0,
              "#0d0887"
             ],
             [
              0.1111111111111111,
              "#46039f"
             ],
             [
              0.2222222222222222,
              "#7201a8"
             ],
             [
              0.3333333333333333,
              "#9c179e"
             ],
             [
              0.4444444444444444,
              "#bd3786"
             ],
             [
              0.5555555555555556,
              "#d8576b"
             ],
             [
              0.6666666666666666,
              "#ed7953"
             ],
             [
              0.7777777777777778,
              "#fb9f3a"
             ],
             [
              0.8888888888888888,
              "#fdca26"
             ],
             [
              1,
              "#f0f921"
             ]
            ],
            "type": "histogram2dcontour"
           }
          ],
          "mesh3d": [
           {
            "colorbar": {
             "outlinewidth": 0,
             "ticks": ""
            },
            "type": "mesh3d"
           }
          ],
          "parcoords": [
           {
            "line": {
             "colorbar": {
              "outlinewidth": 0,
              "ticks": ""
             }
            },
            "type": "parcoords"
           }
          ],
          "pie": [
           {
            "automargin": true,
            "type": "pie"
           }
          ],
          "scatter": [
           {
            "marker": {
             "colorbar": {
              "outlinewidth": 0,
              "ticks": ""
             }
            },
            "type": "scatter"
           }
          ],
          "scatter3d": [
           {
            "line": {
             "colorbar": {
              "outlinewidth": 0,
              "ticks": ""
             }
            },
            "marker": {
             "colorbar": {
              "outlinewidth": 0,
              "ticks": ""
             }
            },
            "type": "scatter3d"
           }
          ],
          "scattercarpet": [
           {
            "marker": {
             "colorbar": {
              "outlinewidth": 0,
              "ticks": ""
             }
            },
            "type": "scattercarpet"
           }
          ],
          "scattergeo": [
           {
            "marker": {
             "colorbar": {
              "outlinewidth": 0,
              "ticks": ""
             }
            },
            "type": "scattergeo"
           }
          ],
          "scattergl": [
           {
            "marker": {
             "colorbar": {
              "outlinewidth": 0,
              "ticks": ""
             }
            },
            "type": "scattergl"
           }
          ],
          "scattermapbox": [
           {
            "marker": {
             "colorbar": {
              "outlinewidth": 0,
              "ticks": ""
             }
            },
            "type": "scattermapbox"
           }
          ],
          "scatterpolar": [
           {
            "marker": {
             "colorbar": {
              "outlinewidth": 0,
              "ticks": ""
             }
            },
            "type": "scatterpolar"
           }
          ],
          "scatterpolargl": [
           {
            "marker": {
             "colorbar": {
              "outlinewidth": 0,
              "ticks": ""
             }
            },
            "type": "scatterpolargl"
           }
          ],
          "scatterternary": [
           {
            "marker": {
             "colorbar": {
              "outlinewidth": 0,
              "ticks": ""
             }
            },
            "type": "scatterternary"
           }
          ],
          "surface": [
           {
            "colorbar": {
             "outlinewidth": 0,
             "ticks": ""
            },
            "colorscale": [
             [
              0,
              "#0d0887"
             ],
             [
              0.1111111111111111,
              "#46039f"
             ],
             [
              0.2222222222222222,
              "#7201a8"
             ],
             [
              0.3333333333333333,
              "#9c179e"
             ],
             [
              0.4444444444444444,
              "#bd3786"
             ],
             [
              0.5555555555555556,
              "#d8576b"
             ],
             [
              0.6666666666666666,
              "#ed7953"
             ],
             [
              0.7777777777777778,
              "#fb9f3a"
             ],
             [
              0.8888888888888888,
              "#fdca26"
             ],
             [
              1,
              "#f0f921"
             ]
            ],
            "type": "surface"
           }
          ],
          "table": [
           {
            "cells": {
             "fill": {
              "color": "#EBF0F8"
             },
             "line": {
              "color": "white"
             }
            },
            "header": {
             "fill": {
              "color": "#C8D4E3"
             },
             "line": {
              "color": "white"
             }
            },
            "type": "table"
           }
          ]
         },
         "layout": {
          "annotationdefaults": {
           "arrowcolor": "#2a3f5f",
           "arrowhead": 0,
           "arrowwidth": 1
          },
          "autotypenumbers": "strict",
          "coloraxis": {
           "colorbar": {
            "outlinewidth": 0,
            "ticks": ""
           }
          },
          "colorscale": {
           "diverging": [
            [
             0,
             "#8e0152"
            ],
            [
             0.1,
             "#c51b7d"
            ],
            [
             0.2,
             "#de77ae"
            ],
            [
             0.3,
             "#f1b6da"
            ],
            [
             0.4,
             "#fde0ef"
            ],
            [
             0.5,
             "#f7f7f7"
            ],
            [
             0.6,
             "#e6f5d0"
            ],
            [
             0.7,
             "#b8e186"
            ],
            [
             0.8,
             "#7fbc41"
            ],
            [
             0.9,
             "#4d9221"
            ],
            [
             1,
             "#276419"
            ]
           ],
           "sequential": [
            [
             0,
             "#0d0887"
            ],
            [
             0.1111111111111111,
             "#46039f"
            ],
            [
             0.2222222222222222,
             "#7201a8"
            ],
            [
             0.3333333333333333,
             "#9c179e"
            ],
            [
             0.4444444444444444,
             "#bd3786"
            ],
            [
             0.5555555555555556,
             "#d8576b"
            ],
            [
             0.6666666666666666,
             "#ed7953"
            ],
            [
             0.7777777777777778,
             "#fb9f3a"
            ],
            [
             0.8888888888888888,
             "#fdca26"
            ],
            [
             1,
             "#f0f921"
            ]
           ],
           "sequentialminus": [
            [
             0,
             "#0d0887"
            ],
            [
             0.1111111111111111,
             "#46039f"
            ],
            [
             0.2222222222222222,
             "#7201a8"
            ],
            [
             0.3333333333333333,
             "#9c179e"
            ],
            [
             0.4444444444444444,
             "#bd3786"
            ],
            [
             0.5555555555555556,
             "#d8576b"
            ],
            [
             0.6666666666666666,
             "#ed7953"
            ],
            [
             0.7777777777777778,
             "#fb9f3a"
            ],
            [
             0.8888888888888888,
             "#fdca26"
            ],
            [
             1,
             "#f0f921"
            ]
           ]
          },
          "colorway": [
           "#636efa",
           "#EF553B",
           "#00cc96",
           "#ab63fa",
           "#FFA15A",
           "#19d3f3",
           "#FF6692",
           "#B6E880",
           "#FF97FF",
           "#FECB52"
          ],
          "font": {
           "color": "#2a3f5f"
          },
          "geo": {
           "bgcolor": "white",
           "lakecolor": "white",
           "landcolor": "#E5ECF6",
           "showlakes": true,
           "showland": true,
           "subunitcolor": "white"
          },
          "hoverlabel": {
           "align": "left"
          },
          "hovermode": "closest",
          "mapbox": {
           "style": "light"
          },
          "paper_bgcolor": "white",
          "plot_bgcolor": "#E5ECF6",
          "polar": {
           "angularaxis": {
            "gridcolor": "white",
            "linecolor": "white",
            "ticks": ""
           },
           "bgcolor": "#E5ECF6",
           "radialaxis": {
            "gridcolor": "white",
            "linecolor": "white",
            "ticks": ""
           }
          },
          "scene": {
           "xaxis": {
            "backgroundcolor": "#E5ECF6",
            "gridcolor": "white",
            "gridwidth": 2,
            "linecolor": "white",
            "showbackground": true,
            "ticks": "",
            "zerolinecolor": "white"
           },
           "yaxis": {
            "backgroundcolor": "#E5ECF6",
            "gridcolor": "white",
            "gridwidth": 2,
            "linecolor": "white",
            "showbackground": true,
            "ticks": "",
            "zerolinecolor": "white"
           },
           "zaxis": {
            "backgroundcolor": "#E5ECF6",
            "gridcolor": "white",
            "gridwidth": 2,
            "linecolor": "white",
            "showbackground": true,
            "ticks": "",
            "zerolinecolor": "white"
           }
          },
          "shapedefaults": {
           "line": {
            "color": "#2a3f5f"
           }
          },
          "ternary": {
           "aaxis": {
            "gridcolor": "white",
            "linecolor": "white",
            "ticks": ""
           },
           "baxis": {
            "gridcolor": "white",
            "linecolor": "white",
            "ticks": ""
           },
           "bgcolor": "#E5ECF6",
           "caxis": {
            "gridcolor": "white",
            "linecolor": "white",
            "ticks": ""
           }
          },
          "title": {
           "x": 0.05
          },
          "xaxis": {
           "automargin": true,
           "gridcolor": "white",
           "linecolor": "white",
           "ticks": "",
           "title": {
            "standoff": 15
           },
           "zerolinecolor": "white",
           "zerolinewidth": 2
          },
          "yaxis": {
           "automargin": true,
           "gridcolor": "white",
           "linecolor": "white",
           "ticks": "",
           "title": {
            "standoff": 15
           },
           "zerolinecolor": "white",
           "zerolinewidth": 2
          }
         }
        },
        "title": {
         "text": "Word2vec"
        },
        "xaxis": {
         "zeroline": false
        },
        "yaxis": {
         "zeroline": false
        }
       }
      },
      "text/html": [
       "<div>                            <div id=\"be5960a6-063f-4fb2-847e-e8c27c9b31ce\" class=\"plotly-graph-div\" style=\"height:525px; width:100%;\"></div>            <script type=\"text/javascript\">                require([\"plotly\"], function(Plotly) {                    window.PLOTLYENV=window.PLOTLYENV || {};                                    if (document.getElementById(\"be5960a6-063f-4fb2-847e-e8c27c9b31ce\")) {                    Plotly.newPlot(                        \"be5960a6-063f-4fb2-847e-e8c27c9b31ce\",                        [{\"marker\": {\"colorscale\": [[0.0, \"rgb(0,0,131)\"], [0.2, \"rgb(0,60,170)\"], [0.4, \"rgb(5,255,255)\"], [0.6, \"rgb(255,255,0)\"], [0.8, \"rgb(250,0,0)\"], [1.0, \"rgb(128,0,0)\"]], \"line\": {\"color\": \"rgb(255, 255, 255)\", \"width\": 2}, \"opacity\": 0.8, \"showscale\": false, \"size\": 8}, \"mode\": \"markers\", \"showlegend\": true, \"text\": [\"/en/united_states\", \"/en/associated_press\", \"/en/barack_obama\", \"/en/china\", \"/en/united_kingdom\", \"/en/new_york\", \"/en/india\", \"/en/europe\", \"/en/washington_united_states\", \"/en/canada\", \"/en/iraq\", \"/en/israel\", \"/en/california\", \"/en/republican_party\", \"/en/austraila\", \"/en/japan\", \"/en/france\", \"/en/russia\", \"/en/iran\", \"/en/germany\", \"/en/afghanistan\", \"/en/london\", \"/en/pakistan\", \"/en/florida\", \"/en/nyse\", \"/en/congress_u_s\", \"/en/texas\", \"/en/england\", \"/en/democrat_party\", \"/en/italy\", \"/en/nasdaq\", \"/en/european_union\", \"/en/spain\", \"/en/white_house\", \"/en/los_angeles\", \"/en/united_staff\", \"/en/reuters\", \"/en/south_africa\", \"/en/mexico\", \"/en/asia\", \"/en/national_football_league\", \"/en/apple_inc\", \"/en/australian_senate\", \"/en/facebook\", \"/en/chicago\", \"/en/greece\", \"/en/google\", \"/en/egypt\", \"/en/george_h_w_bush\", \"/en/syria\", \"/en/democracy\", \"/en/north_carolina\", \"/en/microsoft\", \"/en/mitt_romney\", \"/en/ohio\", \"/en/new_jersey\", \"/en/brazil\", \"/en/federal_reserve_system\", \"/en/turkey\", \"/en/twitter\", \"/en/god\", \"/en/olympic_games\", \"/en/john_mccain\", \"/en/state_of_palestine\", \"/en/south_korea\", \"/en/illinois\", \"/en/muslim\", \"/en/michigan\", \"/en/arizona\", \"/en/hillary_rodham_clinton\", \"/en/north_america\", \"/en/christmas\", \"/en/libya\", \"/en/africa\", \"/en/united_states_securities_and_exchange_commission\", \"/en/george_w_bush\", \"/en/beijing\", \"/en/islam\", \"/en/new_zealand\", \"/en/supreme_court\", \"/en/taliban_movement\", \"/en/north_korea\", \"/en/middle_east\", \"/en/united_states_house_of_representatives\", \"/en/massachusetts\", \"/en/al-qaeda\", \"/en/national_basketball_association\", \"/en/new_york_yankees\", \"/en/boston_red_sox\", \"/en/republicans\", \"/en/wall_street\", \"/en/general_motors\", \"/en/san_francisco\", \"/en/republic_of_ireland\", \"/en/minnesota\", \"/en/iowa\", \"/en/wisconsin\", \"/en/switzerland\", \"/en/paris\", \"/en/north_atlantic_treaty_organization\", \"/en/netherlands\", \"/en/new_york_state\", \"/en/pennsylvania\", \"/en/hong_kong\", \"/en/manchester_united_fc\", \"/en/colorado\", \"/en/detroit_tigers\", \"/en/nigeria\", \"/en/food_and_drug_administration\", \"/en/indiana\", \"/en/st_louis_cardinals\", \"/en/south_carolina\", \"/en/iphone\", \"/en/national_hockey_league\", \"/en/federal_bureau_of_investigation\", \"/en/saudi_arabia\", \"/en/toronto\", \"/en/swedem\", \"/en/fifa_world_cup\", \"/en/scotland\", \"/en/dow_jones_industrial_average\", \"/en/connecticut\", \"/en/chelsea_fc\", \"/en/philippines\", \"/en/singapore\", \"/en/new_delhi\", \"/en/tennesee\", \"/en/thailand\", \"/en/philadelphia_phillies\", \"/en/miami_heat\", \"/en/arab\", \"/en/boston_massachusetts\", \"/en/cuba\", \"/en/philadelphia_eagles\", \"/en/georgia\", \"/en/hollywood\", \"/en/western_world\", \"/en/bp\", \"/en/mumbai\", \"/en/kansas\", \"/en/lebanon\", \"/en/indonesia\", \"/en/argentina\", \"/en/hamas\", \"/en/tokyo\", \"/en/fa_premier_league\", \"/en/texas_rangers\", \"/en/poland\", \"/en/jew\", \"/en/pittsburgh_steelers\", \"/en/atlanta\", \"/en/tiger_woods\", \"/en/philadelphia\", \"/en/chinese_taipei\", \"/en/baghdad\", \"/en/detroit_michigan\", \"/en/houston\", \"/en/national_collegiate_athletic_association\", \"/en/green_bay_packers\", \"/en/moscow\", \"/en/the_new_york_times\", \"/en/vietnam\", \"/en/alabama\", \"/en/international_monetary_fund\", \"/en/haiti\", \"/en/ford_motor_company\", \"/en/muammar_al-gaddafi\", \"/en/boston_celtics\", \"/en/somalia\", \"/en/malaysia\", \"/en/ontario\", \"/m/036nz\", \"/en/new_hampshire\", \"/en/los_angeles_lakers\", \"/en/san_francisco_giants\", \"/en/super_bowl\", \"/en/toyota_motor_corporation\", \"/en/liverpool_fc\", \"/en/nevada\", \"/en/atlanta_braves\", \"/en/kenya\", \"/en/oklahoma\", \"/en/shia_islam\", \"/en/new_york_mets\", \"/en/new_orleans\", \"/en/chicago_cubs\", \"/en/alaska\", \"/en/cleveland_cavaliers\", \"/m/019rl6\", \"/en/nasa\", \"/en/louisiana\", \"/en/wal-mart\", \"/en/british_columbia\", \"/en/new_york_giants\", \"/en/bloomberg_television\", \"/en/seattle\", \"/en/ukraine\", \"/en/s_p_500\", \"/en/medicare\", \"/en/pr_newswire\", \"/en/sarah_palin\", \"/en/arsenal_fc\", \"/en/dubai\", \"/en/nbc\", \"/en/missouri\", \"/en/business_wire\", \"/en/united_nations_security_council\", \"/en/parliament_of_the_united_kingdom\", \"/en/los_angeles_dodgers\", \"/en/agence_france-presse\", \"/en/youtube\", \"/en/venezuela\", \"/en/tehran\", \"/en/michael_jackson\", \"/en/sydney\", \"/en/united_states_environmental_protection_agency\", \"/en/utah\", \"/en/army\", \"/en/cincinnati_reds\", \"/en/united_arab_emirates\", \"/en/gphone\", \"/en/new_york_jets\", \"/en/ipad\", \"/en/boston_bruins\", \"/en/washington\", \"/en/dallas\", \"/en/maryland\", \"/en/at_t\", \"/en/las_vegas_metropolitan_area\", \"/en/seattle_mariners\", \"/en/denver\", \"/en/milwaukee_brewers\", \"/en/new_england_patriots\", \"/en/lebron_james\", \"/en/osama_bin_laden\", \"/en/african_american\", \"/en/yemen\", \"/en/minnesota_twins\", \"/en/chicago_white_sox\", \"/en/zimbabwe\", \"/en/gaza\", \"/en/portugal\", \"/en/city_council\", \"/en/mississippi\", \"/en/latin_america\", \"/en/san_diego\", \"/en/norway\", \"/en/run_batted_in\", \"/en/serbia\", \"/en/earth\"], \"type\": \"scatter\", \"x\": [-3.9142645952344113, -10.64913782412463, -5.868464817222426, -9.254912049656985, -0.9883714527312573, 16.100286211745598, -17.81370734913976, -10.993213717378625, -5.238913749735439, -2.578981866655581, -31.655839397474743, -23.17456215835606, 19.591722404508364, -8.599759358673666, -2.717160532709101, -10.010474394148336, -3.5264551871703134, -15.357311095071823, -27.21152167237288, -3.8746689423871676, -30.296829306826165, -1.3065950970740645, -29.706042044094687, 5.030977927330778, 6.749932145679885, -9.929783266492041, 11.593128019646079, 0.6739006105756251, -9.269606271291858, -5.388987419466582, 6.767118071544995, -9.60269754184088, -6.105671072664191, -5.984207207766784, 20.103924888689548, -26.638547706931494, -9.647774528534118, -12.12955021085257, -11.816468891792947, -11.6938524864366, 20.938424904817694, 16.552224520191402, -10.494721402553397, 19.8851606815346, 10.566510116313511, -7.575943379604474, 16.748031646785265, -22.573455501533903, -7.153293804167795, -24.897151710730615, -8.562243098735069, 6.470574229568702, 16.03563254113813, -6.381518821660077, 7.678786834147746, 14.300818841366167, -10.451785075963516, 4.110094677607388, -24.589650211929776, 20.1077355549415, -21.766544325089185, -9.502109029635092, -6.129074862943296, -23.383082726353592, -12.507924001393807, 9.613404494281324, -22.519564091158113, 6.4709172810554785, 18.159451931302602, -5.875469699274232, -12.865198719621919, 12.899417972930099, -27.94512062940354, -15.847662589466188, 4.770417195470598, -7.174701483209254, -9.34488992555714, -22.718319403363605, -3.123635320099911, -10.725703789999303, -29.92286053539921, -12.797963188052098, -20.423804391211945, -10.9370573214931, 11.989029179883063, -27.969725845995836, 25.62104202012173, 26.486620183172334, 26.702417680260123, -9.656689457434565, 4.722586350422889, 9.607710250782542, 18.517754038819245, -6.199428308687174, 8.067957186817823, 9.734414767072899, 7.844046782538864, -4.464700859698617, -3.117090509591807, -29.94943327520544, -3.0453027698470323, 15.880174386569221, 13.228205719015154, -7.380103877599804, 2.6808244813615905, 16.0067450278621, 28.629870574352374, -16.7929077110953, -9.214706995919308, 8.36634730391697, 25.985748991532898, 6.478175683274998, 17.045235529803318, 24.072915403066165, -28.27915916679399, -23.483730213307563, -1.4027358373595402, -3.362434020715986, -10.57122419918809, 0.4461799792194937, 5.803755851168294, 12.982347180538445, 1.6489321965479131, -4.220544875079823, -6.472776532866215, -18.111388576540573, 7.012179169268482, -5.635677177373388, 24.348522630757756, 27.881904023697007, -22.104495372918937, 12.43018344617625, -13.87869559975162, 18.244212345441717, 6.406551463004655, 20.264323059357086, -25.933494369821794, 3.6197328104266373, -18.22230551519608, 9.455774192444174, -24.949822516259754, -5.079878684907175, -10.34029242425779, -24.345576389939232, -9.976676075862729, 2.462271987135186, 28.048750872710514, -14.632207366694113, -22.27051680474249, 18.924694968164292, 9.951462261225663, 28.14814989912821, 13.144093275349745, -8.449841621610387, -31.550180748780594, 6.005041310078722, 12.001489958059857, 22.966717637631188, 18.29858118263797, -15.604396525515059, 17.196038254091583, -5.564594740256855, 5.781091199942803, -8.581529735150772, -15.339758127355958, 9.672005580402915, -28.023985730984627, 26.87600435686252, -18.34071903012396, -5.665455358045615, -1.464557296875935, -15.418812615807287, 10.666419221149791, 26.323900976934862, 23.42876891891674, 19.81830275017508, 9.671666541775455, 1.6758006370977125, 18.35454129568687, 25.023872235330657, -17.876437378879906, 9.790901741693672, -31.2451264890967, 24.48564466338519, 5.281365454791724, 24.684528579952957, -4.413503881916369, 27.238855139911987, 16.51623399102794, -19.317933380604288, 5.0518509581661455, 14.225600911850448, -1.4745907155968592, 19.00349956616259, -8.5001490729887, 15.981153942451096, -14.86051720916536, 6.103868404096099, -11.160894600998676, 7.39820720787556, -4.920018560638851, 2.4237810682439003, -22.285801747749247, 18.14232390917407, 9.2999201904689, 7.311763379433246, -26.664578132584893, -15.33533554038182, 23.51651504357433, -9.999846312518443, 19.154352639798294, -13.495664174681462, -27.413307178625853, 21.593471953247356, -2.133058237783129, -9.286037319439108, 17.264714362056576, -32.43783413878859, 25.67392379167342, -22.57496056241963, 17.641688516800574, 19.799332152150264, 17.397099143725043, 24.129428031561876, 16.04059802522924, 11.783719329824791, 13.217538273346786, 15.443665883640355, 18.69272346955234, 28.638291867624954, 15.51901411196175, 25.178842544587894, 19.7223673077353, 27.627328278847422, -28.231019365832037, -3.742781560509889, -26.371160645003275, 27.94822770756154, 27.72914658358401, -12.640790391013773, -24.17239442933516, -6.533650856984356, -12.312320627980805, 5.643849615260438, -13.21881742572799, 19.214274488244182, -3.220532352973904, 28.830550190317854, -13.537020603148276, -19.332423326509993], \"y\": [-7.086731128871194, -6.80213368838671, -18.838977090588212, 2.8062277243423104, 9.025798449572626, -13.96071845494784, 20.51207106097966, 9.846078448119442, -16.463065763025888, -7.108139988397184, 11.132696731361088, 8.751924875662096, -18.862876920162357, -21.806965299544952, 4.873652097622994, -0.5136103833318384, 10.876405991190833, 5.04813107574448, 6.940968916927742, 12.003334988003918, 13.671880564712383, 8.808401943950631, 15.224078470002636, -25.277917834605837, -8.303345808317442, -17.548440683871156, -24.539785575637488, 10.432556747472244, -20.37309042192749, 11.541050983123872, -8.369053807112714, 9.137888209706084, 11.166639638174452, -17.630819383108285, -17.541294575872463, 3.9515979249732105, -5.793995882430732, 17.848853882232508, 13.495605620610478, 9.96720093358689, 13.942110422132863, -0.463914843362518, -18.76858348359931, -3.5824122735265123, -19.562667322348943, 9.853235964760698, -2.644778647958116, 11.111684449723075, -17.78796692013162, 11.157331109502566, -21.013840665321403, -23.603809468876495, -2.4347758226428997, -21.841004859337435, -19.851354693895637, -17.716831998550873, 14.533449986289185, -4.688603707486006, 12.15950218159971, -3.5749780250342464, 3.93050809463477, 4.473075740227998, -21.305667412935147, 8.373037429778975, 0.6548957676613414, -19.71149223764073, 5.433344751153787, -18.632325762594938, -23.461665174305452, -20.164918619290173, 10.719138710601696, 1.2803931294294348, 10.579504450434213, 12.556082737367374, -7.367421279363362, -17.9274710840052, 3.2124718991725465, 5.471566545996468, 5.074767667632554, -16.535747653915664, 14.280765518257507, 0.6621635445651308, 10.762133660751266, -18.62525090696196, -16.241343008571285, 15.672750759961545, 13.720045785570905, 22.017918669841563, 21.97164079329967, -20.392406941434288, -5.2218453187834895, -1.7358461449772462, -18.323890825253088, 9.625735243314844, -16.491663112875166, -16.1202161717502, -16.77628100670503, 13.393015178122909, 10.28483616202671, 12.85836987139912, 13.301119941828556, -14.187529106858893, -19.51138710200195, 1.8478271443569219, 21.724769150319652, -23.229830198100906, 23.935487266325005, 12.707421480645577, -13.397371271328245, -19.862048941721856, 25.86942508022209, -24.295021882203066, 0.012358486646236523, 16.92018793942982, 17.377080470753516, 14.748291768813859, -6.963386932134162, 14.592842577101186, 17.73064515310166, 10.063705124549879, -5.236066614348107, -15.650459110507798, 22.22771211287254, 0.35976725631678236, 1.5196896961424178, 21.12507907400227, -26.53088442292483, -0.21044434775283632, 24.40971155425268, 14.131683909980262, 10.375123393984044, -17.11457754185516, 14.704655164738568, 15.424191590436442, -25.420548194862867, -16.362365969229014, 6.611584509936215, -28.90984060476418, 21.26915099857722, -22.453487774952755, 10.749538382967295, 0.7596558154398654, 14.671361072602926, 8.510970900270628, -0.626244077994996, 21.074602595254433, 21.81516402085474, 6.641448035256472, 7.316702267403613, 13.036569206827323, -25.902120339344442, 11.758967861560324, -18.450502096282325, 1.8059441008392805, 10.635344946202787, -18.403243928117092, -25.485358889045305, 13.604215485462326, 13.864208172430759, 4.778384478883625, -12.181498380856098, -0.9228729373279551, -26.63406854435207, 9.152325464590037, 15.573734029575022, -1.377745601798754, 10.574594892348777, 14.7077494115038, 14.237707947129126, 0.9736873851554692, -7.4334994546954345, -14.776179302538116, -15.952546004241064, 14.40696631119653, 25.759614528431324, 13.245459090018667, -0.6745327721083427, 21.423155768902696, -21.989294539915498, 24.661049591915845, 14.078753272772817, -22.991200370669908, 10.016627096363704, 23.777149493797353, -29.040290678298323, 26.41335344272151, -23.64764295950025, 13.787598632724897, -3.212421913059349, -6.924119915973867, -28.321418663258648, 0.16336740563180496, -8.12295308513408, 14.564829683262904, -5.521583423301643, -26.851089664782663, 5.810882910567372, -5.295388433769443, -21.078032405216195, -10.102392937161527, -23.10114164191774, 22.29748518777515, 15.82732829941544, -11.424296602172314, -22.053272607512717, -9.84574973377685, 4.005540561267859, -14.84634597191102, 25.257365010362644, -5.864965640919585, -3.9961805421305243, 14.450065247446442, 6.929338357336402, -17.031819243419108, 4.574656959394365, -13.73861311371194, -23.0995915600778, 12.608914413431165, 27.093291252787626, 15.549425947464773, -0.7529028381067534, 14.86007874421681, 0.21624262462183458, 17.006354242351886, -26.947448946755454, -25.42098025667695, -20.076730385093313, 0.028473862957832847, -21.526899781048776, 22.356110716511697, -23.310737414063652, 26.150716382014703, 14.276992031044557, 13.103066928822336, 16.023118679165673, -19.19587312907422, 15.05939106875195, 23.237985672754004, 23.584315409043374, 17.90466848377963, 8.904899269665968, 10.545111804538754, -18.349610249176514, -27.39443900952842, 12.02118498516354, -18.63216267568488, 14.683464356362366, 25.43480873260468, 5.966408004408015, -6.871328524321107]}, {\"marker\": {\"colorscale\": [[0.0, \"rgb(0,0,131)\"], [0.2, \"rgb(0,60,170)\"], [0.4, \"rgb(5,255,255)\"], [0.6, \"rgb(255,255,0)\"], [0.8, \"rgb(250,0,0)\"], [1.0, \"rgb(128,0,0)\"]], \"line\": {\"color\": \"rgb(255, 255, 0)\", \"width\": 2}, \"opacity\": 0.8, \"showscale\": false, \"size\": 8}, \"mode\": \"markers\", \"showlegend\": true, \"text\": [\"</s>\", \"in\", \"for\", \"that\", \"is\", \"on\", \"##\", \"The\", \"with\", \"said\", \"was\", \"the\", \"at\", \"not\", \"as\", \"it\", \"be\", \"from\", \"by\", \"are\", \"I\", \"have\", \"he\", \"will\", \"has\", \"####\", \"his\", \"an\", \"this\", \"or\", \"their\", \"who\", \"they\", \"but\", \"$\", \"had\", \"year\", \"were\", \"we\", \"more\", \"###\", \"up\", \"been\", \"you\", \"its\", \"one\", \"about\", \"would\", \"which\", \"out\", \"can\", \"It\", \"all\", \"also\", \"two\", \"after\", \"first\", \"He\", \"do\", \"time\", \"than\", \"when\", \"We\", \"over\", \"last\", \"new\", \"other\", \"her\", \"people\", \"into\", \"In\", \"our\", \"there\", \"A\", \"she\", \"could\", \"just\", \"years\", \"some\", \"U.S.\", \"three\", \"million\", \"them\", \"what\", \"But\", \"so\", \"no\", \"like\", \"if\", \"only\", \"percent\", \"get\", \"did\", \"him\", \"game\", \"back\", \"because\", \"now\", \"#.#\", \"before\", \"company\", \"any\", \"team\", \"against\", \"off\", \"This\", \"most\", \"made\", \"through\", \"make\", \"second\", \"state\", \"well\", \"day\", \"season\", \"says\", \"week\", \"where\", \"while\", \"down\", \"being\", \"government\", \"your\", \"#-#\", \"home\", \"going\", \"my\", \"good\", \"They\", \"'re\", \"should\", \"many\", \"way\", \"those\", \"four\", \"during\", \"such\", \"may\", \"very\", \"how\", \"since\", \"work\", \"take\", \"including\", \"high\", \"then\", \"%\", \"next\", \"#,###\", \"By\", \"much\", \"still\", \"go\", \"think\", \"old\", \"even\", \"#.##\", \"world\", \"see\", \"say\", \"business\", \"five\", \"told\", \"under\", \"us\", \"1\", \"these\", \"If\", \"right\", \"And\", \"me\", \"between\", \"play\", \"help\", \"##,###\", \"market\", \"That\", \"know\", \"end\", \"AP\", \"long\", \"information\", \"points\", \"does\", \"both\", \"There\", \"part\", \"around\", \"police\", \"want\", \"'ve\", \"based\", \"For\", \"got\", \"third\", \"school\", \"left\", \"another\", \"country\", \"need\", \"2\", \"best\", \"win\", \"quarter\", \"use\", \"today\", \"##.#\", \"same\", \"public\", \"run\", \"Friday\", \"set\", \"month\", \"top\", \"billion\", \"Tuesday\", \"come\", \"Monday\", \"She\", \"city\", \"place\", \"night\", \"six\", \"each\", \"Thursday\", \"###,###\", \"Wednesday\", \"here\", \"You\", \"group\", \"really\", \"found\", \"As\", \"used\", \"3\", \"lot\", \"'m\", \"money\", \"put\", \"games\", \"support\", \"program\", \"half\", \"report\", \"family\", \"months\", \"number\", \"officials\", \"am\", \"former\"], \"type\": \"scatter\", \"x\": [-4.325067550210592, -7.261199451398843, -4.559149025910349, 0.3812497643727311, 5.919556794066959, -4.686423069900119, -8.714121537756983, 2.101671368158104, -7.648758416085916, -2.4449303720100857, 6.177546925749862, -3.820412513600465, -6.4611203858918715, 10.322971377302439, -0.6415711045611814, 1.3261864968284542, 12.568632942981477, -6.8032502735148945, -9.080538891458374, 16.815816825905028, 17.084467597835136, 8.230720009022798, 13.418439446161942, 19.701346914006795, 8.189002446360096, -9.255224649046152, 13.688929281450651, -1.3817597444034673, -1.4332130407923314, 8.664116557824668, 17.528037504684814, -3.832862828393362, 16.84538988712575, 3.81948722646495, -12.614774360506678, 7.979455184985597, -15.603678517557587, 16.789148106088696, 17.805403656228354, 3.1031815267703258, -9.753396207578223, -14.639123977505575, 8.377183367190492, 20.656301683734096, -2.19724327530105, 1.6284683182887063, 4.062994749824063, 18.49171864076816, -2.23497236024984, -13.414331121738778, 19.74112469154146, 4.251607427629916, 5.83374360847972, -0.7430110546634512, -6.6395896927982365, -8.210829253673047, -5.036654265853746, 12.508988800385424, 10.239054490319097, -12.33585739467095, 3.0981336575776597, 1.190378325633452, 21.097852629737353, -8.120148318023599, -6.012928178698411, -2.9888253217996117, 5.853818174277005, 13.424289057059118, 17.564706969628407, -12.138937864953203, -8.618241275253158, 17.983342009184724, 3.54850655070402, 1.5623618498689502, 13.328090727880447, 18.619593769284222, 4.43504367309383, -17.196401713755936, 7.486582231047464, -5.188268761627858, -7.017986471304777, -12.905389295931883, 16.360362864083175, 4.140733481037283, 5.782440747290852, 4.474004756186879, 3.060287763699511, 5.764367577228388, 2.6323307075089613, 1.6658547234691956, -15.042787786818973, 3.1197578809219593, 11.165620059257137, 14.004593308793725, 1.3978992860490933, -12.759242739476392, 4.244239409740546, 2.491767766023466, -12.576352059990434, -8.27309453548724, -6.653790396745973, 8.758031026806442, -4.177003362182694, -10.197632869430404, -13.74319267271303, 3.8688335624598564, 2.575185556666728, 9.618896065742822, -11.602189335302798, 9.622415560687896, -4.797885502571092, -13.019368075011386, -0.8934827091744478, -16.284361524423044, -14.533514952882982, -2.440425841459465, -16.163129706482326, -7.684094724441552, -6.869997814358451, -14.359010348067377, 12.60835127513501, -13.283187165953704, 20.43832515480542, -3.7677192681207075, -5.764598128348473, 8.560848175303695, 16.53765936860649, 5.179017903973923, 21.124349292432374, 16.9837836520635, 19.629107002626622, 7.121631009058799, 1.195926439129552, 7.2771747194504135, -7.328782370916381, -8.511580378668215, 0.41145873374876835, 18.964594048278997, 5.665162901569312, 4.144735059427291, -9.213114158420504, -0.5925199452326971, 15.093351165411484, -4.415590957787134, -5.546129923215985, 1.120511282584463, -15.071891910310969, -5.119271907265206, -10.430040434675432, -9.729421815987935, 2.8684850497197965, 2.4980247261192448, 14.046749064971587, 8.208507456940564, -5.279383681905027, 3.010124757304934, -12.169659759144562, -15.710038436287912, 8.628725292885296, 7.607730990283465, -6.6591508927176415, -7.7020140404589315, -2.4696301857493106, -3.423823340469812, 15.66504089880235, -7.520003269968588, 7.550676815204325, 6.335133581275387, 2.5358899335957545, 5.786221320045319, 14.763227596082524, -8.486335283395364, 1.127264544991005, -2.7185490825811223, -10.733130806171543, -6.9154678432062875, 4.3504105356959615, 8.554679729696518, -6.620654745875496, -20.252114172620576, -1.9088256126012193, -2.582390007161028, -10.898058832424145, 11.79279746652513, 5.170185706566231, 3.9861921616423164, -1.8240053297630492, -9.253895345318481, -7.16315297097811, 11.030771548008607, 8.544832928719272, -6.299061805699435, -4.654208577558618, 3.1237896759496904, -4.8039157832689865, -3.6399452551747413, 1.2812090022914586, -0.9531736515765864, -15.597643771331368, 11.606345515759473, -7.604322398910227, 4.709129456522778, -0.3274262545757082, -7.994807830260019, -7.483337546483491, -17.09237144377907, -12.648072082297023, -0.5034143397447683, -12.282281411301698, -0.10776215372906277, -18.291216499983523, -3.656000868781988, -16.068794474529675, 0.8364075784337234, -13.240468143989702, -18.729358103146556, 13.842573999511961, -18.431414180300887, 12.647686124678062, -12.187140921104096, -10.099636336564908, -17.890222065884377, -7.6039750749425625, 2.670885406079089, -18.957412277697593, -11.07911760347548, -18.95695689232302, 5.465115617381756, 20.892343483518015, -3.2894114730900883, 6.976783455057374, -6.3535095811723306, 6.641695174217327, -7.48378614006571, -7.734740299278876, 8.902107361295611, 16.822220094899958, 0.5829410954766033, 13.644133697458663, 1.560189661617304, -2.3113901693134773, -1.635946130890528, -7.590562955953167, -8.666734374882884, -5.433486385995912, -17.15971686162433, 6.577672135245826, -3.7250765470142735, 16.370104575675676, -3.8005585801207085], \"y\": [-0.32390710154925256, -3.0214088855787096, -3.4850702253759827, -1.8360486610618822, -10.091085784332597, -2.2174610662609213, 20.35768326336204, -18.37818397932556, -1.414836662562935, -14.339722199707412, -10.080777408285742, -0.5306298629125388, -2.7683165721279863, -3.1470454790394533, -7.391754965215118, -2.082037786477614, 1.4659955953901072, -4.034612809650947, 0.5346538332937683, 1.5794239377868686, -3.950402001659435, -9.039154239718764, -9.149619926994314, -15.119580418104553, -10.124455210602031, 10.531607628218023, -9.728048481796945, 4.638067611509886, 3.0548614186975787, 1.334202080040079, -7.778066423184137, 2.438342483221617, -7.412417879839649, -3.1711817540965996, 23.633852115017397, -9.531965171813221, 11.03401621219058, 1.8081446198173177, -5.407570112590768, 9.117504274303931, 21.548683443749784, -11.956165191500556, -10.604922197097261, -3.839895138931386, 6.726287178195739, 4.211341046475981, -0.6182265615008218, -15.432821031126867, -1.2141367883219947, -10.933119934544449, -15.830469387494487, -19.125472778969627, 5.254649433646066, -1.594777760745603, 17.305898096773184, 7.193707372244482, 10.714581575871557, -13.592778762824121, -3.6856785329553903, 7.176270598218711, 9.158470384146352, -4.950612017573261, -7.181150635944648, -5.614705780007982, 8.03897321382097, 0.014519004365261889, 4.5343320781022145, -11.603162648294987, -9.935678305071713, -8.779206816612946, -3.7690466787023893, -5.6970523193242135, -13.447134276796302, -18.412358539051525, -11.841841251491614, -15.660883769018966, -1.0266822845255987, 12.53377592646319, 6.545152469200109, -0.326063007818919, 17.642480463791472, 24.12617666541216, -7.532103940231639, -6.1173849266003435, -16.998415576004376, -3.074861629086508, -12.52668845092585, -0.1514270810709025, -4.3530871909966855, 3.3254499028529843, 20.66428307809016, -9.239305527292405, -2.387648664789752, -8.565522023324647, 13.756240711756574, -10.686785393035422, -3.735055091508981, 0.07524362383375069, 20.188446679714286, 7.187317242931383, -10.152855385244703, 1.2339421568220559, 0.7887479014152774, -4.305738019525117, -11.097678983950082, -19.186734897514963, 4.299111275122028, 13.340013998665606, -7.884621640589243, 13.336983010126005, 11.38996392175978, -1.7783635129821667, -7.524009133041571, 9.278541928302136, 11.297621402868785, -14.191712246843279, 10.134466860095761, -3.171021830052328, -0.42282064492273386, -11.720619499363073, 1.7669057751652308, -0.6896836021319475, -3.2546301107940234, 12.676769003503102, 0.9079060891915959, -1.2945960907841632, -4.1562107396375385, 1.1872136242221774, -7.290326607412535, 0.3396426209038016, -16.091380514124367, 6.905319117032578, -2.982943203325515, 4.971005359645627, 17.580167067900323, 5.157366180415978, -7.79002074034259, -16.441797269145116, -3.070578428678297, -6.374374007501044, 9.657385572695436, -3.735016030002619, 6.944933690919819, -5.908746783361017, -1.437567877027243, -5.042950881265717, 20.644320171814332, 8.0814816194056, 22.642348263095403, 0.7116896390841196, -2.1685860217351363, -0.22193005832482923, 7.145254082506281, -3.678902672889205, 4.712343618021457, -3.2841302485142227, 19.606293815803124, -2.869392257364564, -5.177006687533281, -4.611674627589975, -10.242571533292388, 17.78291797131138, -15.105453862815615, -2.238292758123845, -6.953525080628831, 21.248256835447926, 4.8372461836560925, -16.214395007550095, 1.1290636476144826, -16.971189749534258, -6.929790856626953, -1.8893824115303752, 13.200015417819637, -4.358585517361492, 22.982113105856175, -11.136944557553857, -19.17191976177203, -4.187535549397186, 3.2512877419036155, 5.417169591184146, -2.844987937886893, -9.897925344858931, 4.090693328209078, -2.599269710948464, 5.6970297631389695, -14.488212003499994, 0.9822749389978058, -6.5598532830803675, 1.2128940949269083, -4.708553943576892, -8.196634118236975, -5.193696648938583, -4.2355898207311204, -9.257587448908614, 11.52582459556845, -7.505928270988903, 1.7323010009410897, 4.098214230536725, -2.833147545769124, -5.339227867792008, 21.06326074567906, 2.0947579081420864, 11.704987275571744, 13.260235686664263, -16.115593252186947, 4.6923445156321755, 20.168861354355368, 1.8458136110709333, 0.9620406408701538, 7.817936374539587, 6.5652956678065175, -1.1914282309608923, 10.571834489104221, 5.369417683608901, 24.49201057660879, 5.800937701731184, 7.270004882603971, 5.994980380946207, -13.36244528676093, -3.161824160864584, -1.6519942572764388, 7.650424956396814, 18.09485207610444, 5.7967919582203065, 6.263427144025679, 23.21203707480218, 5.870035438268002, -1.4078437887334256, -4.161670391897793, 1.4331393922254765, -2.687216616758865, -7.100709052277874, -17.732853951218324, -16.117204522921302, 20.94575272440114, 6.733050635752814, -1.8417482101252078, -0.8259472506565552, 8.140033359724878, 14.045080935942432, -5.013176981775961, -0.40296057441760297, 13.047885440434541, 2.7419916013954655, 1.8583395470077089, 12.450732503771118, 7.9532123182849706, 5.601292068192741, -1.7853938893588102, 3.338047078082353]}],                        {\"hovermode\": \"closest\", \"showlegend\": true, \"template\": {\"data\": {\"bar\": [{\"error_x\": {\"color\": \"#2a3f5f\"}, \"error_y\": {\"color\": \"#2a3f5f\"}, \"marker\": {\"line\": {\"color\": \"#E5ECF6\", \"width\": 0.5}}, \"type\": \"bar\"}], \"barpolar\": [{\"marker\": {\"line\": {\"color\": \"#E5ECF6\", \"width\": 0.5}}, \"type\": \"barpolar\"}], \"carpet\": [{\"aaxis\": {\"endlinecolor\": \"#2a3f5f\", \"gridcolor\": \"white\", \"linecolor\": \"white\", \"minorgridcolor\": \"white\", \"startlinecolor\": \"#2a3f5f\"}, \"baxis\": {\"endlinecolor\": \"#2a3f5f\", \"gridcolor\": \"white\", \"linecolor\": \"white\", \"minorgridcolor\": \"white\", \"startlinecolor\": \"#2a3f5f\"}, \"type\": \"carpet\"}], \"choropleth\": [{\"colorbar\": {\"outlinewidth\": 0, \"ticks\": \"\"}, \"type\": \"choropleth\"}], \"contour\": [{\"colorbar\": {\"outlinewidth\": 0, \"ticks\": \"\"}, \"colorscale\": [[0.0, \"#0d0887\"], [0.1111111111111111, \"#46039f\"], [0.2222222222222222, \"#7201a8\"], [0.3333333333333333, \"#9c179e\"], [0.4444444444444444, \"#bd3786\"], [0.5555555555555556, \"#d8576b\"], [0.6666666666666666, \"#ed7953\"], [0.7777777777777778, \"#fb9f3a\"], [0.8888888888888888, \"#fdca26\"], [1.0, \"#f0f921\"]], \"type\": \"contour\"}], \"contourcarpet\": [{\"colorbar\": {\"outlinewidth\": 0, \"ticks\": \"\"}, \"type\": \"contourcarpet\"}], \"heatmap\": [{\"colorbar\": {\"outlinewidth\": 0, \"ticks\": \"\"}, \"colorscale\": [[0.0, \"#0d0887\"], [0.1111111111111111, \"#46039f\"], [0.2222222222222222, \"#7201a8\"], [0.3333333333333333, \"#9c179e\"], [0.4444444444444444, \"#bd3786\"], [0.5555555555555556, \"#d8576b\"], [0.6666666666666666, \"#ed7953\"], [0.7777777777777778, \"#fb9f3a\"], [0.8888888888888888, \"#fdca26\"], [1.0, \"#f0f921\"]], \"type\": \"heatmap\"}], \"heatmapgl\": [{\"colorbar\": {\"outlinewidth\": 0, \"ticks\": \"\"}, \"colorscale\": [[0.0, \"#0d0887\"], [0.1111111111111111, \"#46039f\"], [0.2222222222222222, \"#7201a8\"], [0.3333333333333333, \"#9c179e\"], [0.4444444444444444, \"#bd3786\"], [0.5555555555555556, \"#d8576b\"], [0.6666666666666666, \"#ed7953\"], [0.7777777777777778, \"#fb9f3a\"], [0.8888888888888888, \"#fdca26\"], [1.0, \"#f0f921\"]], \"type\": \"heatmapgl\"}], \"histogram\": [{\"marker\": {\"colorbar\": {\"outlinewidth\": 0, \"ticks\": \"\"}}, \"type\": \"histogram\"}], \"histogram2d\": [{\"colorbar\": {\"outlinewidth\": 0, \"ticks\": \"\"}, \"colorscale\": [[0.0, \"#0d0887\"], [0.1111111111111111, \"#46039f\"], [0.2222222222222222, \"#7201a8\"], [0.3333333333333333, \"#9c179e\"], [0.4444444444444444, \"#bd3786\"], [0.5555555555555556, \"#d8576b\"], [0.6666666666666666, \"#ed7953\"], [0.7777777777777778, \"#fb9f3a\"], [0.8888888888888888, \"#fdca26\"], [1.0, \"#f0f921\"]], \"type\": \"histogram2d\"}], \"histogram2dcontour\": [{\"colorbar\": {\"outlinewidth\": 0, \"ticks\": \"\"}, \"colorscale\": [[0.0, \"#0d0887\"], [0.1111111111111111, \"#46039f\"], [0.2222222222222222, \"#7201a8\"], [0.3333333333333333, \"#9c179e\"], [0.4444444444444444, \"#bd3786\"], [0.5555555555555556, \"#d8576b\"], [0.6666666666666666, \"#ed7953\"], [0.7777777777777778, \"#fb9f3a\"], [0.8888888888888888, \"#fdca26\"], [1.0, \"#f0f921\"]], \"type\": \"histogram2dcontour\"}], \"mesh3d\": [{\"colorbar\": {\"outlinewidth\": 0, \"ticks\": \"\"}, \"type\": \"mesh3d\"}], \"parcoords\": [{\"line\": {\"colorbar\": {\"outlinewidth\": 0, \"ticks\": \"\"}}, \"type\": \"parcoords\"}], \"pie\": [{\"automargin\": true, \"type\": \"pie\"}], \"scatter\": [{\"marker\": {\"colorbar\": {\"outlinewidth\": 0, \"ticks\": \"\"}}, \"type\": \"scatter\"}], \"scatter3d\": [{\"line\": {\"colorbar\": {\"outlinewidth\": 0, \"ticks\": \"\"}}, \"marker\": {\"colorbar\": {\"outlinewidth\": 0, \"ticks\": \"\"}}, \"type\": \"scatter3d\"}], \"scattercarpet\": [{\"marker\": {\"colorbar\": {\"outlinewidth\": 0, \"ticks\": \"\"}}, \"type\": \"scattercarpet\"}], \"scattergeo\": [{\"marker\": {\"colorbar\": {\"outlinewidth\": 0, \"ticks\": \"\"}}, \"type\": \"scattergeo\"}], \"scattergl\": [{\"marker\": {\"colorbar\": {\"outlinewidth\": 0, \"ticks\": \"\"}}, \"type\": \"scattergl\"}], \"scattermapbox\": [{\"marker\": {\"colorbar\": {\"outlinewidth\": 0, \"ticks\": \"\"}}, \"type\": \"scattermapbox\"}], \"scatterpolar\": [{\"marker\": {\"colorbar\": {\"outlinewidth\": 0, \"ticks\": \"\"}}, \"type\": \"scatterpolar\"}], \"scatterpolargl\": [{\"marker\": {\"colorbar\": {\"outlinewidth\": 0, \"ticks\": \"\"}}, \"type\": \"scatterpolargl\"}], \"scatterternary\": [{\"marker\": {\"colorbar\": {\"outlinewidth\": 0, \"ticks\": \"\"}}, \"type\": \"scatterternary\"}], \"surface\": [{\"colorbar\": {\"outlinewidth\": 0, \"ticks\": \"\"}, \"colorscale\": [[0.0, \"#0d0887\"], [0.1111111111111111, \"#46039f\"], [0.2222222222222222, \"#7201a8\"], [0.3333333333333333, \"#9c179e\"], [0.4444444444444444, \"#bd3786\"], [0.5555555555555556, \"#d8576b\"], [0.6666666666666666, \"#ed7953\"], [0.7777777777777778, \"#fb9f3a\"], [0.8888888888888888, \"#fdca26\"], [1.0, \"#f0f921\"]], \"type\": \"surface\"}], \"table\": [{\"cells\": {\"fill\": {\"color\": \"#EBF0F8\"}, \"line\": {\"color\": \"white\"}}, \"header\": {\"fill\": {\"color\": \"#C8D4E3\"}, \"line\": {\"color\": \"white\"}}, \"type\": \"table\"}]}, \"layout\": {\"annotationdefaults\": {\"arrowcolor\": \"#2a3f5f\", \"arrowhead\": 0, \"arrowwidth\": 1}, \"autotypenumbers\": \"strict\", \"coloraxis\": {\"colorbar\": {\"outlinewidth\": 0, \"ticks\": \"\"}}, \"colorscale\": {\"diverging\": [[0, \"#8e0152\"], [0.1, \"#c51b7d\"], [0.2, \"#de77ae\"], [0.3, \"#f1b6da\"], [0.4, \"#fde0ef\"], [0.5, \"#f7f7f7\"], [0.6, \"#e6f5d0\"], [0.7, \"#b8e186\"], [0.8, \"#7fbc41\"], [0.9, \"#4d9221\"], [1, \"#276419\"]], \"sequential\": [[0.0, \"#0d0887\"], [0.1111111111111111, \"#46039f\"], [0.2222222222222222, \"#7201a8\"], [0.3333333333333333, \"#9c179e\"], [0.4444444444444444, \"#bd3786\"], [0.5555555555555556, \"#d8576b\"], [0.6666666666666666, \"#ed7953\"], [0.7777777777777778, \"#fb9f3a\"], [0.8888888888888888, \"#fdca26\"], [1.0, \"#f0f921\"]], \"sequentialminus\": [[0.0, \"#0d0887\"], [0.1111111111111111, \"#46039f\"], [0.2222222222222222, \"#7201a8\"], [0.3333333333333333, \"#9c179e\"], [0.4444444444444444, \"#bd3786\"], [0.5555555555555556, \"#d8576b\"], [0.6666666666666666, \"#ed7953\"], [0.7777777777777778, \"#fb9f3a\"], [0.8888888888888888, \"#fdca26\"], [1.0, \"#f0f921\"]]}, \"colorway\": [\"#636efa\", \"#EF553B\", \"#00cc96\", \"#ab63fa\", \"#FFA15A\", \"#19d3f3\", \"#FF6692\", \"#B6E880\", \"#FF97FF\", \"#FECB52\"], \"font\": {\"color\": \"#2a3f5f\"}, \"geo\": {\"bgcolor\": \"white\", \"lakecolor\": \"white\", \"landcolor\": \"#E5ECF6\", \"showlakes\": true, \"showland\": true, \"subunitcolor\": \"white\"}, \"hoverlabel\": {\"align\": \"left\"}, \"hovermode\": \"closest\", \"mapbox\": {\"style\": \"light\"}, \"paper_bgcolor\": \"white\", \"plot_bgcolor\": \"#E5ECF6\", \"polar\": {\"angularaxis\": {\"gridcolor\": \"white\", \"linecolor\": \"white\", \"ticks\": \"\"}, \"bgcolor\": \"#E5ECF6\", \"radialaxis\": {\"gridcolor\": \"white\", \"linecolor\": \"white\", \"ticks\": \"\"}}, \"scene\": {\"xaxis\": {\"backgroundcolor\": \"#E5ECF6\", \"gridcolor\": \"white\", \"gridwidth\": 2, \"linecolor\": \"white\", \"showbackground\": true, \"ticks\": \"\", \"zerolinecolor\": \"white\"}, \"yaxis\": {\"backgroundcolor\": \"#E5ECF6\", \"gridcolor\": \"white\", \"gridwidth\": 2, \"linecolor\": \"white\", \"showbackground\": true, \"ticks\": \"\", \"zerolinecolor\": \"white\"}, \"zaxis\": {\"backgroundcolor\": \"#E5ECF6\", \"gridcolor\": \"white\", \"gridwidth\": 2, \"linecolor\": \"white\", \"showbackground\": true, \"ticks\": \"\", \"zerolinecolor\": \"white\"}}, \"shapedefaults\": {\"line\": {\"color\": \"#2a3f5f\"}}, \"ternary\": {\"aaxis\": {\"gridcolor\": \"white\", \"linecolor\": \"white\", \"ticks\": \"\"}, \"baxis\": {\"gridcolor\": \"white\", \"linecolor\": \"white\", \"ticks\": \"\"}, \"bgcolor\": \"#E5ECF6\", \"caxis\": {\"gridcolor\": \"white\", \"linecolor\": \"white\", \"ticks\": \"\"}}, \"title\": {\"x\": 0.05}, \"xaxis\": {\"automargin\": true, \"gridcolor\": \"white\", \"linecolor\": \"white\", \"ticks\": \"\", \"title\": {\"standoff\": 15}, \"zerolinecolor\": \"white\", \"zerolinewidth\": 2}, \"yaxis\": {\"automargin\": true, \"gridcolor\": \"white\", \"linecolor\": \"white\", \"ticks\": \"\", \"title\": {\"standoff\": 15}, \"zerolinecolor\": \"white\", \"zerolinewidth\": 2}}}, \"title\": {\"text\": \"Word2vec\"}, \"xaxis\": {\"zeroline\": false}, \"yaxis\": {\"zeroline\": false}},                        {\"responsive\": true}                    ).then(function(){\n",
       "                            \n",
       "var gd = document.getElementById('be5960a6-063f-4fb2-847e-e8c27c9b31ce');\n",
       "var x = new MutationObserver(function (mutations, observer) {{\n",
       "        var display = window.getComputedStyle(gd).display;\n",
       "        if (!display || display === 'none') {{\n",
       "            console.log([gd, 'removed!']);\n",
       "            Plotly.purge(gd);\n",
       "            observer.disconnect();\n",
       "        }}\n",
       "}});\n",
       "\n",
       "// Listen for the removal of the full notebook cells\n",
       "var notebookContainer = gd.closest('#notebook-container');\n",
       "if (notebookContainer) {{\n",
       "    x.observe(notebookContainer, {childList: true});\n",
       "}}\n",
       "\n",
       "// Listen for the clearing of the current output cell\n",
       "var outputEl = gd.closest('.output');\n",
       "if (outputEl) {{\n",
       "    x.observe(outputEl, {childList: true});\n",
       "}}\n",
       "\n",
       "                        })                };                });            </script>        </div>"
      ]
     },
     "metadata": {},
     "output_type": "display_data"
    }
   ],
   "source": [
    "trace = go.Scatter(\n",
    "    x = transformed_vectors[:250,0],\n",
    "    y = transformed_vectors[:250,1],\n",
    "    text = model.index2word[:250],\n",
    "    mode = 'markers',\n",
    "    showlegend = True,\n",
    "    marker = dict(\n",
    "        size = 8,\n",
    "        colorscale ='Jet',\n",
    "        showscale = False,\n",
    "        line = dict(\n",
    "            width = 2,\n",
    "            color = 'rgb(255, 255, 255)'\n",
    "        ),\n",
    "        opacity = 0.8\n",
    "    )\n",
    ")\n",
    "\n",
    "trace1 = go.Scatter(\n",
    "    x = transformed_vectors2[:250,0],\n",
    "    y = transformed_vectors2[:250,1],\n",
    "    text = model2.index2word[:250],\n",
    "    mode = 'markers',\n",
    "    showlegend = True,\n",
    "    marker = dict(\n",
    "        size = 8,\n",
    "        colorscale ='Jet',\n",
    "        showscale = False,\n",
    "        line = dict(\n",
    "            width = 2,\n",
    "            color = 'rgb(255, 255, 0)'\n",
    "        ),\n",
    "        opacity = 0.8\n",
    "    )\n",
    ")\n",
    "data = [trace, trace1]\n",
    "\n",
    "layout = dict(title = \"Word2vec\",\n",
    "              hovermode= 'closest',\n",
    "              yaxis = dict(zeroline = False),\n",
    "              xaxis = dict(zeroline = False),\n",
    "              showlegend= True\n",
    "             )\n",
    "\n",
    "fig = dict(data=data, layout=layout)\n",
    "py.iplot(fig, filename='styled-scatter')"
   ]
  },
  {
   "cell_type": "code",
   "execution_count": 11,
   "metadata": {},
   "outputs": [],
   "source": [
    "text = model.index2word[:500]"
   ]
  },
  {
   "cell_type": "code",
   "execution_count": 17,
   "metadata": {},
   "outputs": [
    {
     "data": {
      "application/vnd.plotly.v1+json": {
       "config": {
        "plotlyServerURL": "https://plot.ly"
       },
       "data": [
        {
         "hovertemplate": "x=%{x}<br>y=%{y}<br>text=%{text}<extra></extra>",
         "legendgroup": "",
         "marker": {
          "color": "#636efa",
          "symbol": "circle"
         },
         "mode": "markers+text",
         "name": "",
         "orientation": "v",
         "showlegend": false,
         "text": [
          "/en/united_states",
          "/en/associated_press",
          "/en/barack_obama",
          "/en/china",
          "/en/united_kingdom",
          "/en/new_york",
          "/en/india",
          "/en/europe",
          "/en/washington_united_states",
          "/en/canada",
          "/en/iraq",
          "/en/israel",
          "/en/california",
          "/en/republican_party",
          "/en/austraila",
          "/en/japan",
          "/en/france",
          "/en/russia",
          "/en/iran",
          "/en/germany",
          "/en/afghanistan",
          "/en/london",
          "/en/pakistan",
          "/en/florida",
          "/en/nyse",
          "/en/congress_u_s",
          "/en/texas",
          "/en/england",
          "/en/democrat_party",
          "/en/italy",
          "/en/nasdaq",
          "/en/european_union",
          "/en/spain",
          "/en/white_house",
          "/en/los_angeles",
          "/en/united_staff",
          "/en/reuters",
          "/en/south_africa",
          "/en/mexico",
          "/en/asia",
          "/en/national_football_league",
          "/en/apple_inc",
          "/en/australian_senate",
          "/en/facebook",
          "/en/chicago",
          "/en/greece",
          "/en/google",
          "/en/egypt",
          "/en/george_h_w_bush",
          "/en/syria",
          "/en/democracy",
          "/en/north_carolina",
          "/en/microsoft",
          "/en/mitt_romney",
          "/en/ohio",
          "/en/new_jersey",
          "/en/brazil",
          "/en/federal_reserve_system",
          "/en/turkey",
          "/en/twitter",
          "/en/god",
          "/en/olympic_games",
          "/en/john_mccain",
          "/en/state_of_palestine",
          "/en/south_korea",
          "/en/illinois",
          "/en/muslim",
          "/en/michigan",
          "/en/arizona",
          "/en/hillary_rodham_clinton",
          "/en/north_america",
          "/en/christmas",
          "/en/libya",
          "/en/africa",
          "/en/united_states_securities_and_exchange_commission",
          "/en/george_w_bush",
          "/en/beijing",
          "/en/islam",
          "/en/new_zealand",
          "/en/supreme_court",
          "/en/taliban_movement",
          "/en/north_korea",
          "/en/middle_east",
          "/en/united_states_house_of_representatives",
          "/en/massachusetts",
          "/en/al-qaeda",
          "/en/national_basketball_association",
          "/en/new_york_yankees",
          "/en/boston_red_sox",
          "/en/republicans",
          "/en/wall_street",
          "/en/general_motors",
          "/en/san_francisco",
          "/en/republic_of_ireland",
          "/en/minnesota",
          "/en/iowa",
          "/en/wisconsin",
          "/en/switzerland",
          "/en/paris",
          "/en/north_atlantic_treaty_organization",
          "/en/netherlands",
          "/en/new_york_state",
          "/en/pennsylvania",
          "/en/hong_kong",
          "/en/manchester_united_fc",
          "/en/colorado",
          "/en/detroit_tigers",
          "/en/nigeria",
          "/en/food_and_drug_administration",
          "/en/indiana",
          "/en/st_louis_cardinals",
          "/en/south_carolina",
          "/en/iphone",
          "/en/national_hockey_league",
          "/en/federal_bureau_of_investigation",
          "/en/saudi_arabia",
          "/en/toronto",
          "/en/swedem",
          "/en/fifa_world_cup",
          "/en/scotland",
          "/en/dow_jones_industrial_average",
          "/en/connecticut",
          "/en/chelsea_fc",
          "/en/philippines",
          "/en/singapore",
          "/en/new_delhi",
          "/en/tennesee",
          "/en/thailand",
          "/en/philadelphia_phillies",
          "/en/miami_heat",
          "/en/arab",
          "/en/boston_massachusetts",
          "/en/cuba",
          "/en/philadelphia_eagles",
          "/en/georgia",
          "/en/hollywood",
          "/en/western_world",
          "/en/bp",
          "/en/mumbai",
          "/en/kansas",
          "/en/lebanon",
          "/en/indonesia",
          "/en/argentina",
          "/en/hamas",
          "/en/tokyo",
          "/en/fa_premier_league",
          "/en/texas_rangers",
          "/en/poland",
          "/en/jew",
          "/en/pittsburgh_steelers",
          "/en/atlanta",
          "/en/tiger_woods",
          "/en/philadelphia",
          "/en/chinese_taipei",
          "/en/baghdad",
          "/en/detroit_michigan",
          "/en/houston",
          "/en/national_collegiate_athletic_association",
          "/en/green_bay_packers",
          "/en/moscow",
          "/en/the_new_york_times",
          "/en/vietnam",
          "/en/alabama",
          "/en/international_monetary_fund",
          "/en/haiti",
          "/en/ford_motor_company",
          "/en/muammar_al-gaddafi",
          "/en/boston_celtics",
          "/en/somalia",
          "/en/malaysia",
          "/en/ontario",
          "/m/036nz",
          "/en/new_hampshire",
          "/en/los_angeles_lakers",
          "/en/san_francisco_giants",
          "/en/super_bowl",
          "/en/toyota_motor_corporation",
          "/en/liverpool_fc",
          "/en/nevada",
          "/en/atlanta_braves",
          "/en/kenya",
          "/en/oklahoma",
          "/en/shia_islam",
          "/en/new_york_mets",
          "/en/new_orleans",
          "/en/chicago_cubs",
          "/en/alaska",
          "/en/cleveland_cavaliers",
          "/m/019rl6",
          "/en/nasa",
          "/en/louisiana",
          "/en/wal-mart",
          "/en/british_columbia",
          "/en/new_york_giants",
          "/en/bloomberg_television",
          "/en/seattle",
          "/en/ukraine",
          "/en/s_p_500",
          "/en/medicare",
          "/en/pr_newswire",
          "/en/sarah_palin",
          "/en/arsenal_fc",
          "/en/dubai",
          "/en/nbc",
          "/en/missouri",
          "/en/business_wire",
          "/en/united_nations_security_council",
          "/en/parliament_of_the_united_kingdom",
          "/en/los_angeles_dodgers",
          "/en/agence_france-presse",
          "/en/youtube",
          "/en/venezuela",
          "/en/tehran",
          "/en/michael_jackson",
          "/en/sydney",
          "/en/united_states_environmental_protection_agency",
          "/en/utah",
          "/en/army",
          "/en/cincinnati_reds",
          "/en/united_arab_emirates",
          "/en/gphone",
          "/en/new_york_jets",
          "/en/ipad",
          "/en/boston_bruins",
          "/en/washington",
          "/en/dallas",
          "/en/maryland",
          "/en/at_t",
          "/en/las_vegas_metropolitan_area",
          "/en/seattle_mariners",
          "/en/denver",
          "/en/milwaukee_brewers",
          "/en/new_england_patriots",
          "/en/lebron_james",
          "/en/osama_bin_laden",
          "/en/african_american",
          "/en/yemen",
          "/en/minnesota_twins",
          "/en/chicago_white_sox",
          "/en/zimbabwe",
          "/en/gaza",
          "/en/portugal",
          "/en/city_council",
          "/en/mississippi",
          "/en/latin_america",
          "/en/san_diego",
          "/en/norway",
          "/en/run_batted_in",
          "/en/serbia",
          "/en/earth",
          "/en/bill_clinton",
          "/en/united_states_navy",
          "/en/european_central_bank",
          "/en/toronto_blue_jays",
          "/en/the_pentagon",
          "/en/wales",
          "/en/bbc",
          "/en/myanmar",
          "/en/citigroup",
          "/en/english_cricket_team",
          "/en/american_broadcasting_company",
          "/en/gulf_of_mexico",
          "/en/belgium",
          "/en/oregon",
          "/en/roger_federer",
          "/en/gaza_strip",
          "/en/new_mexico",
          "/en/dallas_mavericks",
          "/en/amazon_com",
          "/en/virginia",
          "/en/ohio_state_university",
          "/en/cnn",
          "/en/colombia",
          "/en/pennsylvania_state_university",
          "/en/tampa_bay_devil_rays",
          "/en/maine",
          "/en/oakland_athletics",
          "/en/uefa_champions_league",
          "/en/central_intelligence_agency",
          "/en/research",
          "/en/kentucky",
          "/en/chrysler",
          "/en/staff_intel",
          "/en/vancouver_british_columbia",
          "/en/cleveland_indians",
          "/en/cbs",
          "/en/west_virginia",
          "/en/bank_of_america",
          "/en/hawaii",
          "/en/new_york_county",
          "/en/denmark",
          "/en/nebraska",
          "/en/sri_lanka",
          "/en/dallas_cowboys",
          "/en/soviet_union",
          "/en/ibm",
          "/en/united_states_department_of_state",
          "/en/baltimore_ravens",
          "/m/0d0kn",
          "/en/houston_astros",
          "/en/pittsburgh_penguins",
          "/en/legislature",
          "/en/roman_catholic_church",
          "/en/aids",
          "/en/colorado_rockies",
          "/en/kansas_city_royals",
          "/en/chicago_bulls",
          "/en/arkansas",
          "/en/sunni_islam",
          "/en/atlanta_falcons",
          "/en/san_diego_padres",
          "/en/sony",
          "/en/cleveland_browns",
          "/en/personal_computer",
          "/en/miami_dolphins",
          "/en/atlanta_hawks",
          "/en/minneapolis",
          "/en/southern_california",
          "/en/manchester_city_fc",
          "/en/earned_run_average",
          "/en/united_states_senate",
          "/en/toronto_stock_exchange",
          "/en/phoenix",
          "/en/sudan",
          "/en/florida_marlins",
          "/en/washington_nationals",
          "/en/jesus",
          "/en/world_war_ii",
          "/en/chile",
          "/en/shanghai",
          "/en/austria",
          "/en/czech_republic",
          "/en/orlando_magic",
          "/en/hewlett-packard",
          "/en/broadway_theatre",
          "/en/ghana",
          "/en/bashar_al-assad",
          "/en/comtex",
          "/en/tottenham_hotspur_fc",
          "/en/islamabad",
          "/en/miami",
          "/en/major_league_baseball",
          "/en/board_of_directors",
          "/en/detroit_red_wings",
          "/en/golden_state_warriors",
          "/en/seattle_seahawks",
          "/en/newt_gingrich",
          "/en/san_antonio_spurs",
          "/en/bulldog",
          "/en/fc_barcelona",
          "/en/nascar",
          "/en/arizona_diamondbacks",
          "/en/the_wall_street_journal",
          "/en/melbourne_australia",
          "/en/phoenix_suns",
          "/en/vancouver_canucks",
          "/en/ben_bernanke",
          "/en/nicolas_sarkozy",
          "/en/berlin",
          "/en/montana",
          "/en/rafael_nadal",
          "/en/jordan",
          "/en/vladimir_putin",
          "/en/world_series",
          "/en/european_commission",
          "/en/academy_awards",
          "/en/bharatiya_janata_party",
          "/en/hosni_mubarak",
          "/en/standard_poors",
          "/en/ncaa_mens_division_i_basketball_championship",
          "/en/western_united_states",
          "/en/seoul",
          "/en/montreal",
          "/en/rome",
          "/en/the_washington_post",
          "/en/st_louis_rams",
          "/en/baltimore_orioles",
          "/en/tsx_venture_exchange",
          "/en/new_orleans_saints",
          "/en/gordon_brown",
          "/en/san_diego_chargers",
          "/en/u_s_open",
          "/en/alberta",
          "/en/brussels",
          "/en/hugo_chavez",
          "/en/washington_redskins",
          "/en/alabama_crimson_tide_football",
          "/en/real_madrid",
          "/en/ottawa",
          "/en/indianapolis_colts",
          "/en/marketwire",
          "/en/hiv_infections",
          "/en/denver_broncos",
          "/en/cairo",
          "/en/southeastern_conference",
          "/en/espn",
          "/en/southern_united_states",
          "/en/england_national_football_team",
          "/en/jerusalem",
          "/en/new_york_knicks",
          "/en/indian_national_congress",
          "/en/west_bank",
          "/en/duke_university",
          "/en/nashville_tennessee",
          "/en/caribbean",
          "/en/fox_broadcasting_company",
          "/en/houston_rockets",
          "/en/st_louis_missouri",
          "/en/medicaid",
          "/en/otc_bulletin_board",
          "/en/kabul",
          "/en/member_of_parliament",
          "/en/hispanic",
          "/en/qatar",
          "/en/tsn",
          "/en/boeing",
          "/en/michigan_state_university",
          "/en/joe_biden",
          "/en/david_cameron",
          "/en/denver_nuggets",
          "/en/lsu_tigers",
          "/en/idaho",
          "/en/kobe_bryant",
          "/en/vermont",
          "/en/quebec",
          "/en/notre_dame_fighting_irish_football",
          "/en/brett_favre",
          "/en/jpmorgan_chase_co",
          "/en/united_states_constitution",
          "/en/new_orleans_oklahoma_city_hornets",
          "/en/goldman_sachs",
          "/en/atlantic_ocean",
          "/en/north_dakota",
          "/en/rick_perry",
          "/en/portland_trail_blazers",
          "/en/christian",
          "/en/pakistani_cricket_team",
          "/en/hamid_karzai",
          "/en/mahmoud_abbas",
          "/en/pittsburgh_pirates",
          "/en/finland",
          "/en/press_trust_of_india",
          "/en/minnesota_vikings",
          "/en/centers_for_disease_control_and_prevention",
          "/en/south_america",
          "/en/athens",
          "/en/jacksonville_jaguars",
          "/en/harry_reid",
          "/en/bear",
          "/en/los_angeles_angels_of_anaheim",
          "/en/bahrain",
          "/en/wildcats_1986",
          "/en/san_jose_sharks",
          "/en/internal_revenue_service",
          "/en/mahmoud_ahmadinejad",
          "/en/identity_document",
          "/en/toronto_maple_leafs",
          "/en/montreal_canadiens",
          "/en/indianapolis",
          "/en/nokia",
          "/en/jamaica",
          "/en/new_york_mercantile_exchange",
          "/en/wimbledon",
          "/en/chicago_blackhawks",
          "/en/american_international_group",
          "/en/justice_department",
          "/en/us_marines",
          "/en/midwestern_united_states",
          "/en/panthers",
          "/en/hezbollah",
          "/en/romania",
          "/en/thomson_reuters",
          "/en/tampa_bay_buccaneers",
          "/en/new_york_rangers",
          "/en/university_of_california_los_angeles",
          "/en/rhode_island",
          "/en/asia-pacific",
          "/en/harvard_university",
          "/en/walt_disney_staff",
          "/en/united_states_department_of_agriculture",
          "/en/ethiopia",
          "/en/saddam_hussein",
          "/en/pervez_musharraf",
          "/en/philadelphia_flyers",
          "/en/tunisia",
          "/en/big_ten_conference",
          "/en/steve_jobs",
          "/en/hungary",
          "/en/stanford_university",
          "/en/federation_internationale_de_football_association",
          "/en/treasury_security",
          "/en/bangladesh",
          "/en/uganda",
          "/en/benjamin_netanyahu",
          "/en/united_states_department_of_the_treasury",
          "/en/ipod",
          "/en/gross_domestic_product",
          "/en/rick_santorum",
          "/en/buffalo_sabres",
          "/en/oklahoma_city_thunder"
         ],
         "textposition": "top center",
         "type": "scatter",
         "x": [
          13.221097373181381,
          18.637122031555315,
          3.812041474112749,
          -11.727878100658124,
          -30.962409270286955,
          20.52730919527619,
          -6.700488906004819,
          -18.413083144465105,
          6.355173765564612,
          13.99025290066681,
          -9.254209669723853,
          -17.68362886509792,
          29.513198514353572,
          9.957794383221378,
          8.862981753035678,
          -4.314929197869943,
          -32.32708038419828,
          -23.797529358975524,
          -20.133379823989703,
          -29.909496434834033,
          -0.17425160491238528,
          -30.30441531795796,
          -0.8670993845461253,
          25.55601790729792,
          29.820811157039568,
          6.763673528124071,
          -16.736130579565053,
          -31.45619462661769,
          9.569109633060837,
          -34.64084114913453,
          29.781501866748506,
          -24.822624446300857,
          -31.084404573941907,
          4.313190928172724,
          32.1718898306791,
          -15.476048846428489,
          20.407240746036194,
          -45.066062127483825,
          -24.42771117597042,
          -15.89473050219369,
          -6.581271354187122,
          53.096264044093324,
          7.586615773858771,
          38.023117404113115,
          15.99912195685018,
          -29.08785693970442,
          40.47428148327441,
          -25.251545326753206,
          4.177300125010212,
          -16.456629913703537,
          9.811778683108399,
          7.955518898622929,
          42.02835710097621,
          10.728511316788898,
          13.23126572352236,
          19.9238729970469,
          -30.175948561759192,
          16.16840733493127,
          -26.01956515711631,
          37.963025454915346,
          -16.753339413327353,
          -34.01917341981679,
          10.11841691027218,
          -17.999898855066714,
          -6.1180873793109525,
          15.93916490048844,
          -16.0602036887604,
          12.011122226202176,
          -15.158310960127132,
          2.88679393924721,
          -16.92130496505299,
          -17.960075656654833,
          -28.273619224709734,
          -36.688304974006144,
          29.234484017148887,
          4.042826088119115,
          -11.8249061982759,
          -16.107043107087367,
          7.478583968646682,
          17.411594628551313,
          -0.7247469128701749,
          -5.749474902157213,
          -24.756153920237203,
          7.563070763050242,
          21.208715596267737,
          -3.7915270331033106,
          -33.57606227578095,
          -12.380311528286192,
          -13.642819699632122,
          9.512478241820013,
          25.238919913362704,
          42.058599181238705,
          28.15944423709251,
          -25.235978342281857,
          1.6963490898293263,
          -0.8052286284725783,
          4.368617125250645,
          -31.990578486296844,
          -32.247901968266795,
          0.42541416742011,
          -34.273167720045,
          19.04163777903661,
          7.944471601374836,
          -10.176923680808066,
          -44.7151207887793,
          -8.599917047297806,
          -5.7447963271925415,
          -39.03631729911424,
          37.716391993569424,
          9.01429660450069,
          -1.2025274875438954,
          5.829896714598341,
          52.49422362470979,
          -31.094885925479808,
          19.736864692501715,
          -21.469131341527017,
          16.975438385060414,
          -35.993086387877014,
          -49.442335094180066,
          -29.83000575388255,
          27.334169033162986,
          24.390961828587326,
          -44.203967520135656,
          -12.327693320023425,
          -7.47202501591453,
          -5.337412029310683,
          2.2886339203035977,
          -9.643389251282583,
          -0.027836398360153013,
          -29.22612372595173,
          -18.49442347649266,
          21.277884224507208,
          -24.46938279801508,
          -10.894187135590757,
          6.278075301859739,
          33.70048509855683,
          -19.86802642670732,
          7.0208726422293815,
          -5.377081899548189,
          -10.596015574784783,
          -17.165210754652968,
          -7.407092875609266,
          -29.624046869758338,
          -19.380616764797697,
          -4.325683210395581,
          -44.01798993386696,
          -9.195708202667753,
          -30.069463752345435,
          -18.321650773787166,
          -17.67149458569128,
          6.379102936668377,
          15.58751972981953,
          8.256976502899922,
          -9.27562982287961,
          -8.826664911435524,
          12.722341658125663,
          -15.936826443326474,
          -20.181332374219412,
          -6.0212087181395795,
          -23.601765311260245,
          29.44956127477951,
          -9.593604951305942,
          5.620590015648063,
          -6.513223383319395,
          -22.33442894120635,
          42.20878952718996,
          -28.293775604545935,
          -27.12546561148808,
          -31.467009032129592,
          -7.3852725837235855,
          17.24774286653568,
          8.704229672651337,
          19.91501470100998,
          -31.619052180920654,
          -3.0257345939693017,
          -10.372214762516581,
          37.47945004313941,
          -42.40193894709732,
          22.441465288194916,
          1.897609657384456,
          -35.04280716046332,
          -12.301306745615287,
          -9.970707314594993,
          3.240555808660709,
          4.151689866291382,
          -4.800073910642417,
          3.09691368226284,
          -28.70982331922012,
          40.55569383686895,
          -20.41360067921888,
          4.364658905929611,
          58.39493210555369,
          16.525160226694812,
          -11.772870453177864,
          24.346940393799212,
          14.538054196216114,
          -25.804079122515784,
          27.339002538202184,
          13.847699789201329,
          28.12354188767778,
          9.05868546547557,
          -46.76689793973407,
          -20.165924425394593,
          30.07944636520536,
          -10.407520552538148,
          28.17052250187739,
          -15.509593709711623,
          6.48181904800313,
          -4.381593005552636,
          20.28062096496813,
          38.53401596141421,
          -26.37699224085722,
          -20.114752805618753,
          16.55314896524177,
          10.066209500705009,
          -4.133632603898544,
          -11.195118436395104,
          1.9541562658403675,
          -2.90983321337512,
          -20.745901511196543,
          51.831207510998574,
          -15.419901977794519,
          52.58275697449004,
          -32.63713563013313,
          14.440821141316183,
          -15.703152169828087,
          4.690153544262481,
          42.437557322381856,
          21.97706331767461,
          -7.280123322470471,
          -8.643589325792812,
          -3.8135194121993363,
          -13.85342489270303,
          -29.322693145191728,
          -3.8996406653038473,
          -8.886335356451823,
          -23.12160648660033,
          -5.121318741518167,
          -5.008315138717164,
          -43.44925288659169,
          -19.49388774429606,
          -30.762443556700255,
          2.331174253570816,
          4.560462919792958,
          -29.905582458066217,
          30.892037623793275,
          -36.305631626513886,
          -0.3381368494981085,
          -32.86272082751847,
          -21.638869502595604,
          1.9565678627789063,
          2.36840225640757,
          14.330180628900887,
          -9.037861075731687,
          4.964593371078973,
          -31.371611569311487,
          18.73547366918323,
          -11.918427714416886,
          22.445775187661578,
          -58.18480049094048,
          30.01289396733764,
          6.852434224196116,
          -33.87216557279334,
          16.346268077069027,
          -62.905777760129,
          -19.561123030119226,
          -13.095830615508172,
          -32.439396702738335,
          58.79591503455906,
          3.3127514823748787,
          -9.732509971491988,
          30.84376553206328,
          -26.694085327244224,
          1.2244629127632576,
          -11.994355895978114,
          20.883650369314157,
          -8.04697730713164,
          -41.97132320547853,
          5.5404124296462705,
          25.518442940718696,
          5.923277052978231,
          41.97749118724663,
          51.70172949112847,
          16.59774773418721,
          -5.134713044724993,
          30.073283502986083,
          4.924325130626679,
          21.713060973733768,
          -24.37858800813307,
          20.790655650000236,
          -35.976311610595246,
          -4.337913876851256,
          -9.216385344645644,
          -12.243750896466382,
          -17.263055263670445,
          49.12459297261591,
          3.4091236844572097,
          -17.114815463610896,
          -23.522511074490758,
          -2.7037110533788056,
          -31.846111762624172,
          7.049009736635189,
          -20.36155239412062,
          -3.805349741623417,
          -4.178600155185739,
          -5.349337062753135,
          -23.966311435572553,
          1.625478989462036,
          -10.081557686462315,
          -11.565901305139759,
          -4.456571667735171,
          53.30354199406082,
          -15.608660266887401,
          56.16654275346632,
          -13.839867253455242,
          -23.90940191410979,
          1.819174808857588,
          29.2517490984205,
          -45.42919508808888,
          -6.134715532578681,
          8.881156075491523,
          30.953954334431945,
          -15.231877470181423,
          -33.335978443796954,
          2.756767416020435,
          2.46166890822593,
          -17.30508388480251,
          -2.3346870926744985,
          -28.70778720167121,
          -10.612784323605405,
          -30.559206963478893,
          -30.643011838716255,
          -28.441055028752626,
          49.03316541109197,
          9.909240719484963,
          -40.119626963597035,
          -16.45777201002227,
          28.561278159838704,
          -46.222627706336304,
          -1.1465695868246837,
          26.20722507076397,
          -14.909311599449282,
          38.450444313499496,
          -39.019693054180735,
          -28.10042733551343,
          -13.426110360161845,
          10.934806501559784,
          -34.518969971149986,
          -18.228493031886657,
          -45.05595646391205,
          31.736698813002818,
          -4.5731190342717625,
          29.448125551135195,
          9.9196765072533,
          -32.054690854341686,
          -36.27714885911602,
          16.070145822211142,
          -26.991191479812137,
          -29.738480418502338,
          -5.128945748769047,
          -62.88231673510467,
          -20.640251793377725,
          -23.167226460756645,
          -15.795031176278327,
          -24.85580269081194,
          33.941584253139375,
          3.894242479958266,
          -25.031466435211197,
          22.220755268368965,
          -19.079975935399748,
          -8.800181253551461,
          -6.015706213470188,
          16.383717986289728,
          -34.30744256168294,
          29.279912194364655,
          -13.397996267974905,
          -9.144212035301663,
          31.0926428127699,
          -7.510436481116113,
          4.875537256543711,
          -13.339976947377192,
          -62.95099117492215,
          15.579883811970381,
          -25.305917292944418,
          -26.383528914294203,
          -10.639145325312978,
          -3.6760267374883044,
          -45.010732911873966,
          16.793679896913623,
          -9.884961920358155,
          28.200282513715607,
          -3.8042225833951155,
          -11.080042762263014,
          -25.243666026172335,
          -3.349521908321863,
          33.95881951739353,
          -9.496915380799923,
          -47.99763218801544,
          -16.98786368756595,
          -32.44122161845387,
          4.018182525687207,
          -17.5318512242471,
          -4.614217895345333,
          2.284230524617431,
          -29.50987077431709,
          29.986331374259414,
          -30.348825433557955,
          -8.819251901732136,
          13.785777673043468,
          30.04533207046282,
          -0.15947886645606302,
          6.431599123693294,
          -9.057101138924201,
          -20.88192849787005,
          18.693656108863756,
          47.3522830111522,
          -9.511935856449396,
          3.4094858845894724,
          4.8989797752435855,
          -31.058092699037278,
          -3.3850473813346404,
          -5.760789732361898,
          -31.48082174533541,
          21.008340739187403,
          16.051416907182173,
          -12.338693115893806,
          -5.438419366364243,
          22.276773666628372,
          15.359382686037174,
          -29.098799044288697,
          23.15308642107622,
          -8.640002736609565,
          -2.2955273948487336,
          10.548918235253806,
          -27.148594146323582,
          -17.635192166810775,
          -59.863475475626466,
          0.06124015413350714,
          -18.55664009211625,
          -3.17493798930285,
          -35.899474341517845,
          -5.2794701140880225,
          -5.013093422183471,
          -4.432183934789487,
          -29.878256642292286,
          -29.151500864242426,
          -16.912566259239117,
          7.5856428937606255,
          -7.746873492749345,
          -8.118632915739145,
          -22.06211452328158,
          -18.257149251943556,
          -37.122167947709535,
          12.728825190750731,
          -20.661800389819206,
          24.123005166651847,
          -31.443695894094088,
          -31.778205294263845,
          9.040746505475132,
          49.776590096527,
          -30.595485055776177,
          24.086244813154583,
          -62.421974642607076,
          -37.870048325559935,
          18.624075648201746,
          15.303511050688956,
          1.840928584635403,
          -7.324307290138469,
          -17.932242380759682,
          -17.192944160254502,
          -29.954970357707555,
          25.780901092335593,
          -11.960447035839195,
          -33.05937078742146,
          -19.988112158007098,
          21.884810306225845,
          -16.442203151016823,
          -3.477098382583201,
          39.179417740750736,
          10.153656659723245,
          -32.97161279841921,
          -10.434902405918745,
          -0.4068413304623647,
          -33.899499871027544,
          -26.216283041428152,
          -9.93887026318992,
          53.87657642726038,
          -30.104184620375683,
          -20.00019598503309,
          -45.10610809891389,
          17.32335989778061,
          -6.604407039133128,
          -34.734330256327,
          -16.746935723210758,
          17.31275503921638,
          52.114600122610554,
          10.248831577328378,
          10.952212823626818,
          -32.693723537016595,
          -30.45062637152186
         ],
         "xaxis": "x",
         "y": [
          16.957518218284456,
          12.900205397827342,
          -0.847977804623392,
          10.713267286743783,
          -1.7956265384853618,
          -17.101262051338196,
          37.272358505926704,
          13.44613484851676,
          -3.049524951584011,
          17.26280858500223,
          24.383439010444032,
          30.035993594372496,
          -18.908957334322093,
          -12.02700165502994,
          28.93038183700392,
          12.339570445648544,
          4.597089553701719,
          12.176463368154092,
          17.66555181617837,
          6.947532609805968,
          22.81529065134261,
          -1.3989045704185648,
          26.47020590077043,
          -31.696718168987992,
          7.039377806390324,
          -4.086823611438365,
          -21.4328432193648,
          -18.067880696931464,
          -11.299640689062242,
          2.3657835692717324,
          7.128426281062709,
          5.398604779056126,
          2.3192393197244456,
          -1.4742566070575502,
          -21.821469512548795,
          19.36745749396225,
          13.353632417365686,
          20.37131074051303,
          -12.845450757545759,
          13.99417544222153,
          -59.6649533987186,
          14.512071395831047,
          -7.891967746709908,
          8.272918834715588,
          -25.126667945799532,
          2.1549972797681947,
          7.764993174562992,
          24.393821105005138,
          0.034865636211443486,
          23.20209894507151,
          -11.849670040444856,
          -57.385026168973255,
          6.019090081257091,
          -18.65940261156217,
          -42.992420368118154,
          -29.22972480769858,
          -6.2053070053070964,
          6.165151791842719,
          18.180751398757216,
          8.27557389838473,
          1.9234778098333645,
          -5.491496646000811,
          -16.53340540422867,
          29.026896896267765,
          10.399748387672272,
          -25.62647212833655,
          4.604942228530708,
          -36.59651582949775,
          -13.831699837288724,
          -0.4318298528483722,
          13.2315790983246,
          -5.019332124982111,
          26.721779803239283,
          19.76592773418149,
          2.041046630428545,
          0.11091699531580243,
          10.65521328994992,
          4.652524275153422,
          28.826764182985205,
          -12.006407575295217,
          23.35806784476883,
          9.620451471995553,
          21.55366454638574,
          -7.656998722527353,
          -40.82542570617323,
          22.05435197633494,
          42.795936416276156,
          49.98450074239236,
          52.462612846628126,
          -11.20234492385924,
          3.2194916311088253,
          -23.32728508271237,
          -17.97397342351658,
          -2.4528695859843075,
          -21.9478849697499,
          -23.75203498399401,
          -25.60418418545903,
          7.299973754377079,
          4.4728782568855046,
          21.87631738807959,
          6.541372706116866,
          -20.19491680093544,
          -33.15696593841002,
          10.883969562708234,
          -8.969849607618519,
          -20.0884733111182,
          54.7804218555336,
          27.44091378259536,
          -10.70076353570055,
          -41.35398843640549,
          64.49643279345042,
          -53.09656454477086,
          14.2621654658962,
          -31.104442477908112,
          -6.834223616861061,
          22.70173125180355,
          19.082964621173115,
          8.878292674554663,
          -1.3024961732958016,
          -18.020603143121107,
          16.383362157884427,
          -44.89522850862297,
          -7.142626931371509,
          36.04717425696091,
          16.88682656185499,
          37.21286498345585,
          -49.072674765764795,
          17.123448684434518,
          58.10740809099992,
          44.05821131114236,
          26.46597961413693,
          -40.63496723420884,
          -7.592472294526904,
          -51.02936457631434,
          -49.72706761117795,
          35.25390763327461,
          18.251955095206753,
          8.195838586122996,
          37.94195848095956,
          -24.790279826219862,
          24.709518073955934,
          15.759131655379003,
          -7.3406028059458,
          29.817102839020585,
          12.347437385558859,
          -10.512525847717917,
          53.32419582364685,
          10.011336363628407,
          6.901946777070299,
          -54.473230385038065,
          -49.94399405766661,
          -54.52577361995907,
          -32.22003084981622,
          11.580463007548946,
          24.252684044532526,
          -37.1006242440959,
          -20.57154920967758,
          -39.300484765006395,
          -54.55441877113832,
          12.109427713809685,
          -5.838431483459262,
          15.784323862208828,
          -47.26225401397745,
          5.42765290945388,
          -6.423100613310007,
          -23.64438392403384,
          26.744710659003815,
          42.1214910693963,
          21.600369992630654,
          17.030943693889505,
          18.563957307401363,
          19.505064719608647,
          -43.07934524398161,
          41.964450112561714,
          60.42963999818201,
          -58.41084203064059,
          -25.9010941250338,
          -8.855802372669437,
          -24.86572970525594,
          61.11259408768926,
          21.356470524093858,
          -24.58384856434693,
          25.436763482797403,
          58.4017865861,
          -44.38433233452087,
          64.55132264455122,
          -17.694878524034593,
          43.661319248026146,
          6.691395928094539,
          -16.438160973568856,
          -44.99220698078288,
          -3.8753801721489753,
          16.02948484981286,
          -58.265910280924494,
          10.792749665440073,
          -31.004209886700373,
          11.534360941555233,
          16.374800344379665,
          -1.6620776799678503,
          7.454468171270052,
          -17.100668669433052,
          -6.293136944902672,
          21.62586240329001,
          25.31130684463141,
          -25.08074818368386,
          7.539222408764087,
          19.43398287987102,
          21.848493595223733,
          60.71510871656905,
          13.556661990479903,
          8.590412777319901,
          -7.511774737331482,
          17.563312883422913,
          38.47945814247197,
          28.795981070329937,
          -0.3638947129089627,
          -18.15460175654104,
          8.904842664385919,
          65.2807717987367,
          21.79766494610898,
          12.61389800702973,
          -57.00292702129915,
          14.386969615311997,
          -33.041934784833785,
          -30.88703038641375,
          -20.772802999231693,
          -32.0720537300255,
          17.488292855404126,
          -25.478666080280256,
          54.83282768591244,
          -20.141459515548174,
          65.83238446363346,
          -57.94963382127708,
          43.85700914645437,
          22.32671795288813,
          -4.207468098777058,
          25.683544770664057,
          53.73408072727068,
          54.83342350474784,
          23.379132902576547,
          30.086161234182374,
          2.3036485861726677,
          -6.225242050938609,
          -45.675344026772215,
          -9.811841268819236,
          -19.498599482352223,
          9.10601282768684,
          52.46520269223363,
          13.558136395462746,
          -16.951781146087207,
          0.4470194192430983,
          8.308733176374135,
          8.026263395347854,
          57.89591781100343,
          4.687677430310924,
          -18.28576698925799,
          26.125201048442822,
          15.476953891359363,
          3.1023564201141456,
          24.365676016964272,
          25.407072910640817,
          8.072326168817881,
          6.617297217218068,
          -31.952262426539587,
          6.860718204851481,
          30.068468824598444,
          -16.114284889256112,
          35.19405621752124,
          1.3189048383186137,
          -33.0828881812761,
          -35.145818133574075,
          22.751337550462342,
          -8.601145381596167,
          -59.13388490988725,
          57.22601558401348,
          -43.606001261875065,
          55.56583749633967,
          1.369692511953133,
          3.0734105675487307,
          7.346646707308061,
          -39.931389217990024,
          -23.299805774067416,
          7.06407479108282,
          16.018626744055364,
          54.552742859997096,
          25.271031890077865,
          -37.20458003794997,
          2.6586188462355946,
          -21.16186753140228,
          -17.099695726645134,
          8.753842092588691,
          -21.897407600728908,
          31.760717992063338,
          -61.32588271426628,
          10.12434030887415,
          2.837562195468489,
          13.971157156464379,
          -53.598870175696824,
          14.283962769666623,
          65.85153103523723,
          -36.99265284432341,
          -6.677207363690013,
          0.91962268315011,
          -9.083670506744227,
          61.65930680191436,
          54.69746717065798,
          39.33483130298477,
          -45.60716762312119,
          25.455790592291194,
          -50.645626184421566,
          61.353039646652434,
          22.012817072320694,
          -53.986448493210105,
          12.164050663320147,
          -55.83162786426918,
          36.8837698139891,
          -22.04047883161789,
          -19.40002753009243,
          -10.377497149760828,
          57.043744869199735,
          -11.696201035113852,
          7.808200995400427,
          -13.934788732699287,
          18.380499406106193,
          62.233431505439036,
          62.831013048255,
          1.9706004991677735,
          6.821911003135618,
          -8.192017081405096,
          10.212802435467992,
          7.879973623480809,
          10.375128589887666,
          40.054997092505076,
          4.08390746729535,
          41.53829893766132,
          19.772536914775845,
          23.105211737129537,
          6.785760262206101,
          -12.60950299358822,
          26.83914677247843,
          -30.039546341772905,
          46.92052408567695,
          -0.5644262018004009,
          -33.611468085252234,
          35.336182125658084,
          -49.42027282734392,
          -19.08624838249855,
          35.79390445179064,
          -34.89962004305575,
          0.4754408423982592,
          -37.77024713043262,
          61.4362502898647,
          -5.522553740190913,
          28.800696640727686,
          36.79083037106961,
          -33.63288999400677,
          5.920516440330038,
          2.9421315178194876,
          6.5461566051985365,
          -18.960870869483465,
          7.045222472384465,
          24.61807269256484,
          11.350935956638493,
          49.75546331179495,
          5.2792197354598756,
          34.92387277864633,
          35.33182739726033,
          24.420243660720597,
          -2.3134783454351946,
          -39.8976444226675,
          -15.89550240728365,
          10.163465868602417,
          19.228142920265476,
          2.375988823368739,
          -5.859474154785883,
          -49.2427631860659,
          58.008072030079,
          7.781070497272908,
          -57.77305609331824,
          17.84864645298226,
          -53.37559110025536,
          3.4044111488628346,
          16.971548381922982,
          5.401623847024852,
          -7.458803485744854,
          -52.77655470390257,
          -45.74882449981195,
          0.5913026432210682,
          19.284502304834714,
          -56.97536434117015,
          7.2635850009540475,
          -9.126726028359226,
          -54.41364505896367,
          24.462308866782923,
          -45.2275940854888,
          -10.09779777984006,
          -15.286932538039824,
          -8.519556974399544,
          29.158343403062652,
          38.479846807724044,
          35.4132762875275,
          28.958752604556867,
          -38.12187013388789,
          -49.10297369591218,
          -13.092166532040729,
          25.785530527872265,
          34.239303108524965,
          -24.83766986139272,
          -1.6019253763302757,
          8.05505432358731,
          22.718635681114012,
          21.596531840484158,
          -4.199259412405854,
          21.76866360337859,
          11.143331443448654,
          -14.461769582480235,
          -34.82401960791139,
          -0.808596740978631,
          18.074907260651823,
          38.20217405406597,
          -45.54813884774037,
          -18.33052801881927,
          42.07178649490952,
          -42.95001951730819,
          19.11782413593037,
          -37.87954840440351,
          -54.06241046993307,
          2.891848019943799,
          -11.829855779095535,
          35.36864487557462,
          3.48173020019314,
          -0.9883460862009734,
          -20.363784042220036,
          -19.510930812807874,
          32.38874830220864,
          3.4551678846151797,
          26.936865536706335,
          23.020235816721392,
          29.06221156238119,
          65.58450263861027,
          8.872843082528568,
          36.890511958598196,
          -53.91612796904571,
          -8.13321545939189,
          -9.761623311669192,
          2.1620555664568624,
          -50.40448281139416,
          -10.376600918978692,
          -54.01084116730883,
          55.4599132605141,
          21.91309618460141,
          -35.086680975446455,
          -32.064794214248295,
          0.6206314878229077,
          17.51718087747876,
          -9.76086354753439,
          -32.047256995793234,
          -32.73534248340679,
          -41.38088506779948,
          10.410677628293056,
          -13.109636800301697,
          17.68159008907522,
          3.7973253581395,
          -34.39368308829146,
          1.9136311975322398,
          -8.601988531859138,
          8.710639637140588,
          -14.7108229338664,
          -35.26624771288908,
          24.812420391872653,
          11.216843620590993,
          10.246279007008939,
          -49.33446535964293,
          -36.145716347841294,
          -30.006685484941357,
          -42.47074242559626,
          13.588755776254596,
          -29.068971402265575,
          33.547004932997844,
          -2.2236217836000924,
          20.83286547786897,
          25.81688028892282,
          28.953683018696545,
          -37.77022079481095,
          23.992049353809204,
          -34.50282158379524,
          14.977148887422572,
          10.69341920287534,
          -30.01266520756461,
          -3.186752641175379,
          4.2224461506728055,
          32.36161411968564,
          20.978304015914162,
          31.89664020956372,
          3.8118387037021435,
          14.99896715373741,
          4.957565433492267,
          -18.85132052822304,
          -34.14185494020379,
          32.18017289931071
         ],
         "yaxis": "y"
        }
       ],
       "layout": {
        "height": 800,
        "legend": {
         "tracegroupgap": 0
        },
        "margin": {
         "t": 60
        },
        "template": {
         "data": {
          "bar": [
           {
            "error_x": {
             "color": "#2a3f5f"
            },
            "error_y": {
             "color": "#2a3f5f"
            },
            "marker": {
             "line": {
              "color": "#E5ECF6",
              "width": 0.5
             }
            },
            "type": "bar"
           }
          ],
          "barpolar": [
           {
            "marker": {
             "line": {
              "color": "#E5ECF6",
              "width": 0.5
             }
            },
            "type": "barpolar"
           }
          ],
          "carpet": [
           {
            "aaxis": {
             "endlinecolor": "#2a3f5f",
             "gridcolor": "white",
             "linecolor": "white",
             "minorgridcolor": "white",
             "startlinecolor": "#2a3f5f"
            },
            "baxis": {
             "endlinecolor": "#2a3f5f",
             "gridcolor": "white",
             "linecolor": "white",
             "minorgridcolor": "white",
             "startlinecolor": "#2a3f5f"
            },
            "type": "carpet"
           }
          ],
          "choropleth": [
           {
            "colorbar": {
             "outlinewidth": 0,
             "ticks": ""
            },
            "type": "choropleth"
           }
          ],
          "contour": [
           {
            "colorbar": {
             "outlinewidth": 0,
             "ticks": ""
            },
            "colorscale": [
             [
              0,
              "#0d0887"
             ],
             [
              0.1111111111111111,
              "#46039f"
             ],
             [
              0.2222222222222222,
              "#7201a8"
             ],
             [
              0.3333333333333333,
              "#9c179e"
             ],
             [
              0.4444444444444444,
              "#bd3786"
             ],
             [
              0.5555555555555556,
              "#d8576b"
             ],
             [
              0.6666666666666666,
              "#ed7953"
             ],
             [
              0.7777777777777778,
              "#fb9f3a"
             ],
             [
              0.8888888888888888,
              "#fdca26"
             ],
             [
              1,
              "#f0f921"
             ]
            ],
            "type": "contour"
           }
          ],
          "contourcarpet": [
           {
            "colorbar": {
             "outlinewidth": 0,
             "ticks": ""
            },
            "type": "contourcarpet"
           }
          ],
          "heatmap": [
           {
            "colorbar": {
             "outlinewidth": 0,
             "ticks": ""
            },
            "colorscale": [
             [
              0,
              "#0d0887"
             ],
             [
              0.1111111111111111,
              "#46039f"
             ],
             [
              0.2222222222222222,
              "#7201a8"
             ],
             [
              0.3333333333333333,
              "#9c179e"
             ],
             [
              0.4444444444444444,
              "#bd3786"
             ],
             [
              0.5555555555555556,
              "#d8576b"
             ],
             [
              0.6666666666666666,
              "#ed7953"
             ],
             [
              0.7777777777777778,
              "#fb9f3a"
             ],
             [
              0.8888888888888888,
              "#fdca26"
             ],
             [
              1,
              "#f0f921"
             ]
            ],
            "type": "heatmap"
           }
          ],
          "heatmapgl": [
           {
            "colorbar": {
             "outlinewidth": 0,
             "ticks": ""
            },
            "colorscale": [
             [
              0,
              "#0d0887"
             ],
             [
              0.1111111111111111,
              "#46039f"
             ],
             [
              0.2222222222222222,
              "#7201a8"
             ],
             [
              0.3333333333333333,
              "#9c179e"
             ],
             [
              0.4444444444444444,
              "#bd3786"
             ],
             [
              0.5555555555555556,
              "#d8576b"
             ],
             [
              0.6666666666666666,
              "#ed7953"
             ],
             [
              0.7777777777777778,
              "#fb9f3a"
             ],
             [
              0.8888888888888888,
              "#fdca26"
             ],
             [
              1,
              "#f0f921"
             ]
            ],
            "type": "heatmapgl"
           }
          ],
          "histogram": [
           {
            "marker": {
             "colorbar": {
              "outlinewidth": 0,
              "ticks": ""
             }
            },
            "type": "histogram"
           }
          ],
          "histogram2d": [
           {
            "colorbar": {
             "outlinewidth": 0,
             "ticks": ""
            },
            "colorscale": [
             [
              0,
              "#0d0887"
             ],
             [
              0.1111111111111111,
              "#46039f"
             ],
             [
              0.2222222222222222,
              "#7201a8"
             ],
             [
              0.3333333333333333,
              "#9c179e"
             ],
             [
              0.4444444444444444,
              "#bd3786"
             ],
             [
              0.5555555555555556,
              "#d8576b"
             ],
             [
              0.6666666666666666,
              "#ed7953"
             ],
             [
              0.7777777777777778,
              "#fb9f3a"
             ],
             [
              0.8888888888888888,
              "#fdca26"
             ],
             [
              1,
              "#f0f921"
             ]
            ],
            "type": "histogram2d"
           }
          ],
          "histogram2dcontour": [
           {
            "colorbar": {
             "outlinewidth": 0,
             "ticks": ""
            },
            "colorscale": [
             [
              0,
              "#0d0887"
             ],
             [
              0.1111111111111111,
              "#46039f"
             ],
             [
              0.2222222222222222,
              "#7201a8"
             ],
             [
              0.3333333333333333,
              "#9c179e"
             ],
             [
              0.4444444444444444,
              "#bd3786"
             ],
             [
              0.5555555555555556,
              "#d8576b"
             ],
             [
              0.6666666666666666,
              "#ed7953"
             ],
             [
              0.7777777777777778,
              "#fb9f3a"
             ],
             [
              0.8888888888888888,
              "#fdca26"
             ],
             [
              1,
              "#f0f921"
             ]
            ],
            "type": "histogram2dcontour"
           }
          ],
          "mesh3d": [
           {
            "colorbar": {
             "outlinewidth": 0,
             "ticks": ""
            },
            "type": "mesh3d"
           }
          ],
          "parcoords": [
           {
            "line": {
             "colorbar": {
              "outlinewidth": 0,
              "ticks": ""
             }
            },
            "type": "parcoords"
           }
          ],
          "pie": [
           {
            "automargin": true,
            "type": "pie"
           }
          ],
          "scatter": [
           {
            "marker": {
             "colorbar": {
              "outlinewidth": 0,
              "ticks": ""
             }
            },
            "type": "scatter"
           }
          ],
          "scatter3d": [
           {
            "line": {
             "colorbar": {
              "outlinewidth": 0,
              "ticks": ""
             }
            },
            "marker": {
             "colorbar": {
              "outlinewidth": 0,
              "ticks": ""
             }
            },
            "type": "scatter3d"
           }
          ],
          "scattercarpet": [
           {
            "marker": {
             "colorbar": {
              "outlinewidth": 0,
              "ticks": ""
             }
            },
            "type": "scattercarpet"
           }
          ],
          "scattergeo": [
           {
            "marker": {
             "colorbar": {
              "outlinewidth": 0,
              "ticks": ""
             }
            },
            "type": "scattergeo"
           }
          ],
          "scattergl": [
           {
            "marker": {
             "colorbar": {
              "outlinewidth": 0,
              "ticks": ""
             }
            },
            "type": "scattergl"
           }
          ],
          "scattermapbox": [
           {
            "marker": {
             "colorbar": {
              "outlinewidth": 0,
              "ticks": ""
             }
            },
            "type": "scattermapbox"
           }
          ],
          "scatterpolar": [
           {
            "marker": {
             "colorbar": {
              "outlinewidth": 0,
              "ticks": ""
             }
            },
            "type": "scatterpolar"
           }
          ],
          "scatterpolargl": [
           {
            "marker": {
             "colorbar": {
              "outlinewidth": 0,
              "ticks": ""
             }
            },
            "type": "scatterpolargl"
           }
          ],
          "scatterternary": [
           {
            "marker": {
             "colorbar": {
              "outlinewidth": 0,
              "ticks": ""
             }
            },
            "type": "scatterternary"
           }
          ],
          "surface": [
           {
            "colorbar": {
             "outlinewidth": 0,
             "ticks": ""
            },
            "colorscale": [
             [
              0,
              "#0d0887"
             ],
             [
              0.1111111111111111,
              "#46039f"
             ],
             [
              0.2222222222222222,
              "#7201a8"
             ],
             [
              0.3333333333333333,
              "#9c179e"
             ],
             [
              0.4444444444444444,
              "#bd3786"
             ],
             [
              0.5555555555555556,
              "#d8576b"
             ],
             [
              0.6666666666666666,
              "#ed7953"
             ],
             [
              0.7777777777777778,
              "#fb9f3a"
             ],
             [
              0.8888888888888888,
              "#fdca26"
             ],
             [
              1,
              "#f0f921"
             ]
            ],
            "type": "surface"
           }
          ],
          "table": [
           {
            "cells": {
             "fill": {
              "color": "#EBF0F8"
             },
             "line": {
              "color": "white"
             }
            },
            "header": {
             "fill": {
              "color": "#C8D4E3"
             },
             "line": {
              "color": "white"
             }
            },
            "type": "table"
           }
          ]
         },
         "layout": {
          "annotationdefaults": {
           "arrowcolor": "#2a3f5f",
           "arrowhead": 0,
           "arrowwidth": 1
          },
          "autotypenumbers": "strict",
          "coloraxis": {
           "colorbar": {
            "outlinewidth": 0,
            "ticks": ""
           }
          },
          "colorscale": {
           "diverging": [
            [
             0,
             "#8e0152"
            ],
            [
             0.1,
             "#c51b7d"
            ],
            [
             0.2,
             "#de77ae"
            ],
            [
             0.3,
             "#f1b6da"
            ],
            [
             0.4,
             "#fde0ef"
            ],
            [
             0.5,
             "#f7f7f7"
            ],
            [
             0.6,
             "#e6f5d0"
            ],
            [
             0.7,
             "#b8e186"
            ],
            [
             0.8,
             "#7fbc41"
            ],
            [
             0.9,
             "#4d9221"
            ],
            [
             1,
             "#276419"
            ]
           ],
           "sequential": [
            [
             0,
             "#0d0887"
            ],
            [
             0.1111111111111111,
             "#46039f"
            ],
            [
             0.2222222222222222,
             "#7201a8"
            ],
            [
             0.3333333333333333,
             "#9c179e"
            ],
            [
             0.4444444444444444,
             "#bd3786"
            ],
            [
             0.5555555555555556,
             "#d8576b"
            ],
            [
             0.6666666666666666,
             "#ed7953"
            ],
            [
             0.7777777777777778,
             "#fb9f3a"
            ],
            [
             0.8888888888888888,
             "#fdca26"
            ],
            [
             1,
             "#f0f921"
            ]
           ],
           "sequentialminus": [
            [
             0,
             "#0d0887"
            ],
            [
             0.1111111111111111,
             "#46039f"
            ],
            [
             0.2222222222222222,
             "#7201a8"
            ],
            [
             0.3333333333333333,
             "#9c179e"
            ],
            [
             0.4444444444444444,
             "#bd3786"
            ],
            [
             0.5555555555555556,
             "#d8576b"
            ],
            [
             0.6666666666666666,
             "#ed7953"
            ],
            [
             0.7777777777777778,
             "#fb9f3a"
            ],
            [
             0.8888888888888888,
             "#fdca26"
            ],
            [
             1,
             "#f0f921"
            ]
           ]
          },
          "colorway": [
           "#636efa",
           "#EF553B",
           "#00cc96",
           "#ab63fa",
           "#FFA15A",
           "#19d3f3",
           "#FF6692",
           "#B6E880",
           "#FF97FF",
           "#FECB52"
          ],
          "font": {
           "color": "#2a3f5f"
          },
          "geo": {
           "bgcolor": "white",
           "lakecolor": "white",
           "landcolor": "#E5ECF6",
           "showlakes": true,
           "showland": true,
           "subunitcolor": "white"
          },
          "hoverlabel": {
           "align": "left"
          },
          "hovermode": "closest",
          "mapbox": {
           "style": "light"
          },
          "paper_bgcolor": "white",
          "plot_bgcolor": "#E5ECF6",
          "polar": {
           "angularaxis": {
            "gridcolor": "white",
            "linecolor": "white",
            "ticks": ""
           },
           "bgcolor": "#E5ECF6",
           "radialaxis": {
            "gridcolor": "white",
            "linecolor": "white",
            "ticks": ""
           }
          },
          "scene": {
           "xaxis": {
            "backgroundcolor": "#E5ECF6",
            "gridcolor": "white",
            "gridwidth": 2,
            "linecolor": "white",
            "showbackground": true,
            "ticks": "",
            "zerolinecolor": "white"
           },
           "yaxis": {
            "backgroundcolor": "#E5ECF6",
            "gridcolor": "white",
            "gridwidth": 2,
            "linecolor": "white",
            "showbackground": true,
            "ticks": "",
            "zerolinecolor": "white"
           },
           "zaxis": {
            "backgroundcolor": "#E5ECF6",
            "gridcolor": "white",
            "gridwidth": 2,
            "linecolor": "white",
            "showbackground": true,
            "ticks": "",
            "zerolinecolor": "white"
           }
          },
          "shapedefaults": {
           "line": {
            "color": "#2a3f5f"
           }
          },
          "ternary": {
           "aaxis": {
            "gridcolor": "white",
            "linecolor": "white",
            "ticks": ""
           },
           "baxis": {
            "gridcolor": "white",
            "linecolor": "white",
            "ticks": ""
           },
           "bgcolor": "#E5ECF6",
           "caxis": {
            "gridcolor": "white",
            "linecolor": "white",
            "ticks": ""
           }
          },
          "title": {
           "x": 0.05
          },
          "xaxis": {
           "automargin": true,
           "gridcolor": "white",
           "linecolor": "white",
           "ticks": "",
           "title": {
            "standoff": 15
           },
           "zerolinecolor": "white",
           "zerolinewidth": 2
          },
          "yaxis": {
           "automargin": true,
           "gridcolor": "white",
           "linecolor": "white",
           "ticks": "",
           "title": {
            "standoff": 15
           },
           "zerolinecolor": "white",
           "zerolinewidth": 2
          }
         }
        },
        "title": {
         "text": "Word2vec freebase-vectors-skipgram1000"
        },
        "xaxis": {
         "anchor": "y",
         "domain": [
          0,
          1
         ],
         "title": {
          "text": "x"
         },
         "type": "log"
        },
        "yaxis": {
         "anchor": "x",
         "domain": [
          0,
          1
         ],
         "title": {
          "text": "y"
         }
        }
       }
      },
      "text/html": [
       "<div>                            <div id=\"1220fa90-8404-4a5e-bbbc-ebd3d8a42f90\" class=\"plotly-graph-div\" style=\"height:800px; width:100%;\"></div>            <script type=\"text/javascript\">                require([\"plotly\"], function(Plotly) {                    window.PLOTLYENV=window.PLOTLYENV || {};                                    if (document.getElementById(\"1220fa90-8404-4a5e-bbbc-ebd3d8a42f90\")) {                    Plotly.newPlot(                        \"1220fa90-8404-4a5e-bbbc-ebd3d8a42f90\",                        [{\"hovertemplate\": \"x=%{x}<br>y=%{y}<br>text=%{text}<extra></extra>\", \"legendgroup\": \"\", \"marker\": {\"color\": \"#636efa\", \"symbol\": \"circle\"}, \"mode\": \"markers+text\", \"name\": \"\", \"orientation\": \"v\", \"showlegend\": false, \"text\": [\"/en/united_states\", \"/en/associated_press\", \"/en/barack_obama\", \"/en/china\", \"/en/united_kingdom\", \"/en/new_york\", \"/en/india\", \"/en/europe\", \"/en/washington_united_states\", \"/en/canada\", \"/en/iraq\", \"/en/israel\", \"/en/california\", \"/en/republican_party\", \"/en/austraila\", \"/en/japan\", \"/en/france\", \"/en/russia\", \"/en/iran\", \"/en/germany\", \"/en/afghanistan\", \"/en/london\", \"/en/pakistan\", \"/en/florida\", \"/en/nyse\", \"/en/congress_u_s\", \"/en/texas\", \"/en/england\", \"/en/democrat_party\", \"/en/italy\", \"/en/nasdaq\", \"/en/european_union\", \"/en/spain\", \"/en/white_house\", \"/en/los_angeles\", \"/en/united_staff\", \"/en/reuters\", \"/en/south_africa\", \"/en/mexico\", \"/en/asia\", \"/en/national_football_league\", \"/en/apple_inc\", \"/en/australian_senate\", \"/en/facebook\", \"/en/chicago\", \"/en/greece\", \"/en/google\", \"/en/egypt\", \"/en/george_h_w_bush\", \"/en/syria\", \"/en/democracy\", \"/en/north_carolina\", \"/en/microsoft\", \"/en/mitt_romney\", \"/en/ohio\", \"/en/new_jersey\", \"/en/brazil\", \"/en/federal_reserve_system\", \"/en/turkey\", \"/en/twitter\", \"/en/god\", \"/en/olympic_games\", \"/en/john_mccain\", \"/en/state_of_palestine\", \"/en/south_korea\", \"/en/illinois\", \"/en/muslim\", \"/en/michigan\", \"/en/arizona\", \"/en/hillary_rodham_clinton\", \"/en/north_america\", \"/en/christmas\", \"/en/libya\", \"/en/africa\", \"/en/united_states_securities_and_exchange_commission\", \"/en/george_w_bush\", \"/en/beijing\", \"/en/islam\", \"/en/new_zealand\", \"/en/supreme_court\", \"/en/taliban_movement\", \"/en/north_korea\", \"/en/middle_east\", \"/en/united_states_house_of_representatives\", \"/en/massachusetts\", \"/en/al-qaeda\", \"/en/national_basketball_association\", \"/en/new_york_yankees\", \"/en/boston_red_sox\", \"/en/republicans\", \"/en/wall_street\", \"/en/general_motors\", \"/en/san_francisco\", \"/en/republic_of_ireland\", \"/en/minnesota\", \"/en/iowa\", \"/en/wisconsin\", \"/en/switzerland\", \"/en/paris\", \"/en/north_atlantic_treaty_organization\", \"/en/netherlands\", \"/en/new_york_state\", \"/en/pennsylvania\", \"/en/hong_kong\", \"/en/manchester_united_fc\", \"/en/colorado\", \"/en/detroit_tigers\", \"/en/nigeria\", \"/en/food_and_drug_administration\", \"/en/indiana\", \"/en/st_louis_cardinals\", \"/en/south_carolina\", \"/en/iphone\", \"/en/national_hockey_league\", \"/en/federal_bureau_of_investigation\", \"/en/saudi_arabia\", \"/en/toronto\", \"/en/swedem\", \"/en/fifa_world_cup\", \"/en/scotland\", \"/en/dow_jones_industrial_average\", \"/en/connecticut\", \"/en/chelsea_fc\", \"/en/philippines\", \"/en/singapore\", \"/en/new_delhi\", \"/en/tennesee\", \"/en/thailand\", \"/en/philadelphia_phillies\", \"/en/miami_heat\", \"/en/arab\", \"/en/boston_massachusetts\", \"/en/cuba\", \"/en/philadelphia_eagles\", \"/en/georgia\", \"/en/hollywood\", \"/en/western_world\", \"/en/bp\", \"/en/mumbai\", \"/en/kansas\", \"/en/lebanon\", \"/en/indonesia\", \"/en/argentina\", \"/en/hamas\", \"/en/tokyo\", \"/en/fa_premier_league\", \"/en/texas_rangers\", \"/en/poland\", \"/en/jew\", \"/en/pittsburgh_steelers\", \"/en/atlanta\", \"/en/tiger_woods\", \"/en/philadelphia\", \"/en/chinese_taipei\", \"/en/baghdad\", \"/en/detroit_michigan\", \"/en/houston\", \"/en/national_collegiate_athletic_association\", \"/en/green_bay_packers\", \"/en/moscow\", \"/en/the_new_york_times\", \"/en/vietnam\", \"/en/alabama\", \"/en/international_monetary_fund\", \"/en/haiti\", \"/en/ford_motor_company\", \"/en/muammar_al-gaddafi\", \"/en/boston_celtics\", \"/en/somalia\", \"/en/malaysia\", \"/en/ontario\", \"/m/036nz\", \"/en/new_hampshire\", \"/en/los_angeles_lakers\", \"/en/san_francisco_giants\", \"/en/super_bowl\", \"/en/toyota_motor_corporation\", \"/en/liverpool_fc\", \"/en/nevada\", \"/en/atlanta_braves\", \"/en/kenya\", \"/en/oklahoma\", \"/en/shia_islam\", \"/en/new_york_mets\", \"/en/new_orleans\", \"/en/chicago_cubs\", \"/en/alaska\", \"/en/cleveland_cavaliers\", \"/m/019rl6\", \"/en/nasa\", \"/en/louisiana\", \"/en/wal-mart\", \"/en/british_columbia\", \"/en/new_york_giants\", \"/en/bloomberg_television\", \"/en/seattle\", \"/en/ukraine\", \"/en/s_p_500\", \"/en/medicare\", \"/en/pr_newswire\", \"/en/sarah_palin\", \"/en/arsenal_fc\", \"/en/dubai\", \"/en/nbc\", \"/en/missouri\", \"/en/business_wire\", \"/en/united_nations_security_council\", \"/en/parliament_of_the_united_kingdom\", \"/en/los_angeles_dodgers\", \"/en/agence_france-presse\", \"/en/youtube\", \"/en/venezuela\", \"/en/tehran\", \"/en/michael_jackson\", \"/en/sydney\", \"/en/united_states_environmental_protection_agency\", \"/en/utah\", \"/en/army\", \"/en/cincinnati_reds\", \"/en/united_arab_emirates\", \"/en/gphone\", \"/en/new_york_jets\", \"/en/ipad\", \"/en/boston_bruins\", \"/en/washington\", \"/en/dallas\", \"/en/maryland\", \"/en/at_t\", \"/en/las_vegas_metropolitan_area\", \"/en/seattle_mariners\", \"/en/denver\", \"/en/milwaukee_brewers\", \"/en/new_england_patriots\", \"/en/lebron_james\", \"/en/osama_bin_laden\", \"/en/african_american\", \"/en/yemen\", \"/en/minnesota_twins\", \"/en/chicago_white_sox\", \"/en/zimbabwe\", \"/en/gaza\", \"/en/portugal\", \"/en/city_council\", \"/en/mississippi\", \"/en/latin_america\", \"/en/san_diego\", \"/en/norway\", \"/en/run_batted_in\", \"/en/serbia\", \"/en/earth\", \"/en/bill_clinton\", \"/en/united_states_navy\", \"/en/european_central_bank\", \"/en/toronto_blue_jays\", \"/en/the_pentagon\", \"/en/wales\", \"/en/bbc\", \"/en/myanmar\", \"/en/citigroup\", \"/en/english_cricket_team\", \"/en/american_broadcasting_company\", \"/en/gulf_of_mexico\", \"/en/belgium\", \"/en/oregon\", \"/en/roger_federer\", \"/en/gaza_strip\", \"/en/new_mexico\", \"/en/dallas_mavericks\", \"/en/amazon_com\", \"/en/virginia\", \"/en/ohio_state_university\", \"/en/cnn\", \"/en/colombia\", \"/en/pennsylvania_state_university\", \"/en/tampa_bay_devil_rays\", \"/en/maine\", \"/en/oakland_athletics\", \"/en/uefa_champions_league\", \"/en/central_intelligence_agency\", \"/en/research\", \"/en/kentucky\", \"/en/chrysler\", \"/en/staff_intel\", \"/en/vancouver_british_columbia\", \"/en/cleveland_indians\", \"/en/cbs\", \"/en/west_virginia\", \"/en/bank_of_america\", \"/en/hawaii\", \"/en/new_york_county\", \"/en/denmark\", \"/en/nebraska\", \"/en/sri_lanka\", \"/en/dallas_cowboys\", \"/en/soviet_union\", \"/en/ibm\", \"/en/united_states_department_of_state\", \"/en/baltimore_ravens\", \"/m/0d0kn\", \"/en/houston_astros\", \"/en/pittsburgh_penguins\", \"/en/legislature\", \"/en/roman_catholic_church\", \"/en/aids\", \"/en/colorado_rockies\", \"/en/kansas_city_royals\", \"/en/chicago_bulls\", \"/en/arkansas\", \"/en/sunni_islam\", \"/en/atlanta_falcons\", \"/en/san_diego_padres\", \"/en/sony\", \"/en/cleveland_browns\", \"/en/personal_computer\", \"/en/miami_dolphins\", \"/en/atlanta_hawks\", \"/en/minneapolis\", \"/en/southern_california\", \"/en/manchester_city_fc\", \"/en/earned_run_average\", \"/en/united_states_senate\", \"/en/toronto_stock_exchange\", \"/en/phoenix\", \"/en/sudan\", \"/en/florida_marlins\", \"/en/washington_nationals\", \"/en/jesus\", \"/en/world_war_ii\", \"/en/chile\", \"/en/shanghai\", \"/en/austria\", \"/en/czech_republic\", \"/en/orlando_magic\", \"/en/hewlett-packard\", \"/en/broadway_theatre\", \"/en/ghana\", \"/en/bashar_al-assad\", \"/en/comtex\", \"/en/tottenham_hotspur_fc\", \"/en/islamabad\", \"/en/miami\", \"/en/major_league_baseball\", \"/en/board_of_directors\", \"/en/detroit_red_wings\", \"/en/golden_state_warriors\", \"/en/seattle_seahawks\", \"/en/newt_gingrich\", \"/en/san_antonio_spurs\", \"/en/bulldog\", \"/en/fc_barcelona\", \"/en/nascar\", \"/en/arizona_diamondbacks\", \"/en/the_wall_street_journal\", \"/en/melbourne_australia\", \"/en/phoenix_suns\", \"/en/vancouver_canucks\", \"/en/ben_bernanke\", \"/en/nicolas_sarkozy\", \"/en/berlin\", \"/en/montana\", \"/en/rafael_nadal\", \"/en/jordan\", \"/en/vladimir_putin\", \"/en/world_series\", \"/en/european_commission\", \"/en/academy_awards\", \"/en/bharatiya_janata_party\", \"/en/hosni_mubarak\", \"/en/standard_poors\", \"/en/ncaa_mens_division_i_basketball_championship\", \"/en/western_united_states\", \"/en/seoul\", \"/en/montreal\", \"/en/rome\", \"/en/the_washington_post\", \"/en/st_louis_rams\", \"/en/baltimore_orioles\", \"/en/tsx_venture_exchange\", \"/en/new_orleans_saints\", \"/en/gordon_brown\", \"/en/san_diego_chargers\", \"/en/u_s_open\", \"/en/alberta\", \"/en/brussels\", \"/en/hugo_chavez\", \"/en/washington_redskins\", \"/en/alabama_crimson_tide_football\", \"/en/real_madrid\", \"/en/ottawa\", \"/en/indianapolis_colts\", \"/en/marketwire\", \"/en/hiv_infections\", \"/en/denver_broncos\", \"/en/cairo\", \"/en/southeastern_conference\", \"/en/espn\", \"/en/southern_united_states\", \"/en/england_national_football_team\", \"/en/jerusalem\", \"/en/new_york_knicks\", \"/en/indian_national_congress\", \"/en/west_bank\", \"/en/duke_university\", \"/en/nashville_tennessee\", \"/en/caribbean\", \"/en/fox_broadcasting_company\", \"/en/houston_rockets\", \"/en/st_louis_missouri\", \"/en/medicaid\", \"/en/otc_bulletin_board\", \"/en/kabul\", \"/en/member_of_parliament\", \"/en/hispanic\", \"/en/qatar\", \"/en/tsn\", \"/en/boeing\", \"/en/michigan_state_university\", \"/en/joe_biden\", \"/en/david_cameron\", \"/en/denver_nuggets\", \"/en/lsu_tigers\", \"/en/idaho\", \"/en/kobe_bryant\", \"/en/vermont\", \"/en/quebec\", \"/en/notre_dame_fighting_irish_football\", \"/en/brett_favre\", \"/en/jpmorgan_chase_co\", \"/en/united_states_constitution\", \"/en/new_orleans_oklahoma_city_hornets\", \"/en/goldman_sachs\", \"/en/atlantic_ocean\", \"/en/north_dakota\", \"/en/rick_perry\", \"/en/portland_trail_blazers\", \"/en/christian\", \"/en/pakistani_cricket_team\", \"/en/hamid_karzai\", \"/en/mahmoud_abbas\", \"/en/pittsburgh_pirates\", \"/en/finland\", \"/en/press_trust_of_india\", \"/en/minnesota_vikings\", \"/en/centers_for_disease_control_and_prevention\", \"/en/south_america\", \"/en/athens\", \"/en/jacksonville_jaguars\", \"/en/harry_reid\", \"/en/bear\", \"/en/los_angeles_angels_of_anaheim\", \"/en/bahrain\", \"/en/wildcats_1986\", \"/en/san_jose_sharks\", \"/en/internal_revenue_service\", \"/en/mahmoud_ahmadinejad\", \"/en/identity_document\", \"/en/toronto_maple_leafs\", \"/en/montreal_canadiens\", \"/en/indianapolis\", \"/en/nokia\", \"/en/jamaica\", \"/en/new_york_mercantile_exchange\", \"/en/wimbledon\", \"/en/chicago_blackhawks\", \"/en/american_international_group\", \"/en/justice_department\", \"/en/us_marines\", \"/en/midwestern_united_states\", \"/en/panthers\", \"/en/hezbollah\", \"/en/romania\", \"/en/thomson_reuters\", \"/en/tampa_bay_buccaneers\", \"/en/new_york_rangers\", \"/en/university_of_california_los_angeles\", \"/en/rhode_island\", \"/en/asia-pacific\", \"/en/harvard_university\", \"/en/walt_disney_staff\", \"/en/united_states_department_of_agriculture\", \"/en/ethiopia\", \"/en/saddam_hussein\", \"/en/pervez_musharraf\", \"/en/philadelphia_flyers\", \"/en/tunisia\", \"/en/big_ten_conference\", \"/en/steve_jobs\", \"/en/hungary\", \"/en/stanford_university\", \"/en/federation_internationale_de_football_association\", \"/en/treasury_security\", \"/en/bangladesh\", \"/en/uganda\", \"/en/benjamin_netanyahu\", \"/en/united_states_department_of_the_treasury\", \"/en/ipod\", \"/en/gross_domestic_product\", \"/en/rick_santorum\", \"/en/buffalo_sabres\", \"/en/oklahoma_city_thunder\"], \"textposition\": \"top center\", \"type\": \"scatter\", \"x\": [13.221097373181381, 18.637122031555315, 3.812041474112749, -11.727878100658124, -30.962409270286955, 20.52730919527619, -6.700488906004819, -18.413083144465105, 6.355173765564612, 13.99025290066681, -9.254209669723853, -17.68362886509792, 29.513198514353572, 9.957794383221378, 8.862981753035678, -4.314929197869943, -32.32708038419828, -23.797529358975524, -20.133379823989703, -29.909496434834033, -0.17425160491238528, -30.30441531795796, -0.8670993845461253, 25.55601790729792, 29.820811157039568, 6.763673528124071, -16.736130579565053, -31.45619462661769, 9.569109633060837, -34.64084114913453, 29.781501866748506, -24.822624446300857, -31.084404573941907, 4.313190928172724, 32.1718898306791, -15.476048846428489, 20.407240746036194, -45.066062127483825, -24.42771117597042, -15.89473050219369, -6.581271354187122, 53.096264044093324, 7.586615773858771, 38.023117404113115, 15.99912195685018, -29.08785693970442, 40.47428148327441, -25.251545326753206, 4.177300125010212, -16.456629913703537, 9.811778683108399, 7.955518898622929, 42.02835710097621, 10.728511316788898, 13.23126572352236, 19.9238729970469, -30.175948561759192, 16.16840733493127, -26.01956515711631, 37.963025454915346, -16.753339413327353, -34.01917341981679, 10.11841691027218, -17.999898855066714, -6.1180873793109525, 15.93916490048844, -16.0602036887604, 12.011122226202176, -15.158310960127132, 2.88679393924721, -16.92130496505299, -17.960075656654833, -28.273619224709734, -36.688304974006144, 29.234484017148887, 4.042826088119115, -11.8249061982759, -16.107043107087367, 7.478583968646682, 17.411594628551313, -0.7247469128701749, -5.749474902157213, -24.756153920237203, 7.563070763050242, 21.208715596267737, -3.7915270331033106, -33.57606227578095, -12.380311528286192, -13.642819699632122, 9.512478241820013, 25.238919913362704, 42.058599181238705, 28.15944423709251, -25.235978342281857, 1.6963490898293263, -0.8052286284725783, 4.368617125250645, -31.990578486296844, -32.247901968266795, 0.42541416742011, -34.273167720045, 19.04163777903661, 7.944471601374836, -10.176923680808066, -44.7151207887793, -8.599917047297806, -5.7447963271925415, -39.03631729911424, 37.716391993569424, 9.01429660450069, -1.2025274875438954, 5.829896714598341, 52.49422362470979, -31.094885925479808, 19.736864692501715, -21.469131341527017, 16.975438385060414, -35.993086387877014, -49.442335094180066, -29.83000575388255, 27.334169033162986, 24.390961828587326, -44.203967520135656, -12.327693320023425, -7.47202501591453, -5.337412029310683, 2.2886339203035977, -9.643389251282583, -0.027836398360153013, -29.22612372595173, -18.49442347649266, 21.277884224507208, -24.46938279801508, -10.894187135590757, 6.278075301859739, 33.70048509855683, -19.86802642670732, 7.0208726422293815, -5.377081899548189, -10.596015574784783, -17.165210754652968, -7.407092875609266, -29.624046869758338, -19.380616764797697, -4.325683210395581, -44.01798993386696, -9.195708202667753, -30.069463752345435, -18.321650773787166, -17.67149458569128, 6.379102936668377, 15.58751972981953, 8.256976502899922, -9.27562982287961, -8.826664911435524, 12.722341658125663, -15.936826443326474, -20.181332374219412, -6.0212087181395795, -23.601765311260245, 29.44956127477951, -9.593604951305942, 5.620590015648063, -6.513223383319395, -22.33442894120635, 42.20878952718996, -28.293775604545935, -27.12546561148808, -31.467009032129592, -7.3852725837235855, 17.24774286653568, 8.704229672651337, 19.91501470100998, -31.619052180920654, -3.0257345939693017, -10.372214762516581, 37.47945004313941, -42.40193894709732, 22.441465288194916, 1.897609657384456, -35.04280716046332, -12.301306745615287, -9.970707314594993, 3.240555808660709, 4.151689866291382, -4.800073910642417, 3.09691368226284, -28.70982331922012, 40.55569383686895, -20.41360067921888, 4.364658905929611, 58.39493210555369, 16.525160226694812, -11.772870453177864, 24.346940393799212, 14.538054196216114, -25.804079122515784, 27.339002538202184, 13.847699789201329, 28.12354188767778, 9.05868546547557, -46.76689793973407, -20.165924425394593, 30.07944636520536, -10.407520552538148, 28.17052250187739, -15.509593709711623, 6.48181904800313, -4.381593005552636, 20.28062096496813, 38.53401596141421, -26.37699224085722, -20.114752805618753, 16.55314896524177, 10.066209500705009, -4.133632603898544, -11.195118436395104, 1.9541562658403675, -2.90983321337512, -20.745901511196543, 51.831207510998574, -15.419901977794519, 52.58275697449004, -32.63713563013313, 14.440821141316183, -15.703152169828087, 4.690153544262481, 42.437557322381856, 21.97706331767461, -7.280123322470471, -8.643589325792812, -3.8135194121993363, -13.85342489270303, -29.322693145191728, -3.8996406653038473, -8.886335356451823, -23.12160648660033, -5.121318741518167, -5.008315138717164, -43.44925288659169, -19.49388774429606, -30.762443556700255, 2.331174253570816, 4.560462919792958, -29.905582458066217, 30.892037623793275, -36.305631626513886, -0.3381368494981085, -32.86272082751847, -21.638869502595604, 1.9565678627789063, 2.36840225640757, 14.330180628900887, -9.037861075731687, 4.964593371078973, -31.371611569311487, 18.73547366918323, -11.918427714416886, 22.445775187661578, -58.18480049094048, 30.01289396733764, 6.852434224196116, -33.87216557279334, 16.346268077069027, -62.905777760129, -19.561123030119226, -13.095830615508172, -32.439396702738335, 58.79591503455906, 3.3127514823748787, -9.732509971491988, 30.84376553206328, -26.694085327244224, 1.2244629127632576, -11.994355895978114, 20.883650369314157, -8.04697730713164, -41.97132320547853, 5.5404124296462705, 25.518442940718696, 5.923277052978231, 41.97749118724663, 51.70172949112847, 16.59774773418721, -5.134713044724993, 30.073283502986083, 4.924325130626679, 21.713060973733768, -24.37858800813307, 20.790655650000236, -35.976311610595246, -4.337913876851256, -9.216385344645644, -12.243750896466382, -17.263055263670445, 49.12459297261591, 3.4091236844572097, -17.114815463610896, -23.522511074490758, -2.7037110533788056, -31.846111762624172, 7.049009736635189, -20.36155239412062, -3.805349741623417, -4.178600155185739, -5.349337062753135, -23.966311435572553, 1.625478989462036, -10.081557686462315, -11.565901305139759, -4.456571667735171, 53.30354199406082, -15.608660266887401, 56.16654275346632, -13.839867253455242, -23.90940191410979, 1.819174808857588, 29.2517490984205, -45.42919508808888, -6.134715532578681, 8.881156075491523, 30.953954334431945, -15.231877470181423, -33.335978443796954, 2.756767416020435, 2.46166890822593, -17.30508388480251, -2.3346870926744985, -28.70778720167121, -10.612784323605405, -30.559206963478893, -30.643011838716255, -28.441055028752626, 49.03316541109197, 9.909240719484963, -40.119626963597035, -16.45777201002227, 28.561278159838704, -46.222627706336304, -1.1465695868246837, 26.20722507076397, -14.909311599449282, 38.450444313499496, -39.019693054180735, -28.10042733551343, -13.426110360161845, 10.934806501559784, -34.518969971149986, -18.228493031886657, -45.05595646391205, 31.736698813002818, -4.5731190342717625, 29.448125551135195, 9.9196765072533, -32.054690854341686, -36.27714885911602, 16.070145822211142, -26.991191479812137, -29.738480418502338, -5.128945748769047, -62.88231673510467, -20.640251793377725, -23.167226460756645, -15.795031176278327, -24.85580269081194, 33.941584253139375, 3.894242479958266, -25.031466435211197, 22.220755268368965, -19.079975935399748, -8.800181253551461, -6.015706213470188, 16.383717986289728, -34.30744256168294, 29.279912194364655, -13.397996267974905, -9.144212035301663, 31.0926428127699, -7.510436481116113, 4.875537256543711, -13.339976947377192, -62.95099117492215, 15.579883811970381, -25.305917292944418, -26.383528914294203, -10.639145325312978, -3.6760267374883044, -45.010732911873966, 16.793679896913623, -9.884961920358155, 28.200282513715607, -3.8042225833951155, -11.080042762263014, -25.243666026172335, -3.349521908321863, 33.95881951739353, -9.496915380799923, -47.99763218801544, -16.98786368756595, -32.44122161845387, 4.018182525687207, -17.5318512242471, -4.614217895345333, 2.284230524617431, -29.50987077431709, 29.986331374259414, -30.348825433557955, -8.819251901732136, 13.785777673043468, 30.04533207046282, -0.15947886645606302, 6.431599123693294, -9.057101138924201, -20.88192849787005, 18.693656108863756, 47.3522830111522, -9.511935856449396, 3.4094858845894724, 4.8989797752435855, -31.058092699037278, -3.3850473813346404, -5.760789732361898, -31.48082174533541, 21.008340739187403, 16.051416907182173, -12.338693115893806, -5.438419366364243, 22.276773666628372, 15.359382686037174, -29.098799044288697, 23.15308642107622, -8.640002736609565, -2.2955273948487336, 10.548918235253806, -27.148594146323582, -17.635192166810775, -59.863475475626466, 0.06124015413350714, -18.55664009211625, -3.17493798930285, -35.899474341517845, -5.2794701140880225, -5.013093422183471, -4.432183934789487, -29.878256642292286, -29.151500864242426, -16.912566259239117, 7.5856428937606255, -7.746873492749345, -8.118632915739145, -22.06211452328158, -18.257149251943556, -37.122167947709535, 12.728825190750731, -20.661800389819206, 24.123005166651847, -31.443695894094088, -31.778205294263845, 9.040746505475132, 49.776590096527, -30.595485055776177, 24.086244813154583, -62.421974642607076, -37.870048325559935, 18.624075648201746, 15.303511050688956, 1.840928584635403, -7.324307290138469, -17.932242380759682, -17.192944160254502, -29.954970357707555, 25.780901092335593, -11.960447035839195, -33.05937078742146, -19.988112158007098, 21.884810306225845, -16.442203151016823, -3.477098382583201, 39.179417740750736, 10.153656659723245, -32.97161279841921, -10.434902405918745, -0.4068413304623647, -33.899499871027544, -26.216283041428152, -9.93887026318992, 53.87657642726038, -30.104184620375683, -20.00019598503309, -45.10610809891389, 17.32335989778061, -6.604407039133128, -34.734330256327, -16.746935723210758, 17.31275503921638, 52.114600122610554, 10.248831577328378, 10.952212823626818, -32.693723537016595, -30.45062637152186], \"xaxis\": \"x\", \"y\": [16.957518218284456, 12.900205397827342, -0.847977804623392, 10.713267286743783, -1.7956265384853618, -17.101262051338196, 37.272358505926704, 13.44613484851676, -3.049524951584011, 17.26280858500223, 24.383439010444032, 30.035993594372496, -18.908957334322093, -12.02700165502994, 28.93038183700392, 12.339570445648544, 4.597089553701719, 12.176463368154092, 17.66555181617837, 6.947532609805968, 22.81529065134261, -1.3989045704185648, 26.47020590077043, -31.696718168987992, 7.039377806390324, -4.086823611438365, -21.4328432193648, -18.067880696931464, -11.299640689062242, 2.3657835692717324, 7.128426281062709, 5.398604779056126, 2.3192393197244456, -1.4742566070575502, -21.821469512548795, 19.36745749396225, 13.353632417365686, 20.37131074051303, -12.845450757545759, 13.99417544222153, -59.6649533987186, 14.512071395831047, -7.891967746709908, 8.272918834715588, -25.126667945799532, 2.1549972797681947, 7.764993174562992, 24.393821105005138, 0.034865636211443486, 23.20209894507151, -11.849670040444856, -57.385026168973255, 6.019090081257091, -18.65940261156217, -42.992420368118154, -29.22972480769858, -6.2053070053070964, 6.165151791842719, 18.180751398757216, 8.27557389838473, 1.9234778098333645, -5.491496646000811, -16.53340540422867, 29.026896896267765, 10.399748387672272, -25.62647212833655, 4.604942228530708, -36.59651582949775, -13.831699837288724, -0.4318298528483722, 13.2315790983246, -5.019332124982111, 26.721779803239283, 19.76592773418149, 2.041046630428545, 0.11091699531580243, 10.65521328994992, 4.652524275153422, 28.826764182985205, -12.006407575295217, 23.35806784476883, 9.620451471995553, 21.55366454638574, -7.656998722527353, -40.82542570617323, 22.05435197633494, 42.795936416276156, 49.98450074239236, 52.462612846628126, -11.20234492385924, 3.2194916311088253, -23.32728508271237, -17.97397342351658, -2.4528695859843075, -21.9478849697499, -23.75203498399401, -25.60418418545903, 7.299973754377079, 4.4728782568855046, 21.87631738807959, 6.541372706116866, -20.19491680093544, -33.15696593841002, 10.883969562708234, -8.969849607618519, -20.0884733111182, 54.7804218555336, 27.44091378259536, -10.70076353570055, -41.35398843640549, 64.49643279345042, -53.09656454477086, 14.2621654658962, -31.104442477908112, -6.834223616861061, 22.70173125180355, 19.082964621173115, 8.878292674554663, -1.3024961732958016, -18.020603143121107, 16.383362157884427, -44.89522850862297, -7.142626931371509, 36.04717425696091, 16.88682656185499, 37.21286498345585, -49.072674765764795, 17.123448684434518, 58.10740809099992, 44.05821131114236, 26.46597961413693, -40.63496723420884, -7.592472294526904, -51.02936457631434, -49.72706761117795, 35.25390763327461, 18.251955095206753, 8.195838586122996, 37.94195848095956, -24.790279826219862, 24.709518073955934, 15.759131655379003, -7.3406028059458, 29.817102839020585, 12.347437385558859, -10.512525847717917, 53.32419582364685, 10.011336363628407, 6.901946777070299, -54.473230385038065, -49.94399405766661, -54.52577361995907, -32.22003084981622, 11.580463007548946, 24.252684044532526, -37.1006242440959, -20.57154920967758, -39.300484765006395, -54.55441877113832, 12.109427713809685, -5.838431483459262, 15.784323862208828, -47.26225401397745, 5.42765290945388, -6.423100613310007, -23.64438392403384, 26.744710659003815, 42.1214910693963, 21.600369992630654, 17.030943693889505, 18.563957307401363, 19.505064719608647, -43.07934524398161, 41.964450112561714, 60.42963999818201, -58.41084203064059, -25.9010941250338, -8.855802372669437, -24.86572970525594, 61.11259408768926, 21.356470524093858, -24.58384856434693, 25.436763482797403, 58.4017865861, -44.38433233452087, 64.55132264455122, -17.694878524034593, 43.661319248026146, 6.691395928094539, -16.438160973568856, -44.99220698078288, -3.8753801721489753, 16.02948484981286, -58.265910280924494, 10.792749665440073, -31.004209886700373, 11.534360941555233, 16.374800344379665, -1.6620776799678503, 7.454468171270052, -17.100668669433052, -6.293136944902672, 21.62586240329001, 25.31130684463141, -25.08074818368386, 7.539222408764087, 19.43398287987102, 21.848493595223733, 60.71510871656905, 13.556661990479903, 8.590412777319901, -7.511774737331482, 17.563312883422913, 38.47945814247197, 28.795981070329937, -0.3638947129089627, -18.15460175654104, 8.904842664385919, 65.2807717987367, 21.79766494610898, 12.61389800702973, -57.00292702129915, 14.386969615311997, -33.041934784833785, -30.88703038641375, -20.772802999231693, -32.0720537300255, 17.488292855404126, -25.478666080280256, 54.83282768591244, -20.141459515548174, 65.83238446363346, -57.94963382127708, 43.85700914645437, 22.32671795288813, -4.207468098777058, 25.683544770664057, 53.73408072727068, 54.83342350474784, 23.379132902576547, 30.086161234182374, 2.3036485861726677, -6.225242050938609, -45.675344026772215, -9.811841268819236, -19.498599482352223, 9.10601282768684, 52.46520269223363, 13.558136395462746, -16.951781146087207, 0.4470194192430983, 8.308733176374135, 8.026263395347854, 57.89591781100343, 4.687677430310924, -18.28576698925799, 26.125201048442822, 15.476953891359363, 3.1023564201141456, 24.365676016964272, 25.407072910640817, 8.072326168817881, 6.617297217218068, -31.952262426539587, 6.860718204851481, 30.068468824598444, -16.114284889256112, 35.19405621752124, 1.3189048383186137, -33.0828881812761, -35.145818133574075, 22.751337550462342, -8.601145381596167, -59.13388490988725, 57.22601558401348, -43.606001261875065, 55.56583749633967, 1.369692511953133, 3.0734105675487307, 7.346646707308061, -39.931389217990024, -23.299805774067416, 7.06407479108282, 16.018626744055364, 54.552742859997096, 25.271031890077865, -37.20458003794997, 2.6586188462355946, -21.16186753140228, -17.099695726645134, 8.753842092588691, -21.897407600728908, 31.760717992063338, -61.32588271426628, 10.12434030887415, 2.837562195468489, 13.971157156464379, -53.598870175696824, 14.283962769666623, 65.85153103523723, -36.99265284432341, -6.677207363690013, 0.91962268315011, -9.083670506744227, 61.65930680191436, 54.69746717065798, 39.33483130298477, -45.60716762312119, 25.455790592291194, -50.645626184421566, 61.353039646652434, 22.012817072320694, -53.986448493210105, 12.164050663320147, -55.83162786426918, 36.8837698139891, -22.04047883161789, -19.40002753009243, -10.377497149760828, 57.043744869199735, -11.696201035113852, 7.808200995400427, -13.934788732699287, 18.380499406106193, 62.233431505439036, 62.831013048255, 1.9706004991677735, 6.821911003135618, -8.192017081405096, 10.212802435467992, 7.879973623480809, 10.375128589887666, 40.054997092505076, 4.08390746729535, 41.53829893766132, 19.772536914775845, 23.105211737129537, 6.785760262206101, -12.60950299358822, 26.83914677247843, -30.039546341772905, 46.92052408567695, -0.5644262018004009, -33.611468085252234, 35.336182125658084, -49.42027282734392, -19.08624838249855, 35.79390445179064, -34.89962004305575, 0.4754408423982592, -37.77024713043262, 61.4362502898647, -5.522553740190913, 28.800696640727686, 36.79083037106961, -33.63288999400677, 5.920516440330038, 2.9421315178194876, 6.5461566051985365, -18.960870869483465, 7.045222472384465, 24.61807269256484, 11.350935956638493, 49.75546331179495, 5.2792197354598756, 34.92387277864633, 35.33182739726033, 24.420243660720597, -2.3134783454351946, -39.8976444226675, -15.89550240728365, 10.163465868602417, 19.228142920265476, 2.375988823368739, -5.859474154785883, -49.2427631860659, 58.008072030079, 7.781070497272908, -57.77305609331824, 17.84864645298226, -53.37559110025536, 3.4044111488628346, 16.971548381922982, 5.401623847024852, -7.458803485744854, -52.77655470390257, -45.74882449981195, 0.5913026432210682, 19.284502304834714, -56.97536434117015, 7.2635850009540475, -9.126726028359226, -54.41364505896367, 24.462308866782923, -45.2275940854888, -10.09779777984006, -15.286932538039824, -8.519556974399544, 29.158343403062652, 38.479846807724044, 35.4132762875275, 28.958752604556867, -38.12187013388789, -49.10297369591218, -13.092166532040729, 25.785530527872265, 34.239303108524965, -24.83766986139272, -1.6019253763302757, 8.05505432358731, 22.718635681114012, 21.596531840484158, -4.199259412405854, 21.76866360337859, 11.143331443448654, -14.461769582480235, -34.82401960791139, -0.808596740978631, 18.074907260651823, 38.20217405406597, -45.54813884774037, -18.33052801881927, 42.07178649490952, -42.95001951730819, 19.11782413593037, -37.87954840440351, -54.06241046993307, 2.891848019943799, -11.829855779095535, 35.36864487557462, 3.48173020019314, -0.9883460862009734, -20.363784042220036, -19.510930812807874, 32.38874830220864, 3.4551678846151797, 26.936865536706335, 23.020235816721392, 29.06221156238119, 65.58450263861027, 8.872843082528568, 36.890511958598196, -53.91612796904571, -8.13321545939189, -9.761623311669192, 2.1620555664568624, -50.40448281139416, -10.376600918978692, -54.01084116730883, 55.4599132605141, 21.91309618460141, -35.086680975446455, -32.064794214248295, 0.6206314878229077, 17.51718087747876, -9.76086354753439, -32.047256995793234, -32.73534248340679, -41.38088506779948, 10.410677628293056, -13.109636800301697, 17.68159008907522, 3.7973253581395, -34.39368308829146, 1.9136311975322398, -8.601988531859138, 8.710639637140588, -14.7108229338664, -35.26624771288908, 24.812420391872653, 11.216843620590993, 10.246279007008939, -49.33446535964293, -36.145716347841294, -30.006685484941357, -42.47074242559626, 13.588755776254596, -29.068971402265575, 33.547004932997844, -2.2236217836000924, 20.83286547786897, 25.81688028892282, 28.953683018696545, -37.77022079481095, 23.992049353809204, -34.50282158379524, 14.977148887422572, 10.69341920287534, -30.01266520756461, -3.186752641175379, 4.2224461506728055, 32.36161411968564, 20.978304015914162, 31.89664020956372, 3.8118387037021435, 14.99896715373741, 4.957565433492267, -18.85132052822304, -34.14185494020379, 32.18017289931071], \"yaxis\": \"y\"}],                        {\"height\": 800, \"legend\": {\"tracegroupgap\": 0}, \"margin\": {\"t\": 60}, \"template\": {\"data\": {\"bar\": [{\"error_x\": {\"color\": \"#2a3f5f\"}, \"error_y\": {\"color\": \"#2a3f5f\"}, \"marker\": {\"line\": {\"color\": \"#E5ECF6\", \"width\": 0.5}}, \"type\": \"bar\"}], \"barpolar\": [{\"marker\": {\"line\": {\"color\": \"#E5ECF6\", \"width\": 0.5}}, \"type\": \"barpolar\"}], \"carpet\": [{\"aaxis\": {\"endlinecolor\": \"#2a3f5f\", \"gridcolor\": \"white\", \"linecolor\": \"white\", \"minorgridcolor\": \"white\", \"startlinecolor\": \"#2a3f5f\"}, \"baxis\": {\"endlinecolor\": \"#2a3f5f\", \"gridcolor\": \"white\", \"linecolor\": \"white\", \"minorgridcolor\": \"white\", \"startlinecolor\": \"#2a3f5f\"}, \"type\": \"carpet\"}], \"choropleth\": [{\"colorbar\": {\"outlinewidth\": 0, \"ticks\": \"\"}, \"type\": \"choropleth\"}], \"contour\": [{\"colorbar\": {\"outlinewidth\": 0, \"ticks\": \"\"}, \"colorscale\": [[0.0, \"#0d0887\"], [0.1111111111111111, \"#46039f\"], [0.2222222222222222, \"#7201a8\"], [0.3333333333333333, \"#9c179e\"], [0.4444444444444444, \"#bd3786\"], [0.5555555555555556, \"#d8576b\"], [0.6666666666666666, \"#ed7953\"], [0.7777777777777778, \"#fb9f3a\"], [0.8888888888888888, \"#fdca26\"], [1.0, \"#f0f921\"]], \"type\": \"contour\"}], \"contourcarpet\": [{\"colorbar\": {\"outlinewidth\": 0, \"ticks\": \"\"}, \"type\": \"contourcarpet\"}], \"heatmap\": [{\"colorbar\": {\"outlinewidth\": 0, \"ticks\": \"\"}, \"colorscale\": [[0.0, \"#0d0887\"], [0.1111111111111111, \"#46039f\"], [0.2222222222222222, \"#7201a8\"], [0.3333333333333333, \"#9c179e\"], [0.4444444444444444, \"#bd3786\"], [0.5555555555555556, \"#d8576b\"], [0.6666666666666666, \"#ed7953\"], [0.7777777777777778, \"#fb9f3a\"], [0.8888888888888888, \"#fdca26\"], [1.0, \"#f0f921\"]], \"type\": \"heatmap\"}], \"heatmapgl\": [{\"colorbar\": {\"outlinewidth\": 0, \"ticks\": \"\"}, \"colorscale\": [[0.0, \"#0d0887\"], [0.1111111111111111, \"#46039f\"], [0.2222222222222222, \"#7201a8\"], [0.3333333333333333, \"#9c179e\"], [0.4444444444444444, \"#bd3786\"], [0.5555555555555556, \"#d8576b\"], [0.6666666666666666, \"#ed7953\"], [0.7777777777777778, \"#fb9f3a\"], [0.8888888888888888, \"#fdca26\"], [1.0, \"#f0f921\"]], \"type\": \"heatmapgl\"}], \"histogram\": [{\"marker\": {\"colorbar\": {\"outlinewidth\": 0, \"ticks\": \"\"}}, \"type\": \"histogram\"}], \"histogram2d\": [{\"colorbar\": {\"outlinewidth\": 0, \"ticks\": \"\"}, \"colorscale\": [[0.0, \"#0d0887\"], [0.1111111111111111, \"#46039f\"], [0.2222222222222222, \"#7201a8\"], [0.3333333333333333, \"#9c179e\"], [0.4444444444444444, \"#bd3786\"], [0.5555555555555556, \"#d8576b\"], [0.6666666666666666, \"#ed7953\"], [0.7777777777777778, \"#fb9f3a\"], [0.8888888888888888, \"#fdca26\"], [1.0, \"#f0f921\"]], \"type\": \"histogram2d\"}], \"histogram2dcontour\": [{\"colorbar\": {\"outlinewidth\": 0, \"ticks\": \"\"}, \"colorscale\": [[0.0, \"#0d0887\"], [0.1111111111111111, \"#46039f\"], [0.2222222222222222, \"#7201a8\"], [0.3333333333333333, \"#9c179e\"], [0.4444444444444444, \"#bd3786\"], [0.5555555555555556, \"#d8576b\"], [0.6666666666666666, \"#ed7953\"], [0.7777777777777778, \"#fb9f3a\"], [0.8888888888888888, \"#fdca26\"], [1.0, \"#f0f921\"]], \"type\": \"histogram2dcontour\"}], \"mesh3d\": [{\"colorbar\": {\"outlinewidth\": 0, \"ticks\": \"\"}, \"type\": \"mesh3d\"}], \"parcoords\": [{\"line\": {\"colorbar\": {\"outlinewidth\": 0, \"ticks\": \"\"}}, \"type\": \"parcoords\"}], \"pie\": [{\"automargin\": true, \"type\": \"pie\"}], \"scatter\": [{\"marker\": {\"colorbar\": {\"outlinewidth\": 0, \"ticks\": \"\"}}, \"type\": \"scatter\"}], \"scatter3d\": [{\"line\": {\"colorbar\": {\"outlinewidth\": 0, \"ticks\": \"\"}}, \"marker\": {\"colorbar\": {\"outlinewidth\": 0, \"ticks\": \"\"}}, \"type\": \"scatter3d\"}], \"scattercarpet\": [{\"marker\": {\"colorbar\": {\"outlinewidth\": 0, \"ticks\": \"\"}}, \"type\": \"scattercarpet\"}], \"scattergeo\": [{\"marker\": {\"colorbar\": {\"outlinewidth\": 0, \"ticks\": \"\"}}, \"type\": \"scattergeo\"}], \"scattergl\": [{\"marker\": {\"colorbar\": {\"outlinewidth\": 0, \"ticks\": \"\"}}, \"type\": \"scattergl\"}], \"scattermapbox\": [{\"marker\": {\"colorbar\": {\"outlinewidth\": 0, \"ticks\": \"\"}}, \"type\": \"scattermapbox\"}], \"scatterpolar\": [{\"marker\": {\"colorbar\": {\"outlinewidth\": 0, \"ticks\": \"\"}}, \"type\": \"scatterpolar\"}], \"scatterpolargl\": [{\"marker\": {\"colorbar\": {\"outlinewidth\": 0, \"ticks\": \"\"}}, \"type\": \"scatterpolargl\"}], \"scatterternary\": [{\"marker\": {\"colorbar\": {\"outlinewidth\": 0, \"ticks\": \"\"}}, \"type\": \"scatterternary\"}], \"surface\": [{\"colorbar\": {\"outlinewidth\": 0, \"ticks\": \"\"}, \"colorscale\": [[0.0, \"#0d0887\"], [0.1111111111111111, \"#46039f\"], [0.2222222222222222, \"#7201a8\"], [0.3333333333333333, \"#9c179e\"], [0.4444444444444444, \"#bd3786\"], [0.5555555555555556, \"#d8576b\"], [0.6666666666666666, \"#ed7953\"], [0.7777777777777778, \"#fb9f3a\"], [0.8888888888888888, \"#fdca26\"], [1.0, \"#f0f921\"]], \"type\": \"surface\"}], \"table\": [{\"cells\": {\"fill\": {\"color\": \"#EBF0F8\"}, \"line\": {\"color\": \"white\"}}, \"header\": {\"fill\": {\"color\": \"#C8D4E3\"}, \"line\": {\"color\": \"white\"}}, \"type\": \"table\"}]}, \"layout\": {\"annotationdefaults\": {\"arrowcolor\": \"#2a3f5f\", \"arrowhead\": 0, \"arrowwidth\": 1}, \"autotypenumbers\": \"strict\", \"coloraxis\": {\"colorbar\": {\"outlinewidth\": 0, \"ticks\": \"\"}}, \"colorscale\": {\"diverging\": [[0, \"#8e0152\"], [0.1, \"#c51b7d\"], [0.2, \"#de77ae\"], [0.3, \"#f1b6da\"], [0.4, \"#fde0ef\"], [0.5, \"#f7f7f7\"], [0.6, \"#e6f5d0\"], [0.7, \"#b8e186\"], [0.8, \"#7fbc41\"], [0.9, \"#4d9221\"], [1, \"#276419\"]], \"sequential\": [[0.0, \"#0d0887\"], [0.1111111111111111, \"#46039f\"], [0.2222222222222222, \"#7201a8\"], [0.3333333333333333, \"#9c179e\"], [0.4444444444444444, \"#bd3786\"], [0.5555555555555556, \"#d8576b\"], [0.6666666666666666, \"#ed7953\"], [0.7777777777777778, \"#fb9f3a\"], [0.8888888888888888, \"#fdca26\"], [1.0, \"#f0f921\"]], \"sequentialminus\": [[0.0, \"#0d0887\"], [0.1111111111111111, \"#46039f\"], [0.2222222222222222, \"#7201a8\"], [0.3333333333333333, \"#9c179e\"], [0.4444444444444444, \"#bd3786\"], [0.5555555555555556, \"#d8576b\"], [0.6666666666666666, \"#ed7953\"], [0.7777777777777778, \"#fb9f3a\"], [0.8888888888888888, \"#fdca26\"], [1.0, \"#f0f921\"]]}, \"colorway\": [\"#636efa\", \"#EF553B\", \"#00cc96\", \"#ab63fa\", \"#FFA15A\", \"#19d3f3\", \"#FF6692\", \"#B6E880\", \"#FF97FF\", \"#FECB52\"], \"font\": {\"color\": \"#2a3f5f\"}, \"geo\": {\"bgcolor\": \"white\", \"lakecolor\": \"white\", \"landcolor\": \"#E5ECF6\", \"showlakes\": true, \"showland\": true, \"subunitcolor\": \"white\"}, \"hoverlabel\": {\"align\": \"left\"}, \"hovermode\": \"closest\", \"mapbox\": {\"style\": \"light\"}, \"paper_bgcolor\": \"white\", \"plot_bgcolor\": \"#E5ECF6\", \"polar\": {\"angularaxis\": {\"gridcolor\": \"white\", \"linecolor\": \"white\", \"ticks\": \"\"}, \"bgcolor\": \"#E5ECF6\", \"radialaxis\": {\"gridcolor\": \"white\", \"linecolor\": \"white\", \"ticks\": \"\"}}, \"scene\": {\"xaxis\": {\"backgroundcolor\": \"#E5ECF6\", \"gridcolor\": \"white\", \"gridwidth\": 2, \"linecolor\": \"white\", \"showbackground\": true, \"ticks\": \"\", \"zerolinecolor\": \"white\"}, \"yaxis\": {\"backgroundcolor\": \"#E5ECF6\", \"gridcolor\": \"white\", \"gridwidth\": 2, \"linecolor\": \"white\", \"showbackground\": true, \"ticks\": \"\", \"zerolinecolor\": \"white\"}, \"zaxis\": {\"backgroundcolor\": \"#E5ECF6\", \"gridcolor\": \"white\", \"gridwidth\": 2, \"linecolor\": \"white\", \"showbackground\": true, \"ticks\": \"\", \"zerolinecolor\": \"white\"}}, \"shapedefaults\": {\"line\": {\"color\": \"#2a3f5f\"}}, \"ternary\": {\"aaxis\": {\"gridcolor\": \"white\", \"linecolor\": \"white\", \"ticks\": \"\"}, \"baxis\": {\"gridcolor\": \"white\", \"linecolor\": \"white\", \"ticks\": \"\"}, \"bgcolor\": \"#E5ECF6\", \"caxis\": {\"gridcolor\": \"white\", \"linecolor\": \"white\", \"ticks\": \"\"}}, \"title\": {\"x\": 0.05}, \"xaxis\": {\"automargin\": true, \"gridcolor\": \"white\", \"linecolor\": \"white\", \"ticks\": \"\", \"title\": {\"standoff\": 15}, \"zerolinecolor\": \"white\", \"zerolinewidth\": 2}, \"yaxis\": {\"automargin\": true, \"gridcolor\": \"white\", \"linecolor\": \"white\", \"ticks\": \"\", \"title\": {\"standoff\": 15}, \"zerolinecolor\": \"white\", \"zerolinewidth\": 2}}}, \"title\": {\"text\": \"Word2vec freebase-vectors-skipgram1000\"}, \"xaxis\": {\"anchor\": \"y\", \"domain\": [0.0, 1.0], \"title\": {\"text\": \"x\"}, \"type\": \"log\"}, \"yaxis\": {\"anchor\": \"x\", \"domain\": [0.0, 1.0], \"title\": {\"text\": \"y\"}}},                        {\"responsive\": true}                    ).then(function(){\n",
       "                            \n",
       "var gd = document.getElementById('1220fa90-8404-4a5e-bbbc-ebd3d8a42f90');\n",
       "var x = new MutationObserver(function (mutations, observer) {{\n",
       "        var display = window.getComputedStyle(gd).display;\n",
       "        if (!display || display === 'none') {{\n",
       "            console.log([gd, 'removed!']);\n",
       "            Plotly.purge(gd);\n",
       "            observer.disconnect();\n",
       "        }}\n",
       "}});\n",
       "\n",
       "// Listen for the removal of the full notebook cells\n",
       "var notebookContainer = gd.closest('#notebook-container');\n",
       "if (notebookContainer) {{\n",
       "    x.observe(notebookContainer, {childList: true});\n",
       "}}\n",
       "\n",
       "// Listen for the clearing of the current output cell\n",
       "var outputEl = gd.closest('.output');\n",
       "if (outputEl) {{\n",
       "    x.observe(outputEl, {childList: true});\n",
       "}}\n",
       "\n",
       "                        })                };                });            </script>        </div>"
      ]
     },
     "metadata": {},
     "output_type": "display_data"
    }
   ],
   "source": [
    "import plotly.express as px\n",
    "\n",
    "\n",
    "\n",
    "fig = px.scatter(df, x=transformed_vectors[:500,0], y=transformed_vectors[:500,1], text=model.index2word[:500], log_x=True, size_max=500)\n",
    "\n",
    "fig.update_traces(textposition='top center')\n",
    "\n",
    "fig.update_layout(\n",
    "    height=800,\n",
    "    title_text='Word2vec freebase-vectors-skipgram1000'\n",
    ")\n",
    "\n",
    "fig.show()"
   ]
  },
  {
   "cell_type": "code",
   "execution_count": 18,
   "metadata": {},
   "outputs": [
    {
     "data": {
      "text/plain": [
       "<torch._C.Generator at 0x20152eb7110>"
      ]
     },
     "execution_count": 18,
     "metadata": {},
     "output_type": "execute_result"
    }
   ],
   "source": [
    "\n",
    "import torch\n",
    "import torch.autograd as autograd\n",
    "import torch.nn as nn\n",
    "import torch.nn.functional as F\n",
    "import torch.optim as optim\n",
    "\n",
    "torch.manual_seed(1)"
   ]
  },
  {
   "cell_type": "code",
   "execution_count": 19,
   "metadata": {},
   "outputs": [
    {
     "name": "stdout",
     "output_type": "stream",
     "text": [
      "tensor([1., 2., 3.])\n",
      "tensor([[1., 2., 3.],\n",
      "        [4., 5., 6.]])\n",
      "tensor([[[1., 2.],\n",
      "         [3., 4.]],\n",
      "\n",
      "        [[5., 6.],\n",
      "         [7., 8.]]])\n"
     ]
    }
   ],
   "source": [
    "# torch.tensor(data) создает объект torch.Tensor с заданными данными.\n",
    "vector_list = [1., 2., 3.]\n",
    "vector = torch.tensor(vector_list)\n",
    "print(vector)\n",
    "\n",
    "# Создает матрицу\n",
    "matrix_list = [[1., 2., 3.], [4., 5., 6]]\n",
    "matrix = torch.tensor(matrix_list)\n",
    "print(matrix)\n",
    "\n",
    "# Создает 3D тензор размера 2x2x2.\n",
    "tensor_list = [[[1., 2.], [3., 4.]],\n",
    "          [[5., 6.], [7., 8.]]]\n",
    "tensor = torch.tensor(tensor_list)\n",
    "print(tensor)"
   ]
  },
  {
   "cell_type": "code",
   "execution_count": 20,
   "metadata": {},
   "outputs": [],
   "source": [
    "tensor_list=torch.tensor([[1,5,3], [2,3,4]])"
   ]
  },
  {
   "cell_type": "code",
   "execution_count": 23,
   "metadata": {},
   "outputs": [
    {
     "name": "stdout",
     "output_type": "stream",
     "text": [
      "tensor([5, 3])\n"
     ]
    }
   ],
   "source": [
    "print(tensor_list[:,1])"
   ]
  },
  {
   "cell_type": "code",
   "execution_count": 33,
   "metadata": {},
   "outputs": [
    {
     "data": {
      "text/plain": [
       "tensor([[1, 5, 3, 2, 3, 4]])"
      ]
     },
     "execution_count": 33,
     "metadata": {},
     "output_type": "execute_result"
    }
   ],
   "source": [
    "tensor_list.view(6,1).T"
   ]
  },
  {
   "cell_type": "code",
   "execution_count": 69,
   "metadata": {},
   "outputs": [],
   "source": [
    "t=torch.tensor([[1,5,3], [2,3,4]])"
   ]
  },
  {
   "cell_type": "code",
   "execution_count": 35,
   "metadata": {},
   "outputs": [],
   "source": [
    "if torch.cuda.is_available():\n",
    "    t = tensor.to('cuda')"
   ]
  },
  {
   "cell_type": "code",
   "execution_count": 66,
   "metadata": {
    "scrolled": true
   },
   "outputs": [
    {
     "data": {
      "text/plain": [
       "tensor([[1, 3, 3],\n",
       "        [2, 5, 4]])"
      ]
     },
     "execution_count": 66,
     "metadata": {},
     "output_type": "execute_result"
    }
   ],
   "source": [
    "torch.stack([t[:,0], torch.stack([t[1,1], t[0,1]]), t[:,2]]).T"
   ]
  },
  {
   "cell_type": "code",
   "execution_count": 65,
   "metadata": {},
   "outputs": [
    {
     "data": {
      "text/plain": [
       "tensor([[1, 5, 3],\n",
       "        [2, 3, 4]])"
      ]
     },
     "execution_count": 65,
     "metadata": {},
     "output_type": "execute_result"
    }
   ],
   "source": [
    "t"
   ]
  },
  {
   "cell_type": "code",
   "execution_count": 58,
   "metadata": {},
   "outputs": [
    {
     "ename": "RuntimeError",
     "evalue": "zero-dimensional tensor (at position 0) cannot be concatenated",
     "output_type": "error",
     "traceback": [
      "\u001b[1;31m---------------------------------------------------------------------------\u001b[0m",
      "\u001b[1;31mRuntimeError\u001b[0m                              Traceback (most recent call last)",
      "\u001b[1;32m<ipython-input-58-468be17202ef>\u001b[0m in \u001b[0;36m<module>\u001b[1;34m\u001b[0m\n\u001b[1;32m----> 1\u001b[1;33m \u001b[0mtorch\u001b[0m\u001b[1;33m.\u001b[0m\u001b[0mcat\u001b[0m\u001b[1;33m(\u001b[0m\u001b[1;33m[\u001b[0m\u001b[0mtensor_list\u001b[0m\u001b[1;33m[\u001b[0m\u001b[1;36m0\u001b[0m\u001b[1;33m,\u001b[0m\u001b[1;36m1\u001b[0m\u001b[1;33m]\u001b[0m\u001b[1;33m,\u001b[0m \u001b[0mtensor_list\u001b[0m\u001b[1;33m[\u001b[0m\u001b[1;36m1\u001b[0m\u001b[1;33m,\u001b[0m\u001b[1;36m1\u001b[0m\u001b[1;33m]\u001b[0m\u001b[1;33m]\u001b[0m\u001b[1;33m,\u001b[0m\u001b[1;33m-\u001b[0m\u001b[1;36m1\u001b[0m\u001b[1;33m)\u001b[0m\u001b[1;33m\u001b[0m\u001b[1;33m\u001b[0m\u001b[0m\n\u001b[0m",
      "\u001b[1;31mRuntimeError\u001b[0m: zero-dimensional tensor (at position 0) cannot be concatenated"
     ]
    }
   ],
   "source": [
    "torch.cat([tensor_list[0,1], tensor_list[1,1]],-1)"
   ]
  },
  {
   "cell_type": "code",
   "execution_count": 63,
   "metadata": {},
   "outputs": [
    {
     "data": {
      "text/plain": [
       "tensor([[1, 2],\n",
       "        [3, 4]])"
      ]
     },
     "execution_count": 63,
     "metadata": {},
     "output_type": "execute_result"
    }
   ],
   "source": [
    "torch.stack([tensor_list[:,0], tensor_list[:,2]],0)"
   ]
  },
  {
   "cell_type": "code",
   "execution_count": 70,
   "metadata": {},
   "outputs": [],
   "source": [
    "t[t>3] = 10"
   ]
  },
  {
   "cell_type": "code",
   "execution_count": 71,
   "metadata": {},
   "outputs": [
    {
     "data": {
      "text/plain": [
       "tensor([[ 1, 10,  3],\n",
       "        [ 2,  3, 10]])"
      ]
     },
     "execution_count": 71,
     "metadata": {},
     "output_type": "execute_result"
    }
   ],
   "source": [
    "t"
   ]
  },
  {
   "cell_type": "code",
   "execution_count": null,
   "metadata": {},
   "outputs": [],
   "source": []
  }
 ],
 "metadata": {
  "kernelspec": {
   "display_name": "Python 3",
   "language": "python",
   "name": "python3"
  },
  "language_info": {
   "codemirror_mode": {
    "name": "ipython",
    "version": 3
   },
   "file_extension": ".py",
   "mimetype": "text/x-python",
   "name": "python",
   "nbconvert_exporter": "python",
   "pygments_lexer": "ipython3",
   "version": "3.7.9"
  }
 },
 "nbformat": 4,
 "nbformat_minor": 2
}
