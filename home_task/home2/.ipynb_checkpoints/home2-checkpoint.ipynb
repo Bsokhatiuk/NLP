{
 "cells": [
  {
   "cell_type": "code",
   "execution_count": 1,
   "metadata": {},
   "outputs": [],
   "source": [
    "import time\n",
    "import gensim\n",
    "from gensim.models import Word2Vec\n",
    "import textblob\n",
    "import re\n",
    "from sklearn.datasets import fetch_20newsgroups"
   ]
  },
  {
   "cell_type": "code",
   "execution_count": 2,
   "metadata": {},
   "outputs": [],
   "source": [
    "train = fetch_20newsgroups()\n",
    "test = fetch_20newsgroups(subset=\"test\")"
   ]
  },
  {
   "cell_type": "code",
   "execution_count": 3,
   "metadata": {},
   "outputs": [
    {
     "data": {
      "text/plain": [
       "11314"
      ]
     },
     "execution_count": 3,
     "metadata": {},
     "output_type": "execute_result"
    }
   ],
   "source": [
    "len (train['data'])"
   ]
  },
  {
   "cell_type": "code",
   "execution_count": 4,
   "metadata": {
    "scrolled": true
   },
   "outputs": [],
   "source": [
    "total_text=\"\"\n",
    "for dater in train['data']:\n",
    "    total_text= total_text + dater\n",
    "    "
   ]
  },
  {
   "cell_type": "code",
   "execution_count": 5,
   "metadata": {},
   "outputs": [],
   "source": [
    "from nltk import word_tokenize\n",
    "\n",
    "tokenized_text = word_tokenize(total_text)\n"
   ]
  },
  {
   "cell_type": "code",
   "execution_count": 29,
   "metadata": {
    "scrolled": true
   },
   "outputs": [
    {
     "data": {
      "text/plain": [
       "['From',\n",
       " ':',\n",
       " 'lerxst',\n",
       " '@',\n",
       " 'wam.umd.edu',\n",
       " '(',\n",
       " 'where',\n",
       " \"'s\",\n",
       " 'my',\n",
       " 'thing',\n",
       " ')',\n",
       " 'Subject',\n",
       " ':',\n",
       " 'WHAT',\n",
       " 'car',\n",
       " 'is',\n",
       " 'this',\n",
       " '!',\n",
       " '?',\n",
       " 'Nntp-Posting-Host',\n",
       " ':',\n",
       " 'rac3.wam.umd.edu',\n",
       " 'Organization',\n",
       " ':',\n",
       " 'University',\n",
       " 'of',\n",
       " 'Maryland',\n",
       " ',',\n",
       " 'College',\n",
       " 'Park',\n",
       " 'Lines',\n",
       " ':',\n",
       " '15',\n",
       " 'I',\n",
       " 'was',\n",
       " 'wondering',\n",
       " 'if',\n",
       " 'anyone',\n",
       " 'out',\n",
       " 'there',\n",
       " 'could',\n",
       " 'enlighten',\n",
       " 'me',\n",
       " 'on',\n",
       " 'this',\n",
       " 'car',\n",
       " 'I',\n",
       " 'saw',\n",
       " 'the',\n",
       " 'other',\n",
       " 'day',\n",
       " '.',\n",
       " 'It',\n",
       " 'was',\n",
       " 'a',\n",
       " '2-door',\n",
       " 'sports',\n",
       " 'car',\n",
       " ',',\n",
       " 'looked',\n",
       " 'to',\n",
       " 'be',\n",
       " 'from',\n",
       " 'the',\n",
       " 'late',\n",
       " '60s/',\n",
       " 'early',\n",
       " '70s',\n",
       " '.',\n",
       " 'It',\n",
       " 'was',\n",
       " 'called',\n",
       " 'a',\n",
       " 'Bricklin',\n",
       " '.',\n",
       " 'The',\n",
       " 'doors',\n",
       " 'were',\n",
       " 'really',\n",
       " 'small',\n",
       " '.',\n",
       " 'In',\n",
       " 'addition',\n",
       " ',',\n",
       " 'the',\n",
       " 'front',\n",
       " 'bumper',\n",
       " 'was',\n",
       " 'separate',\n",
       " 'from',\n",
       " 'the',\n",
       " 'rest',\n",
       " 'of',\n",
       " 'the',\n",
       " 'body',\n",
       " '.',\n",
       " 'This',\n",
       " 'is',\n",
       " 'all',\n",
       " 'I',\n",
       " 'know',\n",
       " '.',\n",
       " 'If',\n",
       " 'anyone',\n",
       " 'can',\n",
       " 'tellme',\n",
       " 'a',\n",
       " 'model',\n",
       " 'name',\n",
       " ',',\n",
       " 'engine',\n",
       " 'specs',\n",
       " ',',\n",
       " 'years',\n",
       " 'of',\n",
       " 'production',\n",
       " ',',\n",
       " 'where',\n",
       " 'this',\n",
       " 'car',\n",
       " 'is',\n",
       " 'made',\n",
       " ',',\n",
       " 'history',\n",
       " ',',\n",
       " 'or',\n",
       " 'whatever',\n",
       " 'info',\n",
       " 'you',\n",
       " 'have',\n",
       " 'on',\n",
       " 'this',\n",
       " 'funky',\n",
       " 'looking',\n",
       " 'car',\n",
       " ',',\n",
       " 'please',\n",
       " 'e-mail',\n",
       " '.',\n",
       " 'Thanks',\n",
       " ',',\n",
       " '-',\n",
       " 'IL',\n",
       " '--',\n",
       " '--',\n",
       " 'brought',\n",
       " 'to',\n",
       " 'you',\n",
       " 'by',\n",
       " 'your',\n",
       " 'neighborhood',\n",
       " 'Lerxst',\n",
       " '--',\n",
       " '--']"
      ]
     },
     "execution_count": 29,
     "metadata": {},
     "output_type": "execute_result"
    }
   ],
   "source": [
    "tokenized_text[0]"
   ]
  },
  {
   "cell_type": "code",
   "execution_count": 18,
   "metadata": {},
   "outputs": [],
   "source": [
    "w2v_model = Word2Vec(min_count=2,\n",
    "                     window=5,\n",
    "                     size=100,\n",
    "                     sample=6e-5, \n",
    "                     alpha=0.03, \n",
    "                     min_alpha=0.0007, \n",
    "                     negative=20,\n",
    "                     workers=4)"
   ]
  },
  {
   "cell_type": "code",
   "execution_count": 20,
   "metadata": {},
   "outputs": [],
   "source": [
    "w2v_model.build_vocab(tokenized_text, progress_per=10000)"
   ]
  },
  {
   "cell_type": "code",
   "execution_count": 22,
   "metadata": {},
   "outputs": [
    {
     "data": {
      "text/plain": [
       "(61693499, 141674400)"
      ]
     },
     "execution_count": 22,
     "metadata": {},
     "output_type": "execute_result"
    }
   ],
   "source": [
    "w2v_model.train(tokenized_text, total_examples=w2v_model.corpus_count, epochs=30, report_delay=1)"
   ]
  },
  {
   "cell_type": "code",
   "execution_count": 23,
   "metadata": {},
   "outputs": [],
   "source": [
    "words = list(w2v_model.wv.vocab)"
   ]
  },
  {
   "cell_type": "code",
   "execution_count": 28,
   "metadata": {},
   "outputs": [
    {
     "name": "stderr",
     "output_type": "stream",
     "text": [
      "C:\\Users\\Lost\\Anaconda3\\lib\\site-packages\\ipykernel_launcher.py:1: DeprecationWarning: Call to deprecated `similar_by_word` (Method will be removed in 4.0.0, use self.wv.similar_by_word() instead).\n",
      "  \"\"\"Entry point for launching an IPython kernel.\n"
     ]
    },
    {
     "data": {
      "text/plain": [
       "[('Igor', 0.5007702708244324),\n",
       " ('office', 0.5000742673873901),\n",
       " ('stayed', 0.47557005286216736),\n",
       " ('beach', 0.4733869135379791),\n",
       " ('daughters', 0.4534949064254761),\n",
       " ('apartment', 0.4443368911743164),\n",
       " ('back', 0.44206225872039795),\n",
       " ('walking', 0.44177043437957764),\n",
       " ('grabbed', 0.4360637068748474),\n",
       " ('park', 0.43364638090133667)]"
      ]
     },
     "execution_count": 28,
     "metadata": {},
     "output_type": "execute_result"
    }
   ],
   "source": [
    "w2v_model.similar_by_word('home')"
   ]
  },
  {
   "cell_type": "code",
   "execution_count": 92,
   "metadata": {},
   "outputs": [
    {
     "data": {
      "text/plain": [
       "128"
      ]
     },
     "execution_count": 92,
     "metadata": {},
     "output_type": "execute_result"
    }
   ],
   "source": [
    "len(words)"
   ]
  },
  {
   "cell_type": "code",
   "execution_count": 93,
   "metadata": {},
   "outputs": [
    {
     "data": {
      "text/plain": [
       "'r'"
      ]
     },
     "execution_count": 93,
     "metadata": {},
     "output_type": "execute_result"
    }
   ],
   "source": [
    "words[1]"
   ]
  },
  {
   "cell_type": "code",
   "execution_count": null,
   "metadata": {},
   "outputs": [],
   "source": []
  }
 ],
 "metadata": {
  "kernelspec": {
   "display_name": "Python 3",
   "language": "python",
   "name": "python3"
  },
  "language_info": {
   "codemirror_mode": {
    "name": "ipython",
    "version": 3
   },
   "file_extension": ".py",
   "mimetype": "text/x-python",
   "name": "python",
   "nbconvert_exporter": "python",
   "pygments_lexer": "ipython3",
   "version": "3.7.9"
  }
 },
 "nbformat": 4,
 "nbformat_minor": 2
}
